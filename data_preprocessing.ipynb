{
 "cells": [
  {
   "cell_type": "code",
   "execution_count": 1,
   "metadata": {},
   "outputs": [],
   "source": [
    "import sqlite3\n",
    "import pandas as pd\n",
    "import numpy as np\n",
    "from pathlib import Path\n",
    "from modules.utils.data_processing import get_match_label\n",
    "\n",
    "from sklearn.feature_selection import SelectKBest\n",
    "from sklearn.feature_selection import chi2"
   ]
  },
  {
   "cell_type": "markdown",
   "metadata": {},
   "source": [
    "### Create database connection"
   ]
  },
  {
   "cell_type": "code",
   "execution_count": 2,
   "metadata": {},
   "outputs": [],
   "source": [
    "database_path = \"datasets/database.sqlite\"\n",
    "conn = sqlite3.connect(database_path)"
   ]
  },
  {
   "cell_type": "markdown",
   "metadata": {},
   "source": [
    "### Read data from database"
   ]
  },
  {
   "cell_type": "code",
   "execution_count": 3,
   "metadata": {},
   "outputs": [],
   "source": [
    "match_data_sql = '''select * from Match '''\n",
    "team_attributes_sql = '''select * from Team_Attributes'''\n",
    "player_attributes_sql = '''select player_api_id, overall_rating from Player_Attributes'''\n",
    "# Country, League and Team tables don't seem to have any value for us, country_id is equivalent to country_name \n",
    "# for the neural net, as well as league_id/league name, team_id/team name\n",
    "# TODO Player table may be beneficial due to some features (birthyear, weight, height), might want to add them later\n",
    "\n",
    "match_data = pd.read_sql(match_data_sql, conn)\n",
    "team_attributes = pd.read_sql(team_attributes_sql, conn)\n",
    "player_attributes = pd.read_sql(player_attributes_sql, conn)"
   ]
  },
  {
   "cell_type": "markdown",
   "metadata": {},
   "source": [
    "### Create labels"
   ]
  },
  {
   "cell_type": "code",
   "execution_count": 4,
   "metadata": {},
   "outputs": [],
   "source": [
    "labels = match_data.apply(get_match_label, axis=1)\n",
    "labels = labels.drop(\"match_api_id\", axis=1)\n",
    "\n",
    "match_data[\"label\"] = labels"
   ]
  },
  {
   "cell_type": "markdown",
   "metadata": {},
   "source": [
    "### Clean up some data and create new features"
   ]
  },
  {
   "cell_type": "code",
   "execution_count": 5,
   "metadata": {},
   "outputs": [],
   "source": [
    "# make season numerical\n",
    "match_data['season'] = match_data[\"season\"].apply(lambda x: int(x.split(\"/\")[0]))\n",
    "\n",
    "# create new 'month' field\n",
    "match_data['month'] = match_data[\"date\"].apply(lambda x: int(x.split(\"-\")[1]))\n",
    "\n",
    "# TODO create fields which represent win/loss/draw percentage for each team (over the last x games/years)\n"
   ]
  },
  {
   "cell_type": "code",
   "execution_count": 6,
   "metadata": {},
   "outputs": [],
   "source": [
    "def find_win_percentage(team_id):\n",
    "    total_matches = match_data.loc[(match_data['home_team_api_id'] == team_id)].shape[0]\n",
    "    total_matches += match_data.loc[(match_data['away_team_api_id'] == team_id)].shape[0]\n",
    "    \n",
    "    if total_matches == 0:\n",
    "        return 0\n",
    "    \n",
    "    home_wins = match_data.loc[(match_data['label'] == 0) & (match_data['home_team_api_id'] == team_id)].shape[0]\n",
    "    away_wins = match_data.loc[(match_data['label'] == 2) & (match_data['away_team_api_id'] == team_id)].shape[0]\n",
    "\n",
    "    home_losses = match_data.loc[(match_data['label'] == 2) & (match_data['away_team_api_id'] == team_id)].shape[0]\n",
    "    away_losses = match_data.loc[(match_data['label'] == 0) & (match_data['home_team_api_id'] == team_id)].shape[0]\n",
    "\n",
    "    #draws = match_data.loc[(match_data['label'] == 1) & (match_data['home_team_api_id'] == team_id)].shape[0]\n",
    "    #draws += match_data.loc[(match_data['label'] == 1) & (match_data['away_team_api_id'] == team_id)].shape[0]\n",
    "    \n",
    "    win_percentage = (home_wins + away_wins) / total_matches\n",
    "    return win_percentage\n",
    "    \n",
    "team_attributes['win_percentage'] = team_attributes.apply(lambda row: find_win_percentage(row.team_api_id), axis = 1)"
   ]
  },
  {
   "cell_type": "markdown",
   "metadata": {},
   "source": [
    "### Remove unnecessary data"
   ]
  },
  {
   "cell_type": "code",
   "execution_count": 7,
   "metadata": {},
   "outputs": [],
   "source": [
    "# shouldn't know these columns \n",
    "# TODO there are probably many more useless columns\n",
    "columns_to_drop = [\"match_api_id\", \"home_team_goal\", \"away_team_goal\", \"goal\",\n",
    "                   \"shoton\", \"shotoff\", \"foulcommit\", \"card\", \"cross\", \"corner\",\n",
    "                   \"possession\", \"date\"]\n",
    "match_data = match_data.drop(columns_to_drop, axis=1)\n",
    "\n",
    "\n",
    "# drop home_player_X/Y and away_player_X/Y columns, not sure what they represent\n",
    "for no in range(1,12):\n",
    "    for char in [\"X\", \"Y\"]:\n",
    "        match_data = match_data.drop(\"home_player_\"+char+str(no), axis=1)\n",
    "        match_data = match_data.drop(\"away_player_\"+char+str(no), axis=1)\n",
    "        \n",
    "# TODO should probably drop rows with (a lot of) null values also (make sure to drop matching values from labels in this case)\n"
   ]
  },
  {
   "cell_type": "markdown",
   "metadata": {},
   "source": [
    "### Join tables"
   ]
  },
  {
   "cell_type": "code",
   "execution_count": 8,
   "metadata": {},
   "outputs": [],
   "source": [
    "# drop null values and duplicates from team_attributes, otherwise the dataset size will grow to 700k rows\n",
    "team_attributes = team_attributes.dropna(subset=['team_api_id'])\n",
    "team_attributes = team_attributes.drop_duplicates(subset=['team_api_id'])\n",
    "\n",
    "match_data = match_data.dropna(subset=['home_team_api_id', 'away_team_api_id'])\n",
    "\n",
    "# create 2 versions with home/away prefixes for joining purposes\n",
    "team_attributes_home = team_attributes.add_prefix(\"home_\")\n",
    "team_attributes_away = team_attributes.add_prefix(\"away_\")\n",
    "\n",
    "# join match data with home and away team attributes\n",
    "\n",
    "match_data = pd.merge(match_data, team_attributes_home, how=\"left\", left_on=\"home_team_api_id\", right_on=\"home_team_api_id\")\n",
    "match_data = pd.merge(match_data, team_attributes_away, how=\"left\", left_on=\"away_team_api_id\", right_on=\"away_team_api_id\")\n",
    "\n",
    "\n",
    "\n",
    "# join match data with home and away players' attributes\n",
    "player_attributes = player_attributes.drop_duplicates(subset=['player_api_id'])\n",
    "for i in range(1,12):\n",
    "    \n",
    "    home_player_attributes_i = player_attributes.add_prefix(\"home_p_\" + str(i) + \"_\")\n",
    "    away_player_attributes_i = player_attributes.add_prefix(\"away_p_\" + str(i) + \"_\")\n",
    "    \n",
    "    match_data = pd.merge(match_data, home_player_attributes_i, left_on=\"home_player_\" + str(i), right_on=\"home_p_\" + str(i) + \"_player_api_id\")\n",
    "    match_data = pd.merge(match_data, away_player_attributes_i, left_on=\"away_player_\" + str(i), right_on=\"away_p_\" + str(i) + \"_player_api_id\")\n",
    "    \n",
    "    # delete temp dataframe to conserve memory\n",
    "    del(home_player_attributes_i)\n"
   ]
  },
  {
   "cell_type": "markdown",
   "metadata": {},
   "source": [
    "### Select the columns to be used as features"
   ]
  },
  {
   "cell_type": "code",
   "execution_count": 22,
   "metadata": {},
   "outputs": [
    {
     "data": {
      "text/html": [
       "<div>\n",
       "<style scoped>\n",
       "    .dataframe tbody tr th:only-of-type {\n",
       "        vertical-align: middle;\n",
       "    }\n",
       "\n",
       "    .dataframe tbody tr th {\n",
       "        vertical-align: top;\n",
       "    }\n",
       "\n",
       "    .dataframe thead th {\n",
       "        text-align: right;\n",
       "    }\n",
       "</style>\n",
       "<table border=\"1\" class=\"dataframe\">\n",
       "  <thead>\n",
       "    <tr style=\"text-align: right;\">\n",
       "      <th></th>\n",
       "      <th>season</th>\n",
       "      <th>month</th>\n",
       "      <th>stage</th>\n",
       "      <th>home_defenceAggression</th>\n",
       "      <th>home_win_percentage</th>\n",
       "      <th>away_defenceAggression</th>\n",
       "      <th>away_win_percentage</th>\n",
       "      <th>B365H</th>\n",
       "      <th>B365D</th>\n",
       "      <th>B365A</th>\n",
       "      <th>BWH</th>\n",
       "      <th>BWD</th>\n",
       "      <th>BWA</th>\n",
       "      <th>label</th>\n",
       "    </tr>\n",
       "  </thead>\n",
       "  <tbody>\n",
       "    <tr>\n",
       "      <th>0</th>\n",
       "      <td>2008</td>\n",
       "      <td>3</td>\n",
       "      <td>26</td>\n",
       "      <td>70.0</td>\n",
       "      <td>0.382075</td>\n",
       "      <td>50.0</td>\n",
       "      <td>0.127358</td>\n",
       "      <td>4.5</td>\n",
       "      <td>3.6</td>\n",
       "      <td>1.75</td>\n",
       "      <td>4.70</td>\n",
       "      <td>3.30</td>\n",
       "      <td>1.70</td>\n",
       "      <td>2.0</td>\n",
       "    </tr>\n",
       "    <tr>\n",
       "      <th>1</th>\n",
       "      <td>2014</td>\n",
       "      <td>12</td>\n",
       "      <td>21</td>\n",
       "      <td>48.0</td>\n",
       "      <td>0.484127</td>\n",
       "      <td>70.0</td>\n",
       "      <td>0.231132</td>\n",
       "      <td>8.0</td>\n",
       "      <td>4.5</td>\n",
       "      <td>1.40</td>\n",
       "      <td>6.25</td>\n",
       "      <td>4.33</td>\n",
       "      <td>1.48</td>\n",
       "      <td>0.0</td>\n",
       "    </tr>\n",
       "    <tr>\n",
       "      <th>2</th>\n",
       "      <td>2011</td>\n",
       "      <td>12</td>\n",
       "      <td>17</td>\n",
       "      <td>70.0</td>\n",
       "      <td>0.382075</td>\n",
       "      <td>50.0</td>\n",
       "      <td>0.127358</td>\n",
       "      <td>5.5</td>\n",
       "      <td>4.2</td>\n",
       "      <td>1.55</td>\n",
       "      <td>5.50</td>\n",
       "      <td>3.70</td>\n",
       "      <td>1.60</td>\n",
       "      <td>2.0</td>\n",
       "    </tr>\n",
       "    <tr>\n",
       "      <th>3</th>\n",
       "      <td>2012</td>\n",
       "      <td>8</td>\n",
       "      <td>3</td>\n",
       "      <td>60.0</td>\n",
       "      <td>0.494505</td>\n",
       "      <td>50.0</td>\n",
       "      <td>0.127358</td>\n",
       "      <td>3.6</td>\n",
       "      <td>3.6</td>\n",
       "      <td>1.95</td>\n",
       "      <td>3.75</td>\n",
       "      <td>3.40</td>\n",
       "      <td>1.85</td>\n",
       "      <td>0.0</td>\n",
       "    </tr>\n",
       "    <tr>\n",
       "      <th>4</th>\n",
       "      <td>2014</td>\n",
       "      <td>2</td>\n",
       "      <td>25</td>\n",
       "      <td>60.0</td>\n",
       "      <td>0.377358</td>\n",
       "      <td>70.0</td>\n",
       "      <td>0.231132</td>\n",
       "      <td>3.1</td>\n",
       "      <td>3.5</td>\n",
       "      <td>2.20</td>\n",
       "      <td>3.30</td>\n",
       "      <td>3.40</td>\n",
       "      <td>2.10</td>\n",
       "      <td>2.0</td>\n",
       "    </tr>\n",
       "  </tbody>\n",
       "</table>\n",
       "</div>"
      ],
      "text/plain": [
       "   season  month  stage  home_defenceAggression  home_win_percentage  \\\n",
       "0    2008      3     26                    70.0             0.382075   \n",
       "1    2014     12     21                    48.0             0.484127   \n",
       "2    2011     12     17                    70.0             0.382075   \n",
       "3    2012      8      3                    60.0             0.494505   \n",
       "4    2014      2     25                    60.0             0.377358   \n",
       "\n",
       "   away_defenceAggression  away_win_percentage  B365H  B365D  B365A   BWH  \\\n",
       "0                    50.0             0.127358    4.5    3.6   1.75  4.70   \n",
       "1                    70.0             0.231132    8.0    4.5   1.40  6.25   \n",
       "2                    50.0             0.127358    5.5    4.2   1.55  5.50   \n",
       "3                    50.0             0.127358    3.6    3.6   1.95  3.75   \n",
       "4                    70.0             0.231132    3.1    3.5   2.20  3.30   \n",
       "\n",
       "    BWD   BWA  label  \n",
       "0  3.30  1.70    2.0  \n",
       "1  4.33  1.48    0.0  \n",
       "2  3.70  1.60    2.0  \n",
       "3  3.40  1.85    0.0  \n",
       "4  3.40  2.10    2.0  "
      ]
     },
     "execution_count": 22,
     "metadata": {},
     "output_type": "execute_result"
    }
   ],
   "source": [
    "\n",
    "features = match_data[['season',\n",
    "                        'month',\n",
    "                        'stage', \n",
    "                       \n",
    "                        #'home_player_1',\n",
    "                        #'home_player_2',\n",
    "                        #'home_player_3',\n",
    "                        #'home_player_4',\n",
    "                        #'home_player_5',\n",
    "                        #'home_player_6',\n",
    "                        #'home_player_7',\n",
    "                        #'home_player_8',\n",
    "                        #'home_player_9',\n",
    "                        #'home_player_10',\n",
    "                        #'home_player_11',\n",
    "                        #'away_player_1',\n",
    "                        #'away_player_2',\n",
    "                        #'away_player_3',\n",
    "                        #'away_player_4',\n",
    "                        #'away_player_5',\n",
    "                        #'away_player_6',\n",
    "                        #'away_player_7',\n",
    "                        #'away_player_8',\n",
    "                        #'away_player_9',\n",
    "                        #'away_player_10',\n",
    "                        #'away_player_11',\n",
    "                       \n",
    "                        'home_p_1_overall_rating',\n",
    "                        'away_p_1_overall_rating',\n",
    "                        'home_p_2_overall_rating',\n",
    "                        'away_p_2_overall_rating',\n",
    "                        'home_p_3_overall_rating',\n",
    "                        'away_p_3_overall_rating',\n",
    "                        'home_p_4_overall_rating',\n",
    "                        'away_p_4_overall_rating',\n",
    "                        'home_p_5_overall_rating',\n",
    "                        'away_p_5_overall_rating',\n",
    "                        'home_p_6_overall_rating',\n",
    "                        'away_p_6_overall_rating',\n",
    "                        'home_p_7_overall_rating',\n",
    "                        'away_p_7_overall_rating',\n",
    "                        'home_p_8_overall_rating',\n",
    "                        'away_p_8_overall_rating',\n",
    "                        'home_p_9_overall_rating',\n",
    "                        'away_p_9_overall_rating',\n",
    "                        'home_p_10_overall_rating',\n",
    "                        'away_p_10_overall_rating',\n",
    "                        'home_p_11_overall_rating',\n",
    "                        'away_p_11_overall_rating',\n",
    "                       \n",
    "                        #'home_buildUpPlaySpeed',\n",
    "                        #'home_buildUpPlayDribbling',\n",
    "                        #'home_buildUpPlayPassing',\n",
    "                        #'home_chanceCreationPassing',\n",
    "                        #'home_chanceCreationCrossing',\n",
    "                        #'home_chanceCreationShooting',\n",
    "                        #'home_defencePressure',\n",
    "                        'home_defenceAggression',\n",
    "                        #'home_defenceTeamWidth',\n",
    "                        'home_win_percentage',\n",
    "                       \n",
    "                        #'away_buildUpPlaySpeed',\n",
    "                        #'away_buildUpPlayDribbling',\n",
    "                        #'away_buildUpPlayPassing',\n",
    "                        #'away_chanceCreationPassing',\n",
    "                        #'away_chanceCreationCrossing',\n",
    "                        #'away_chanceCreationShooting',\n",
    "                        #'away_defencePressure',\n",
    "                        'away_defenceAggression',\n",
    "                        #'away_defenceTeamWidth',\n",
    "                        'away_win_percentage',\n",
    "                       \n",
    "                        'B365H',\n",
    "                        'B365D',\n",
    "                        'B365A',\n",
    "                        'BWH',\n",
    "                        'BWD',\n",
    "                        'BWA',\n",
    "                        'label']]\n",
    "\n",
    "features.head()"
   ]
  },
  {
   "cell_type": "markdown",
   "metadata": {},
   "source": [
    "### Write data to csv"
   ]
  },
  {
   "cell_type": "code",
   "execution_count": 23,
   "metadata": {},
   "outputs": [],
   "source": [
    "# drop rows with nulls\n",
    "features = features.dropna()\n",
    "features.to_csv(\"datasets/data.csv\")"
   ]
  },
  {
   "cell_type": "code",
   "execution_count": 24,
   "metadata": {},
   "outputs": [
    {
     "data": {
      "text/plain": [
       "(19591, 14)"
      ]
     },
     "execution_count": 24,
     "metadata": {},
     "output_type": "execute_result"
    }
   ],
   "source": [
    "features.shape"
   ]
  },
  {
   "cell_type": "code",
   "execution_count": null,
   "metadata": {},
   "outputs": [],
   "source": []
  }
 ],
 "metadata": {
  "kernelspec": {
   "display_name": "Python 3",
   "language": "python",
   "name": "python3"
  },
  "language_info": {
   "codemirror_mode": {
    "name": "ipython",
    "version": 3
   },
   "file_extension": ".py",
   "mimetype": "text/x-python",
   "name": "python",
   "nbconvert_exporter": "python",
   "pygments_lexer": "ipython3",
   "version": "3.7.6"
  }
 },
 "nbformat": 4,
 "nbformat_minor": 4
}
