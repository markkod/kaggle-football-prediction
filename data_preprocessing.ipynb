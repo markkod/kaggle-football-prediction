{
 "cells": [
  {
   "cell_type": "code",
   "execution_count": 4,
   "metadata": {},
   "outputs": [],
   "source": [
    "import sqlite3\n",
    "import pandas as pd\n",
    "import numpy as np\n",
    "from pathlib import Path\n",
    "from modules.utils.data_processing import get_match_label\n",
    "\n",
    "from sklearn.feature_selection import SelectKBest\n",
    "from sklearn.feature_selection import chi2"
   ]
  },
  {
   "cell_type": "markdown",
   "metadata": {},
   "source": [
    "### Create database connection"
   ]
  },
  {
   "cell_type": "code",
   "execution_count": 5,
   "metadata": {},
   "outputs": [],
   "source": [
    "database_path = \"datasets/database.sqlite\"\n",
    "conn = sqlite3.connect(database_path)"
   ]
  },
  {
   "cell_type": "markdown",
   "metadata": {},
   "source": [
    "### Read data from database"
   ]
  },
  {
   "cell_type": "code",
   "execution_count": 54,
   "metadata": {},
   "outputs": [],
   "source": [
    "match_data_sql = '''select * from Match '''\n",
    "team_attributes_sql = '''select * from Team_Attributes'''\n",
    "player_attributes_sql = '''select player_api_id, overall_rating from Player_Attributes'''\n",
    "# Country, League and Team tables don't seem to have any value for us, country_id is equivalent to country_name \n",
    "# for the neural net, as well as league_id/league name, team_id/team name\n",
    "# TODO Player table may be beneficial due to some features (birthyear, weight, height), might want to add them later\n",
    "\n",
    "match_data = pd.read_sql(match_data_sql, conn)\n",
    "team_attributes = pd.read_sql(team_attributes_sql, conn)\n",
    "player_attributes = pd.read_sql(player_attributes_sql, conn)"
   ]
  },
  {
   "cell_type": "markdown",
   "metadata": {},
   "source": [
    "### Create labels"
   ]
  },
  {
   "cell_type": "code",
   "execution_count": 55,
   "metadata": {},
   "outputs": [],
   "source": [
    "labels = match_data.apply(get_match_label, axis=1)\n",
    "labels = labels.drop(\"match_api_id\", axis=1)\n",
    "\n",
    "match_data[\"label\"] = labels"
   ]
  },
  {
   "cell_type": "markdown",
   "metadata": {},
   "source": [
    "### Clean up some data and create new features"
   ]
  },
  {
   "cell_type": "code",
   "execution_count": 56,
   "metadata": {},
   "outputs": [],
   "source": [
    "# make season numerical\n",
    "match_data['season'] = match_data[\"season\"].apply(lambda x: int(x.split(\"/\")[0]))\n",
    "\n",
    "# create new 'month' field\n",
    "match_data['month'] = match_data[\"date\"].apply(lambda x: int(x.split(\"-\")[1]))\n",
    "\n",
    "# TODO create fields which represent win/loss/draw percentage for each team (over the last x games/years)\n",
    "\n"
   ]
  },
  {
   "cell_type": "code",
   "execution_count": 57,
   "metadata": {},
   "outputs": [],
   "source": [
    "\n",
    "def get_goals_ratio_of_last_n_games(match_data, team_id):\n",
    "    matches = match_data[(match_data['home_team_api_id'] == team_id) | (match_data['away_team_api_id'] == team_id)]\n",
    "\n",
    "    # Take last 10 matches where the team participated\n",
    "    matches = matches.sort_values(by = 'date', ascending = False).iloc[0:10,:]\n",
    "\n",
    "    as_home_team = matches[(match_data['home_team_api_id'] == team_id)].sum()\n",
    "    as_away_team = matches[(match_data['away_team_api_id'] == team_id)].sum()\n",
    "\n",
    "    goals_made_by_team = as_home_team['home_team_goal'] + as_away_team['away_team_goal']\n",
    "    goals_made_by_the_opponent = as_home_team['away_team_goal'] + as_away_team['home_team_goal']\n",
    "\n",
    "    return goals_made_by_team / goals_made_by_the_opponent\n"
   ]
  },
  {
   "cell_type": "code",
   "execution_count": 58,
   "metadata": {},
   "outputs": [],
   "source": [
    "def find_win_percentage(team_id):\n",
    "    total_matches = match_data.loc[(match_data['home_team_api_id'] == team_id)].shape[0]\n",
    "    total_matches += match_data.loc[(match_data['away_team_api_id'] == team_id)].shape[0]\n",
    "    \n",
    "    if total_matches == 0:\n",
    "        return 0\n",
    "    \n",
    "    home_wins = match_data.loc[(match_data['label'] == 0) & (match_data['home_team_api_id'] == team_id)].shape[0]\n",
    "    away_wins = match_data.loc[(match_data['label'] == 2) & (match_data['away_team_api_id'] == team_id)].shape[0]\n",
    "\n",
    "    home_losses = match_data.loc[(match_data['label'] == 2) & (match_data['away_team_api_id'] == team_id)].shape[0]\n",
    "    away_losses = match_data.loc[(match_data['label'] == 0) & (match_data['home_team_api_id'] == team_id)].shape[0]\n",
    "\n",
    "    #draws = match_data.loc[(match_data['label'] == 1) & (match_data['home_team_api_id'] == team_id)].shape[0]\n",
    "    #draws += match_data.loc[(match_data['label'] == 1) & (match_data['away_team_api_id'] == team_id)].shape[0]\n",
    "    \n",
    "    win_percentage = (home_wins + away_wins) / total_matches\n",
    "    return win_percentage\n",
    "    \n",
    "team_attributes['win_percentage'] = team_attributes.apply(lambda row: find_win_percentage(row.team_api_id), axis = 1)"
   ]
  },
  {
   "cell_type": "code",
   "execution_count": 59,
   "metadata": {},
   "outputs": [],
   "source": [
    "def find_win_percentage_against_opponent(team_1_id, team_2_id):\n",
    "    total_matches = match_data.loc[(match_data['home_team_api_id'] == team_1_id) & (match_data['away_team_api_id'] == team_2_id)].shape[0]\n",
    "    total_matches += match_data.loc[(match_data['home_team_api_id'] == team_2_id) & (match_data['away_team_api_id'] == team_1_id)].shape[0]\n",
    "    \n",
    "    if total_matches == 0:\n",
    "        return 0\n",
    "    \n",
    "    team_1_wins = match_data.loc[(match_data['label'] == 0) & (match_data['home_team_api_id'] == team_1_id) & (match_data['away_team_api_id'] == team_2_id)].shape[0]\n",
    "    team_1_wins += match_data.loc[(match_data['label'] == 2) & (match_data['home_team_api_id'] == team_2_id) & (match_data['away_team_api_id'] == team_1_id)].shape[0]\n",
    "    \n",
    "    win_percentage = team_1_wins/total_matches\n",
    "    return win_percentage\n",
    "\n",
    "match_data['home_team_win_percentage_against_away'] = match_data.apply(lambda row: find_win_percentage_against_opponent(row.home_team_api_id, row.away_team_api_id), axis = 1)\n",
    "match_data['away_team_win_percentage_against_home'] = match_data.apply(lambda row: find_win_percentage_against_opponent(row.away_team_api_id, row.home_team_api_id), axis = 1)"
   ]
  },
  {
   "cell_type": "code",
   "execution_count": 60,
   "metadata": {},
   "outputs": [],
   "source": [
    "def find_draw_percentage_between_teams(team_1_id, team_2_id):\n",
    "    total_matches = match_data.loc[(match_data['home_team_api_id'] == team_1_id) & (match_data['away_team_api_id'] == team_2_id)].shape[0]\n",
    "    total_matches += match_data.loc[(match_data['home_team_api_id'] == team_2_id) & (match_data['away_team_api_id'] == team_1_id)].shape[0]\n",
    "    \n",
    "    if total_matches == 0:\n",
    "        return 0\n",
    "    \n",
    "    draws = match_data.loc[(match_data['label'] == 1) & (match_data['home_team_api_id'] == team_1_id) & (match_data['away_team_api_id'] == team_2_id)].shape[0]\n",
    "    draws += match_data.loc[(match_data['label'] == 1) & (match_data['home_team_api_id'] == team_2_id) & (match_data['away_team_api_id'] == team_1_id)].shape[0]\n",
    "    \n",
    "    draw_percentage = draws/total_matches\n",
    "    return draw_percentage\n",
    "    \n",
    "match_data['draw_percentage'] = match_data.apply(lambda row: find_draw_percentage_between_teams(row.home_team_api_id, row.away_team_api_id), axis = 1)"
   ]
  },
  {
   "cell_type": "code",
   "execution_count": 61,
   "metadata": {},
   "outputs": [
    {
     "name": "stderr",
     "output_type": "stream",
     "text": [
      "/usr/local/lib/python3.7/site-packages/ipykernel_launcher.py:7: UserWarning: Boolean Series key will be reindexed to match DataFrame index.\n",
      "  import sys\n",
      "/usr/local/lib/python3.7/site-packages/ipykernel_launcher.py:8: UserWarning: Boolean Series key will be reindexed to match DataFrame index.\n",
      "  \n"
     ]
    }
   ],
   "source": [
    "match_data['home_team_goals_ratio'] = match_data.apply(lambda row: get_goals_ratio_of_last_n_games(match_data, row.home_team_api_id), axis = 1)\n",
    "match_data['away_team_goals_ratio'] = match_data.apply(lambda row: get_goals_ratio_of_last_n_games(match_data, row.away_team_api_id), axis = 1)\n"
   ]
  },
  {
   "cell_type": "markdown",
   "metadata": {},
   "source": [
    "### Remove unnecessary data"
   ]
  },
  {
   "cell_type": "code",
   "execution_count": 62,
   "metadata": {},
   "outputs": [
    {
     "name": "stdout",
     "output_type": "stream",
     "text": [
      "Done\n"
     ]
    }
   ],
   "source": [
    "# shouldn't know these columns \n",
    "# TODO there are probably many more useless columns\n",
    "columns_to_drop = [\"match_api_id\", \"home_team_goal\", \"away_team_goal\", \"goal\",\n",
    "                   \"shoton\", \"shotoff\", \"foulcommit\", \"card\", \"cross\", \"corner\",\n",
    "                   \"possession\", \"date\"]\n",
    "match_data = match_data.drop(columns_to_drop, axis=1)\n",
    "\n",
    "\n",
    "# drop home_player_X/Y and away_player_X/Y columns, not sure what they represent\n",
    "for no in range(1,12):\n",
    "    for char in [\"X\", \"Y\"]:\n",
    "        match_data = match_data.drop(\"home_player_\"+char+str(no), axis=1)\n",
    "        match_data = match_data.drop(\"away_player_\"+char+str(no), axis=1)\n",
    "\n",
    "print('Done')"
   ]
  },
  {
   "cell_type": "markdown",
   "metadata": {},
   "source": [
    "### Join tables"
   ]
  },
  {
   "cell_type": "code",
   "execution_count": 63,
   "metadata": {},
   "outputs": [
    {
     "name": "stdout",
     "output_type": "stream",
     "text": [
      "Done\n"
     ]
    }
   ],
   "source": [
    "# drop null values and duplicates from team_attributes, otherwise the dataset size will grow to 700k rows\n",
    "team_attributes = team_attributes.dropna(subset=['team_api_id'])\n",
    "team_attributes = team_attributes.drop_duplicates(subset=['team_api_id'])\n",
    "\n",
    "# match_data = match_data.dropna(subset=['home_team_api_id', 'away_team_api_id'])\n",
    "\n",
    "# create 2 versions with home/away prefixes for joining purposes\n",
    "team_attributes_home = team_attributes.add_prefix(\"home_\")\n",
    "team_attributes_away = team_attributes.add_prefix(\"away_\")\n",
    "\n",
    "# join match data with home and away team attributes\n",
    "\n",
    "match_data = pd.merge(match_data, team_attributes_home, how=\"left\", left_on=\"home_team_api_id\", right_on=\"home_team_api_id\")\n",
    "match_data = pd.merge(match_data, team_attributes_away, how=\"left\", left_on=\"away_team_api_id\", right_on=\"away_team_api_id\")\n",
    "\n",
    "\n",
    "\n",
    "# join match data with home and away players' attributes\n",
    "player_attributes = player_attributes.drop_duplicates(subset=['player_api_id'])\n",
    "for i in range(1,12):\n",
    "    \n",
    "    home_player_attributes_i = player_attributes.add_prefix(\"home_p_\" + str(i) + \"_\")\n",
    "    away_player_attributes_i = player_attributes.add_prefix(\"away_p_\" + str(i) + \"_\")\n",
    "    \n",
    "    match_data = pd.merge(match_data, home_player_attributes_i, left_on=\"home_player_\" + str(i), right_on=\"home_p_\" + str(i) + \"_player_api_id\")\n",
    "    match_data = pd.merge(match_data, away_player_attributes_i, left_on=\"away_player_\" + str(i), right_on=\"away_p_\" + str(i) + \"_player_api_id\")\n",
    "    \n",
    "    # delete temp dataframe to conserve memory\n",
    "    del(home_player_attributes_i)\n",
    "    \n",
    "\n",
    "\n",
    "print('Done')"
   ]
  },
  {
   "cell_type": "code",
   "execution_count": 64,
   "metadata": {},
   "outputs": [
    {
     "ename": "SyntaxError",
     "evalue": "invalid syntax (<ipython-input-64-a299391502fc>, line 1)",
     "output_type": "error",
     "traceback": [
      "\u001b[0;36m  File \u001b[0;32m\"<ipython-input-64-a299391502fc>\"\u001b[0;36m, line \u001b[0;32m1\u001b[0m\n\u001b[0;31m    match_data.loc[0][columns=[\"home_p_1_overall_rating\", \"home_p2_overall_rating\"]]\u001b[0m\n\u001b[0m                             ^\u001b[0m\n\u001b[0;31mSyntaxError\u001b[0m\u001b[0;31m:\u001b[0m invalid syntax\n"
     ]
    }
   ],
   "source": [
    "match_data.loc[0][columns=[\"home_p_1_overall_rating\", \"home_p2_overall_rating\"]]"
   ]
  },
  {
   "cell_type": "markdown",
   "metadata": {},
   "source": [
    "### Select the columns to be used as features"
   ]
  },
  {
   "cell_type": "code",
   "execution_count": 65,
   "metadata": {},
   "outputs": [
    {
     "data": {
      "text/html": [
       "<div>\n",
       "<style scoped>\n",
       "    .dataframe tbody tr th:only-of-type {\n",
       "        vertical-align: middle;\n",
       "    }\n",
       "\n",
       "    .dataframe tbody tr th {\n",
       "        vertical-align: top;\n",
       "    }\n",
       "\n",
       "    .dataframe thead th {\n",
       "        text-align: right;\n",
       "    }\n",
       "</style>\n",
       "<table border=\"1\" class=\"dataframe\">\n",
       "  <thead>\n",
       "    <tr style=\"text-align: right;\">\n",
       "      <th></th>\n",
       "      <th>season</th>\n",
       "      <th>month</th>\n",
       "      <th>stage</th>\n",
       "      <th>home_defencePressure</th>\n",
       "      <th>home_defenceAggression</th>\n",
       "      <th>home_defenceTeamWidth</th>\n",
       "      <th>away_defencePressure</th>\n",
       "      <th>away_defenceAggression</th>\n",
       "      <th>away_defenceTeamWidth</th>\n",
       "      <th>home_team_win_percentage_against_away</th>\n",
       "      <th>...</th>\n",
       "      <th>WHD</th>\n",
       "      <th>WHA</th>\n",
       "      <th>VCH</th>\n",
       "      <th>VCD</th>\n",
       "      <th>VCA</th>\n",
       "      <th>label</th>\n",
       "      <th>home_team_api_id</th>\n",
       "      <th>away_team_api_id</th>\n",
       "      <th>home_team_goals_ratio</th>\n",
       "      <th>away_team_goals_ratio</th>\n",
       "    </tr>\n",
       "  </thead>\n",
       "  <tbody>\n",
       "    <tr>\n",
       "      <td>0</td>\n",
       "      <td>2008</td>\n",
       "      <td>3</td>\n",
       "      <td>26</td>\n",
       "      <td>60.0</td>\n",
       "      <td>70.0</td>\n",
       "      <td>60.0</td>\n",
       "      <td>70.0</td>\n",
       "      <td>50.0</td>\n",
       "      <td>70.0</td>\n",
       "      <td>0.500000</td>\n",
       "      <td>...</td>\n",
       "      <td>3.30</td>\n",
       "      <td>1.70</td>\n",
       "      <td>4.35</td>\n",
       "      <td>3.3</td>\n",
       "      <td>1.75</td>\n",
       "      <td>2.0</td>\n",
       "      <td>8203</td>\n",
       "      <td>8635</td>\n",
       "      <td>1.461538</td>\n",
       "      <td>1.384615</td>\n",
       "    </tr>\n",
       "    <tr>\n",
       "      <td>1</td>\n",
       "      <td>2014</td>\n",
       "      <td>12</td>\n",
       "      <td>21</td>\n",
       "      <td>46.0</td>\n",
       "      <td>48.0</td>\n",
       "      <td>45.0</td>\n",
       "      <td>60.0</td>\n",
       "      <td>70.0</td>\n",
       "      <td>70.0</td>\n",
       "      <td>0.750000</td>\n",
       "      <td>...</td>\n",
       "      <td>4.33</td>\n",
       "      <td>1.44</td>\n",
       "      <td>7.50</td>\n",
       "      <td>4.6</td>\n",
       "      <td>1.45</td>\n",
       "      <td>0.0</td>\n",
       "      <td>9989</td>\n",
       "      <td>8342</td>\n",
       "      <td>0.454545</td>\n",
       "      <td>4.333333</td>\n",
       "    </tr>\n",
       "    <tr>\n",
       "      <td>2</td>\n",
       "      <td>2011</td>\n",
       "      <td>12</td>\n",
       "      <td>17</td>\n",
       "      <td>60.0</td>\n",
       "      <td>70.0</td>\n",
       "      <td>60.0</td>\n",
       "      <td>70.0</td>\n",
       "      <td>50.0</td>\n",
       "      <td>70.0</td>\n",
       "      <td>0.500000</td>\n",
       "      <td>...</td>\n",
       "      <td>3.60</td>\n",
       "      <td>1.57</td>\n",
       "      <td>6.00</td>\n",
       "      <td>4.0</td>\n",
       "      <td>1.53</td>\n",
       "      <td>2.0</td>\n",
       "      <td>8203</td>\n",
       "      <td>8635</td>\n",
       "      <td>1.461538</td>\n",
       "      <td>1.384615</td>\n",
       "    </tr>\n",
       "    <tr>\n",
       "      <td>3</td>\n",
       "      <td>2012</td>\n",
       "      <td>8</td>\n",
       "      <td>3</td>\n",
       "      <td>65.0</td>\n",
       "      <td>60.0</td>\n",
       "      <td>70.0</td>\n",
       "      <td>70.0</td>\n",
       "      <td>50.0</td>\n",
       "      <td>70.0</td>\n",
       "      <td>0.750000</td>\n",
       "      <td>...</td>\n",
       "      <td>3.50</td>\n",
       "      <td>1.83</td>\n",
       "      <td>3.80</td>\n",
       "      <td>3.5</td>\n",
       "      <td>1.95</td>\n",
       "      <td>0.0</td>\n",
       "      <td>9984</td>\n",
       "      <td>8635</td>\n",
       "      <td>0.533333</td>\n",
       "      <td>1.384615</td>\n",
       "    </tr>\n",
       "    <tr>\n",
       "      <td>4</td>\n",
       "      <td>2014</td>\n",
       "      <td>2</td>\n",
       "      <td>25</td>\n",
       "      <td>60.0</td>\n",
       "      <td>60.0</td>\n",
       "      <td>65.0</td>\n",
       "      <td>60.0</td>\n",
       "      <td>70.0</td>\n",
       "      <td>70.0</td>\n",
       "      <td>0.571429</td>\n",
       "      <td>...</td>\n",
       "      <td>3.50</td>\n",
       "      <td>2.20</td>\n",
       "      <td>3.20</td>\n",
       "      <td>3.7</td>\n",
       "      <td>2.15</td>\n",
       "      <td>2.0</td>\n",
       "      <td>8571</td>\n",
       "      <td>8342</td>\n",
       "      <td>0.916667</td>\n",
       "      <td>4.333333</td>\n",
       "    </tr>\n",
       "  </tbody>\n",
       "</table>\n",
       "<p>5 rows × 35 columns</p>\n",
       "</div>"
      ],
      "text/plain": [
       "   season  month  stage  home_defencePressure  home_defenceAggression  \\\n",
       "0    2008      3     26                  60.0                    70.0   \n",
       "1    2014     12     21                  46.0                    48.0   \n",
       "2    2011     12     17                  60.0                    70.0   \n",
       "3    2012      8      3                  65.0                    60.0   \n",
       "4    2014      2     25                  60.0                    60.0   \n",
       "\n",
       "   home_defenceTeamWidth  away_defencePressure  away_defenceAggression  \\\n",
       "0                   60.0                  70.0                    50.0   \n",
       "1                   45.0                  60.0                    70.0   \n",
       "2                   60.0                  70.0                    50.0   \n",
       "3                   70.0                  70.0                    50.0   \n",
       "4                   65.0                  60.0                    70.0   \n",
       "\n",
       "   away_defenceTeamWidth  home_team_win_percentage_against_away  ...   WHD  \\\n",
       "0                   70.0                               0.500000  ...  3.30   \n",
       "1                   70.0                               0.750000  ...  4.33   \n",
       "2                   70.0                               0.500000  ...  3.60   \n",
       "3                   70.0                               0.750000  ...  3.50   \n",
       "4                   70.0                               0.571429  ...  3.50   \n",
       "\n",
       "    WHA   VCH  VCD   VCA  label  home_team_api_id  away_team_api_id  \\\n",
       "0  1.70  4.35  3.3  1.75    2.0              8203              8635   \n",
       "1  1.44  7.50  4.6  1.45    0.0              9989              8342   \n",
       "2  1.57  6.00  4.0  1.53    2.0              8203              8635   \n",
       "3  1.83  3.80  3.5  1.95    0.0              9984              8635   \n",
       "4  2.20  3.20  3.7  2.15    2.0              8571              8342   \n",
       "\n",
       "   home_team_goals_ratio  away_team_goals_ratio  \n",
       "0               1.461538               1.384615  \n",
       "1               0.454545               4.333333  \n",
       "2               1.461538               1.384615  \n",
       "3               0.533333               1.384615  \n",
       "4               0.916667               4.333333  \n",
       "\n",
       "[5 rows x 35 columns]"
      ]
     },
     "execution_count": 65,
     "metadata": {},
     "output_type": "execute_result"
    }
   ],
   "source": [
    "\n",
    "features = match_data[['season',\n",
    "                        'month',\n",
    "                        'stage', \n",
    "                       \n",
    "                        #'home_player_1',\n",
    "                        #'home_player_2',\n",
    "                        #'home_player_3',\n",
    "                        #'home_player_4',\n",
    "                        #'home_player_5',\n",
    "                        #'home_player_6',\n",
    "                        #'home_player_7',\n",
    "                        #'home_player_8',\n",
    "                        #'home_player_9',\n",
    "                        #'home_player_10',\n",
    "                        #'home_player_11',\n",
    "                        #'away_player_1',\n",
    "                        #'away_player_2',\n",
    "                        #'away_player_3',\n",
    "                        #'away_player_4',\n",
    "                        #'away_player_5',\n",
    "                        #'away_player_6',\n",
    "                        #'away_player_7',\n",
    "                        #'away_player_8',\n",
    "                        #'away_player_9',\n",
    "                        #'away_player_10',\n",
    "                        #'away_player_11',\n",
    "                       \n",
    "                        #'home_p_1_overall_rating',\n",
    "                        #'away_p_1_overall_rating',\n",
    "                        #'home_p_2_overall_rating',\n",
    "                        #'away_p_2_overall_rating',\n",
    "                        #'home_p_3_overall_rating',\n",
    "                        #'away_p_3_overall_rating',\n",
    "                        #'home_p_4_overall_rating',\n",
    "                        #'away_p_4_overall_rating',\n",
    "                        #'home_p_5_overall_rating',\n",
    "                        #'away_p_5_overall_rating',\n",
    "                        #'home_p_6_overall_rating',\n",
    "                        #'away_p_6_overall_rating',\n",
    "                        #'home_p_7_overall_rating',\n",
    "                        #'away_p_7_overall_rating',\n",
    "                        #'home_p_8_overall_rating',\n",
    "                        #'away_p_8_overall_rating',\n",
    "                        #'home_p_9_overall_rating',\n",
    "                        #'away_p_9_overall_rating',\n",
    "                        #'home_p_10_overall_rating',\n",
    "                        #'away_p_10_overall_rating',\n",
    "                        #'home_p_11_overall_rating',\n",
    "                        #'away_p_11_overall_rating',\n",
    "                       \n",
    "                        #'home_buildUpPlaySpeed',\n",
    "                        #'home_buildUpPlayPassing',\n",
    "                        #'home_chanceCreationPassing',\n",
    "                        #'home_chanceCreationCrossing',\n",
    "                        #'home_chanceCreationShooting',\n",
    "                        'home_defencePressure',\n",
    "                        'home_defenceAggression',\n",
    "                        'home_defenceTeamWidth',\n",
    "                        #'home_win_percentage',\n",
    "                        \n",
    "                       \n",
    "                        #'away_buildUpPlaySpeed',\n",
    "                        #'away_buildUpPlayPassing',\n",
    "                        #'away_chanceCreationPassing',\n",
    "                        #'away_chanceCreationCrossing',\n",
    "                        #'away_chanceCreationShooting',\n",
    "                        'away_defencePressure',\n",
    "                        'away_defenceAggression',\n",
    "                        'away_defenceTeamWidth',\n",
    "                        #'away_win_percentage',\n",
    "                        \n",
    "                        'home_team_win_percentage_against_away',\n",
    "                        'away_team_win_percentage_against_home',\n",
    "                        'draw_percentage',\n",
    "                       \n",
    "                        'B365H',\n",
    "                        'B365D',\n",
    "                        'B365A',\n",
    "                        'BWH',\n",
    "                        'BWD',\n",
    "                        'BWA',\n",
    "                        'IWH',\n",
    "                        'IWD',\n",
    "                        'IWA',\n",
    "                        'LBH',\n",
    "                        'LBD',\n",
    "                        'LBA',\n",
    "                        'WHH',\n",
    "                        'WHD',\n",
    "                        'WHA',\n",
    "                        'VCH',\n",
    "                        'VCD',\n",
    "                        'VCA',\n",
    "                        'label',\n",
    "                        'home_team_api_id',\n",
    "                        'away_team_api_id',\n",
    "                        'home_team_goals_ratio',\n",
    "                        'away_team_goals_ratio',\n",
    "                      ]]\n",
    "\n",
    "features.head()"
   ]
  },
  {
   "cell_type": "markdown",
   "metadata": {},
   "source": [
    "### Write data to csv"
   ]
  },
  {
   "cell_type": "code",
   "execution_count": 66,
   "metadata": {},
   "outputs": [],
   "source": [
    "# drop rows with nulls\n",
    "features = features.dropna()\n",
    "features.to_csv(\"datasets/data.csv\")"
   ]
  },
  {
   "cell_type": "code",
   "execution_count": 67,
   "metadata": {},
   "outputs": [
    {
     "data": {
      "text/plain": [
       "(19487, 35)"
      ]
     },
     "execution_count": 67,
     "metadata": {},
     "output_type": "execute_result"
    }
   ],
   "source": [
    "features.shape"
   ]
  },
  {
   "cell_type": "code",
   "execution_count": null,
   "metadata": {},
   "outputs": [],
   "source": []
  },
  {
   "cell_type": "code",
   "execution_count": null,
   "metadata": {},
   "outputs": [],
   "source": []
  }
 ],
 "metadata": {
  "kernelspec": {
   "display_name": "Python 3",
   "language": "python",
   "name": "python3"
  },
  "language_info": {
   "codemirror_mode": {
    "name": "ipython",
    "version": 3
   },
   "file_extension": ".py",
   "mimetype": "text/x-python",
   "name": "python",
   "nbconvert_exporter": "python",
   "pygments_lexer": "ipython3",
   "version": "3.7.7"
  }
 },
 "nbformat": 4,
 "nbformat_minor": 4
}
