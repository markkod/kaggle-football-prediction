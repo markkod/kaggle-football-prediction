{
 "cells": [
  {
   "cell_type": "code",
   "execution_count": 1,
   "metadata": {},
   "outputs": [],
   "source": [
    "import sqlite3\n",
    "import pandas as pd\n",
    "import numpy as np\n",
    "from pathlib import Path\n",
    "from modules.random_forest.helpers import get_match_label\n",
    "\n",
    "from sklearn.feature_selection import SelectKBest\n",
    "from sklearn.feature_selection import chi2"
   ]
  },
  {
   "cell_type": "markdown",
   "metadata": {},
   "source": [
    "### Create database connection"
   ]
  },
  {
   "cell_type": "code",
   "execution_count": 2,
   "metadata": {},
   "outputs": [],
   "source": [
    "database_path = \"datasets/database.sqlite\"\n",
    "conn = sqlite3.connect(database_path)"
   ]
  },
  {
   "cell_type": "markdown",
   "metadata": {},
   "source": [
    "### Read data from database"
   ]
  },
  {
   "cell_type": "code",
   "execution_count": 3,
   "metadata": {},
   "outputs": [],
   "source": [
    "match_data_sql = '''select * from Match '''\n",
    "team_attributes_sql = '''select * from Team_Attributes'''\n",
    "player_attributes_sql = '''select player_api_id, overall_rating from Player_Attributes'''\n",
    "# Country, League and Team tables don't seem to have any value for us, country_id is equivalent to country_name \n",
    "# for the neural net, as well as league_id/league name, team_id/team name\n",
    "# TODO Player table may be beneficial due to some features (birthyear, weight, height), might want to add them later\n",
    "\n",
    "match_data = pd.read_sql(match_data_sql, conn)\n",
    "team_attributes = pd.read_sql(team_attributes_sql, conn)\n",
    "player_attributes = pd.read_sql(player_attributes_sql, conn)"
   ]
  },
  {
   "cell_type": "markdown",
   "metadata": {},
   "source": [
    "### Create labels"
   ]
  },
  {
   "cell_type": "code",
   "execution_count": 4,
   "metadata": {},
   "outputs": [],
   "source": [
    "labels = match_data.apply(get_match_label, axis=1)\n",
    "labels = labels.drop(\"match_api_id\", axis=1)"
   ]
  },
  {
   "cell_type": "markdown",
   "metadata": {},
   "source": [
    "### Clean up some data and create new features"
   ]
  },
  {
   "cell_type": "code",
   "execution_count": 5,
   "metadata": {},
   "outputs": [],
   "source": [
    "# make season numerical\n",
    "match_data['season'] = match_data[\"season\"].apply(lambda x: int(x.split(\"/\")[0]))\n",
    "\n",
    "# create new 'month' field\n",
    "match_data['month'] = match_data[\"date\"].apply(lambda x: int(x.split(\"-\")[1]))\n",
    "\n",
    "# TODO create fields which represent win/loss/draw percentage for each team (over the last x games/years)\n"
   ]
  },
  {
   "cell_type": "markdown",
   "metadata": {},
   "source": [
    "### Remove unnecessary data"
   ]
  },
  {
   "cell_type": "code",
   "execution_count": 6,
   "metadata": {},
   "outputs": [],
   "source": [
    "# shouldn't know these columns \n",
    "# TODO there are probably many more useless columns\n",
    "columns_to_drop = [\"match_api_id\", \"home_team_goal\", \"away_team_goal\", \"goal\",\n",
    "                   \"shoton\", \"shotoff\", \"foulcommit\", \"card\", \"cross\", \"corner\",\n",
    "                   \"possession\", \"date\"]\n",
    "match_data = match_data.drop(columns_to_drop, axis=1)\n",
    "\n",
    "\n",
    "# drop home_player_X/Y and away_player_X/Y columns, not sure what they represent\n",
    "for no in range(1,12):\n",
    "    for char in [\"X\", \"Y\"]:\n",
    "        match_data = match_data.drop(\"home_player_\"+char+str(no), axis=1)\n",
    "        match_data = match_data.drop(\"away_player_\"+char+str(no), axis=1)\n",
    "        \n",
    "# TODO should probably drop rows with (a lot of) null values also (make sure to drop matching values from labels in this case)\n"
   ]
  },
  {
   "cell_type": "markdown",
   "metadata": {},
   "source": [
    "### Join tables"
   ]
  },
  {
   "cell_type": "code",
   "execution_count": 7,
   "metadata": {},
   "outputs": [
    {
     "data": {
      "text/plain": [
       "'\\n# join match data with home and away players\\' attributes\\n#commented out right now due to memory running out\\n\\nfor i in range(1,12):\\n    home_player_attributes_i = player_attributes.add_prefix(\"home_p_\" + str(i) + \"_\")\\n    away_player_attributes_i = player_attributes.add_prefix(\"away_p_\" + str(i) + \"_\")\\n    match_data = pd.merge(match_data, home_player_attributes_i, left_on=\"home_player_\" + str(i), right_on=\"home_p_\" + str(i) + \"_player_api_id\")\\n    match_data = pd.merge(match_data, away_player_attributes_i, left_on=\"away_player_\" + str(i), right_on=\"away_p_\" + str(i) + \"_player_api_id\")\\n'"
      ]
     },
     "execution_count": 7,
     "metadata": {},
     "output_type": "execute_result"
    }
   ],
   "source": [
    "# create 2 versions with home/away prefixes for joining purposes\n",
    "team_attributes_home = team_attributes.add_prefix(\"home_\")\n",
    "team_attributes_away = team_attributes.add_prefix(\"away_\")\n",
    "\n",
    "# join match data with home and away team attributes\n",
    "match_data = pd.merge(match_data, team_attributes_home, left_on=\"home_team_api_id\", right_on=\"home_team_api_id\")\n",
    "match_data = pd.merge(match_data, team_attributes_away, left_on=\"away_team_api_id\", right_on=\"away_team_api_id\")\n",
    "\n",
    "'''\n",
    "# join match data with home and away players' attributes\n",
    "# commented out right now due to memory running out\n",
    "\n",
    "for i in range(1,12):\n",
    "    home_player_attributes_i = player_attributes.add_prefix(\"home_p_\" + str(i) + \"_\")\n",
    "    away_player_attributes_i = player_attributes.add_prefix(\"away_p_\" + str(i) + \"_\")\n",
    "    match_data = pd.merge(match_data, home_player_attributes_i, left_on=\"home_player_\" + str(i), right_on=\"home_p_\" + str(i) + \"_player_api_id\")\n",
    "    match_data = pd.merge(match_data, away_player_attributes_i, left_on=\"away_player_\" + str(i), right_on=\"away_p_\" + str(i) + \"_player_api_id\")\n",
    "'''"
   ]
  },
  {
   "cell_type": "markdown",
   "metadata": {},
   "source": [
    "### Write data to csv"
   ]
  },
  {
   "cell_type": "code",
   "execution_count": 9,
   "metadata": {},
   "outputs": [],
   "source": [
    "match_data.to_csv(\"datasets/data.csv\")"
   ]
  },
  {
   "cell_type": "code",
   "execution_count": null,
   "metadata": {},
   "outputs": [],
   "source": []
  }
 ],
 "metadata": {
  "kernelspec": {
   "display_name": "Python 3",
   "language": "python",
   "name": "python3"
  },
  "language_info": {
   "codemirror_mode": {
    "name": "ipython",
    "version": 3
   },
   "file_extension": ".py",
   "mimetype": "text/x-python",
   "name": "python",
   "nbconvert_exporter": "python",
   "pygments_lexer": "ipython3",
   "version": "3.7.6"
  }
 },
 "nbformat": 4,
 "nbformat_minor": 4
}
