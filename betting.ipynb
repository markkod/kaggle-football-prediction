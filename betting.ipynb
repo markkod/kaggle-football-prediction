{
 "cells": [
  {
   "cell_type": "markdown",
   "metadata": {},
   "source": [
    "# Making bets\n",
    "\n",
    "Here we are testing how much money our neural network would make or lose when it's used for making bets."
   ]
  },
  {
   "cell_type": "code",
   "execution_count": 1,
   "metadata": {},
   "outputs": [
    {
     "name": "stderr",
     "output_type": "stream",
     "text": [
      "Using TensorFlow backend.\n"
     ]
    },
    {
     "name": "stdout",
     "output_type": "stream",
     "text": [
      "WARNING:tensorflow:From /home/liina/anaconda3/lib/python3.7/site-packages/tensorflow/python/ops/resource_variable_ops.py:435: colocate_with (from tensorflow.python.framework.ops) is deprecated and will be removed in a future version.\n",
      "Instructions for updating:\n",
      "Colocations handled automatically by placer.\n",
      "WARNING:tensorflow:From /home/liina/anaconda3/lib/python3.7/site-packages/tensorflow/python/ops/math_ops.py:3066: to_int32 (from tensorflow.python.ops.math_ops) is deprecated and will be removed in a future version.\n",
      "Instructions for updating:\n",
      "Use tf.cast instead.\n"
     ]
    }
   ],
   "source": [
    "import sqlite3\n",
    "import pandas as pd\n",
    "import numpy as np\n",
    "import matplotlib.pyplot as plt\n",
    "from keras.models import load_model\n",
    "\n",
    "model = load_model('modules/neural_network/neural_network.h5')\n",
    "\n",
    "data = pd.read_csv(\"datasets/data.csv\")\n",
    "data = data.sort_values(['season', 'month'], ascending=(True, True))\n",
    "test = data[(data['season'] == 2015) & (data['month'] > 8)]\n",
    "\n",
    "y_test = test.loc[:, 'label']\n",
    "X_test = test.drop('label', axis=1)\n",
    "\n",
    "bookmakers = [\"B365\", \"BW\", \"IW\", \"LB\", \"WH\", \"VC\"]"
   ]
  },
  {
   "cell_type": "markdown",
   "metadata": {},
   "source": [
    "## Make constant predictions"
   ]
  },
  {
   "cell_type": "code",
   "execution_count": 2,
   "metadata": {},
   "outputs": [],
   "source": [
    "def predict_constant(X_test, y_test, constant_pred, bookmaker):\n",
    "    # total money\n",
    "    money = 0\n",
    "    # how much money we are betting on each match\n",
    "    money_to_bet = 1\n",
    "    # keep track of money at each bet for plotting\n",
    "    money_states = []\n",
    "    \n",
    "    for index in range(len(y_test)):\n",
    "\n",
    "        coefficients = [X_test.iloc[index][bookmaker + \"A\"], X_test.iloc[index][bookmaker + \"D\"], X_test.iloc[index][bookmaker + \"H\"]]\n",
    "        # make a bet\n",
    "        money -= money_to_bet\n",
    "        \n",
    "        # win money\n",
    "        if constant_pred == y_test.iloc[index]:\n",
    "            money += money_to_bet * coefficients[constant_pred]\n",
    "            \n",
    "        money_states.append(money)\n",
    "        \n",
    "    plt.plot(money_states, label=bookmaker)\n",
    "    return money"
   ]
  },
  {
   "cell_type": "code",
   "execution_count": null,
   "metadata": {},
   "outputs": [],
   "source": [
    "for bk in bookmakers:\n",
    "    profit = predict_constant(X_test, y_test, 2, bk)\n",
    "    print(\"BK \" + bk + \": profit \" + str(round(profit, 2)))\n",
    "    \n",
    "plt.legend()\n",
    "plt.xlabel(\"Games\")\n",
    "plt.ylabel(\"Total money\")\n",
    "plt.title(\"Constant betting HOME\")\n",
    "plt.show()\n",
    "\n",
    "for bk in bookmakers:\n",
    "    profit = predict_constant(X_test, y_test, 1, bk)\n",
    "    print(\"BK \" + bk + \": profit \" + str(round(profit, 2)))\n",
    "    \n",
    "plt.legend()\n",
    "plt.xlabel(\"Games\")\n",
    "plt.ylabel(\"Total money\")\n",
    "plt.title(\"Constant betting DRAW\")\n",
    "plt.show()\n",
    "\n",
    "for bk in bookmakers:\n",
    "    profit = predict_constant(X_test, y_test, 0, bk)\n",
    "    print(\"BK \" + bk + \": profit \" + str(round(profit, 2)))\n",
    "    \n",
    "plt.legend()\n",
    "plt.xlabel(\"Games\")\n",
    "plt.ylabel(\"Total money\")\n",
    "plt.title(\"Constant betting AWAY\")\n",
    "plt.show()"
   ]
  },
  {
   "cell_type": "markdown",
   "metadata": {},
   "source": [
    "## Make predictions using our neural network"
   ]
  },
  {
   "cell_type": "code",
   "execution_count": null,
   "metadata": {},
   "outputs": [],
   "source": [
    "def bet_on_prediction(X_test, y_test, predictions, bookmaker):\n",
    "    money = 0\n",
    "    money_on_bet = 1\n",
    "    money_states = []\n",
    "    \n",
    "    for index, prediction in enumerate(predictions):\n",
    "\n",
    "        coefficients = [X_test.iloc[index][bookmaker + \"A\"], X_test.iloc[index][bookmaker + \"D\"], X_test.iloc[index][bookmaker + \"H\"]]\n",
    "        \n",
    "        # make a bet\n",
    "        money -= money_on_bet\n",
    "        \n",
    "        # win money\n",
    "        if prediction == y_test.iloc[index]:\n",
    "            money += money_on_bet * coefficients[prediction]\n",
    "            \n",
    "        money_states.append(money)\n",
    "        \n",
    "    plt.plot(money_states, label=bookmaker)\n",
    "    \n",
    "    return money"
   ]
  },
  {
   "cell_type": "code",
   "execution_count": null,
   "metadata": {},
   "outputs": [],
   "source": [
    "predictions = np.argmax(model.predict(X_test), axis=1)\n",
    "\n",
    "for bk in bookmakers:\n",
    "    profit = bet_on_prediction(X_test, y_test, predictions, bk)\n",
    "    print(\"BK \" + bk + \": profit \" + str(round(profit, 2)))\n",
    "    \n",
    "plt.legend()\n",
    "plt.xlabel(\"Games\")\n",
    "plt.ylabel(\"Total money\")\n",
    "plt.title(\"Always betting on result predicted by neural network\")"
   ]
  },
  {
   "cell_type": "code",
   "execution_count": null,
   "metadata": {},
   "outputs": [],
   "source": [
    "def bet_on_prediction_without_draws(X_test, y_test, predictions, bookmaker):\n",
    "    money = 0\n",
    "    money_on_bet = 1\n",
    "    money_states = []\n",
    "    \n",
    "    for index, prediction in enumerate(predictions):\n",
    "\n",
    "        coefficients = [X_test.iloc[index][bookmaker + \"A\"], X_test.iloc[index][bookmaker + \"D\"], X_test.iloc[index][bookmaker + \"H\"]]\n",
    "        \n",
    "        # dont make bets if NN predicts draw\n",
    "        if prediction != 1:\n",
    "            # make a bet\n",
    "            money -= money_on_bet\n",
    "\n",
    "            # win money\n",
    "            if prediction == y_test.iloc[index]:\n",
    "                money += money_on_bet * coefficients[prediction]\n",
    "\n",
    "            money_states.append(money)\n",
    "        \n",
    "    plt.plot(money_states, label=bookmaker)\n",
    "    \n",
    "    return money"
   ]
  },
  {
   "cell_type": "code",
   "execution_count": null,
   "metadata": {},
   "outputs": [],
   "source": [
    "for bk in bookmakers:\n",
    "    profit = bet_on_prediction_without_draws(X_test, y_test, predictions, bk)\n",
    "    print(\"BK \" + bk + \": profit \" + str(round(profit, 2)))\n",
    "    \n",
    "plt.legend()\n",
    "plt.xlabel(\"Games\")\n",
    "plt.ylabel(\"Total money\")\n",
    "plt.title(\"Always betting on result predicted by neural network (no draws)\")"
   ]
  },
  {
   "cell_type": "code",
   "execution_count": null,
   "metadata": {},
   "outputs": [],
   "source": [
    "from joblib import load\n",
    "RF_cls = load(\"modules/neural_network/Random_forest.joblib\")"
   ]
  },
  {
   "cell_type": "code",
   "execution_count": null,
   "metadata": {},
   "outputs": [],
   "source": [
    "predictions = RF_cls.predict(X_test)\n",
    "\n",
    "for bk in bookmakers:\n",
    "    profit = bet_on_prediction(X_test, y_test.astype(np.int64), predictions, bk)\n",
    "    print(\"BK \" + bk + \": profit \" + str(round(profit, 2)))\n",
    "    \n",
    "plt.legend()\n",
    "plt.xlabel(\"Games\")\n",
    "plt.ylabel(\"Total money\")\n",
    "plt.title(\"Always betting on result predicted by neural network\")"
   ]
  },
  {
   "cell_type": "code",
   "execution_count": null,
   "metadata": {},
   "outputs": [],
   "source": []
  }
 ],
 "metadata": {
  "kernelspec": {
   "display_name": "Python 3",
   "language": "python",
   "name": "python3"
  },
  "language_info": {
   "codemirror_mode": {
    "name": "ipython",
    "version": 3
   },
   "file_extension": ".py",
   "mimetype": "text/x-python",
   "name": "python",
   "nbconvert_exporter": "python",
   "pygments_lexer": "ipython3",
   "version": "3.7.3"
  }
 },
 "nbformat": 4,
 "nbformat_minor": 4
}
