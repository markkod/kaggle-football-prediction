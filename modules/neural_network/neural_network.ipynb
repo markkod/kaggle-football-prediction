{
 "cells": [
  {
   "cell_type": "markdown",
   "metadata": {},
   "source": [
    "# Neural network"
   ]
  },
  {
   "cell_type": "markdown",
   "metadata": {},
   "source": [
    "### Try to use our own preprocessing"
   ]
  },
  {
   "cell_type": "code",
   "execution_count": 627,
   "metadata": {},
   "outputs": [],
   "source": [
    "import os\n",
    "import sys\n",
    "module_path = os.path.abspath(os.path.join('..'))\n",
    "if module_path not in sys.path:\n",
    "    sys.path.append(module_path)\n",
    "\n",
    "import sqlite3\n",
    "import pandas as pd\n",
    "import numpy as np\n",
    "from sklearn.ensemble import RandomForestClassifier\n",
    "from sklearn.metrics import accuracy_score\n",
    "from sklearn import model_selection\n",
    "from sklearn.model_selection import train_test_split\n",
    "from sklearn.metrics import make_scorer\n",
    "from time import time\n",
    "from sklearn.decomposition import PCA\n",
    "import warnings\n",
    "from pathlib import Path\n",
    "\n",
    "from utils.data_processing import create_feables\n",
    "from utils.data_processing import confusion_matrix\n",
    "\n",
    "warnings.simplefilter(\"ignore\")\n",
    "\n",
    "# You should run the ../../data_preprocessing.ipynb notebook to generate the data before running this\n",
    "data = pd.read_csv(\"../../datasets/data.csv\")\n",
    "# data = data.tail(3000)\n",
    "\n",
    "def normalize_bk_coefs(row, coef_name):\n",
    "    keys = ['H', 'A', 'D']\n",
    "    total = 0\n",
    "    for key in keys:\n",
    "        total += row[coef_name+key]\n",
    "    \n",
    "    for key in keys:\n",
    "        row[coef_name+key] = row[coef_name+key] / total\n",
    "    \n",
    "    return row\n",
    "\n",
    "# Normalize coefs\n",
    "bk = [\"B365\", \"BW\", \"IW\", \"LB\", \"WH\", \"VC\"]\n",
    "for coef_name in bk:\n",
    "    data = data.apply(lambda row: normalize_bk_coefs(row, coef_name), axis=1)\n",
    "\n",
    "\n",
    "labels = data.loc[:,'label']\n",
    "features = data.drop('label', axis = 1)\n",
    "\n",
    "print('Done')"
   ]
  },
  {
   "cell_type": "code",
   "execution_count": 628,
   "metadata": {},
   "outputs": [
    {
     "data": {
      "text/html": [
       "<div>\n",
       "<style scoped>\n",
       "    .dataframe tbody tr th:only-of-type {\n",
       "        vertical-align: middle;\n",
       "    }\n",
       "\n",
       "    .dataframe tbody tr th {\n",
       "        vertical-align: top;\n",
       "    }\n",
       "\n",
       "    .dataframe thead th {\n",
       "        text-align: right;\n",
       "    }\n",
       "</style>\n",
       "<table border=\"1\" class=\"dataframe\">\n",
       "  <thead>\n",
       "    <tr style=\"text-align: right;\">\n",
       "      <th></th>\n",
       "      <th>Unnamed: 0</th>\n",
       "      <th>season</th>\n",
       "      <th>month</th>\n",
       "      <th>stage</th>\n",
       "      <th>home_defencePressure</th>\n",
       "      <th>home_defenceAggression</th>\n",
       "      <th>home_defenceTeamWidth</th>\n",
       "      <th>away_defencePressure</th>\n",
       "      <th>away_defenceAggression</th>\n",
       "      <th>away_defenceTeamWidth</th>\n",
       "      <th>...</th>\n",
       "      <th>IWA</th>\n",
       "      <th>LBH</th>\n",
       "      <th>LBD</th>\n",
       "      <th>LBA</th>\n",
       "      <th>WHH</th>\n",
       "      <th>WHD</th>\n",
       "      <th>WHA</th>\n",
       "      <th>VCH</th>\n",
       "      <th>VCD</th>\n",
       "      <th>VCA</th>\n",
       "    </tr>\n",
       "  </thead>\n",
       "  <tbody>\n",
       "    <tr>\n",
       "      <th>2321</th>\n",
       "      <td>2363.0</td>\n",
       "      <td>2009.0</td>\n",
       "      <td>8.0</td>\n",
       "      <td>2.0</td>\n",
       "      <td>30.0</td>\n",
       "      <td>30.0</td>\n",
       "      <td>30.0</td>\n",
       "      <td>30.0</td>\n",
       "      <td>30.0</td>\n",
       "      <td>30.0</td>\n",
       "      <td>...</td>\n",
       "      <td>0.265060</td>\n",
       "      <td>0.294479</td>\n",
       "      <td>0.398773</td>\n",
       "      <td>0.306748</td>\n",
       "      <td>0.320685</td>\n",
       "      <td>0.403917</td>\n",
       "      <td>0.275398</td>\n",
       "      <td>0.324130</td>\n",
       "      <td>0.390156</td>\n",
       "      <td>0.285714</td>\n",
       "    </tr>\n",
       "    <tr>\n",
       "      <th>14423</th>\n",
       "      <td>15306.0</td>\n",
       "      <td>2009.0</td>\n",
       "      <td>8.0</td>\n",
       "      <td>4.0</td>\n",
       "      <td>40.0</td>\n",
       "      <td>50.0</td>\n",
       "      <td>40.0</td>\n",
       "      <td>30.0</td>\n",
       "      <td>40.0</td>\n",
       "      <td>50.0</td>\n",
       "      <td>...</td>\n",
       "      <td>0.404494</td>\n",
       "      <td>0.235294</td>\n",
       "      <td>0.352941</td>\n",
       "      <td>0.411765</td>\n",
       "      <td>0.242938</td>\n",
       "      <td>0.361582</td>\n",
       "      <td>0.395480</td>\n",
       "      <td>0.241379</td>\n",
       "      <td>0.367816</td>\n",
       "      <td>0.390805</td>\n",
       "    </tr>\n",
       "    <tr>\n",
       "      <th>7731</th>\n",
       "      <td>8229.0</td>\n",
       "      <td>2012.0</td>\n",
       "      <td>11.0</td>\n",
       "      <td>14.0</td>\n",
       "      <td>65.0</td>\n",
       "      <td>50.0</td>\n",
       "      <td>60.0</td>\n",
       "      <td>45.0</td>\n",
       "      <td>55.0</td>\n",
       "      <td>45.0</td>\n",
       "      <td>...</td>\n",
       "      <td>0.504673</td>\n",
       "      <td>0.141825</td>\n",
       "      <td>0.361337</td>\n",
       "      <td>0.496838</td>\n",
       "      <td>0.141825</td>\n",
       "      <td>0.361337</td>\n",
       "      <td>0.496838</td>\n",
       "      <td>0.153153</td>\n",
       "      <td>0.360360</td>\n",
       "      <td>0.486486</td>\n",
       "    </tr>\n",
       "    <tr>\n",
       "      <th>16078</th>\n",
       "      <td>17082.0</td>\n",
       "      <td>2013.0</td>\n",
       "      <td>4.0</td>\n",
       "      <td>33.0</td>\n",
       "      <td>60.0</td>\n",
       "      <td>70.0</td>\n",
       "      <td>70.0</td>\n",
       "      <td>60.0</td>\n",
       "      <td>70.0</td>\n",
       "      <td>70.0</td>\n",
       "      <td>...</td>\n",
       "      <td>0.235294</td>\n",
       "      <td>0.402235</td>\n",
       "      <td>0.368715</td>\n",
       "      <td>0.229050</td>\n",
       "      <td>0.417582</td>\n",
       "      <td>0.357143</td>\n",
       "      <td>0.225275</td>\n",
       "      <td>0.414894</td>\n",
       "      <td>0.372340</td>\n",
       "      <td>0.212766</td>\n",
       "    </tr>\n",
       "    <tr>\n",
       "      <th>505</th>\n",
       "      <td>537.0</td>\n",
       "      <td>2010.0</td>\n",
       "      <td>9.0</td>\n",
       "      <td>7.0</td>\n",
       "      <td>70.0</td>\n",
       "      <td>50.0</td>\n",
       "      <td>70.0</td>\n",
       "      <td>60.0</td>\n",
       "      <td>60.0</td>\n",
       "      <td>65.0</td>\n",
       "      <td>...</td>\n",
       "      <td>0.566802</td>\n",
       "      <td>0.093546</td>\n",
       "      <td>0.326323</td>\n",
       "      <td>0.580131</td>\n",
       "      <td>0.085487</td>\n",
       "      <td>0.318091</td>\n",
       "      <td>0.596421</td>\n",
       "      <td>0.079755</td>\n",
       "      <td>0.306748</td>\n",
       "      <td>0.613497</td>\n",
       "    </tr>\n",
       "  </tbody>\n",
       "</table>\n",
       "<p>5 rows × 31 columns</p>\n",
       "</div>"
      ],
      "text/plain": [
       "       Unnamed: 0  season  month  stage  home_defencePressure  \\\n",
       "2321       2363.0  2009.0    8.0    2.0                  30.0   \n",
       "14423     15306.0  2009.0    8.0    4.0                  40.0   \n",
       "7731       8229.0  2012.0   11.0   14.0                  65.0   \n",
       "16078     17082.0  2013.0    4.0   33.0                  60.0   \n",
       "505         537.0  2010.0    9.0    7.0                  70.0   \n",
       "\n",
       "       home_defenceAggression  home_defenceTeamWidth  away_defencePressure  \\\n",
       "2321                     30.0                   30.0                  30.0   \n",
       "14423                    50.0                   40.0                  30.0   \n",
       "7731                     50.0                   60.0                  45.0   \n",
       "16078                    70.0                   70.0                  60.0   \n",
       "505                      50.0                   70.0                  60.0   \n",
       "\n",
       "       away_defenceAggression  away_defenceTeamWidth  ...       IWA       LBH  \\\n",
       "2321                     30.0                   30.0  ...  0.265060  0.294479   \n",
       "14423                    40.0                   50.0  ...  0.404494  0.235294   \n",
       "7731                     55.0                   45.0  ...  0.504673  0.141825   \n",
       "16078                    70.0                   70.0  ...  0.235294  0.402235   \n",
       "505                      60.0                   65.0  ...  0.566802  0.093546   \n",
       "\n",
       "            LBD       LBA       WHH       WHD       WHA       VCH       VCD  \\\n",
       "2321   0.398773  0.306748  0.320685  0.403917  0.275398  0.324130  0.390156   \n",
       "14423  0.352941  0.411765  0.242938  0.361582  0.395480  0.241379  0.367816   \n",
       "7731   0.361337  0.496838  0.141825  0.361337  0.496838  0.153153  0.360360   \n",
       "16078  0.368715  0.229050  0.417582  0.357143  0.225275  0.414894  0.372340   \n",
       "505    0.326323  0.580131  0.085487  0.318091  0.596421  0.079755  0.306748   \n",
       "\n",
       "            VCA  \n",
       "2321   0.285714  \n",
       "14423  0.390805  \n",
       "7731   0.486486  \n",
       "16078  0.212766  \n",
       "505    0.613497  \n",
       "\n",
       "[5 rows x 31 columns]"
      ]
     },
     "execution_count": 628,
     "metadata": {},
     "output_type": "execute_result"
    }
   ],
   "source": [
    "from sklearn.model_selection import train_test_split\n",
    "\n",
    "\n",
    "#Splitting the data into train, test\n",
    "X_train, X_test, y_train, y_test = train_test_split(features, labels, test_size = 0.25, random_state = 42, shuffle = True, stratify = labels)\n",
    "\n",
    "# Show some rows of the data\n",
    "X_train.head()"
   ]
  },
  {
   "cell_type": "code",
   "execution_count": 629,
   "metadata": {},
   "outputs": [
    {
     "name": "stdout",
     "output_type": "stream",
     "text": [
      "Number of wins in test set: 2237\n",
      "Number of draws in test set: 1230\n",
      "Number of defeats in test set: 1405\n"
     ]
    },
    {
     "data": {
      "text/plain": [
       "2321     1.0\n",
       "14423    2.0\n",
       "7731     2.0\n",
       "16078    0.0\n",
       "505      2.0\n",
       "Name: label, dtype: float64"
      ]
     },
     "execution_count": 629,
     "metadata": {},
     "output_type": "execute_result"
    }
   ],
   "source": [
    "print(\"Number of wins in test set:\", np.sum(y_test == 2))\n",
    "print(\"Number of draws in test set:\", np.sum(y_test == 1))\n",
    "print(\"Number of defeats in test set:\", np.sum(y_test == 0))\n",
    "\n",
    "y_train.head()"
   ]
  },
  {
   "cell_type": "code",
   "execution_count": 630,
   "metadata": {},
   "outputs": [
    {
     "name": "stdout",
     "output_type": "stream",
     "text": [
      "Number of possible outcomes 3\n",
      "Labels: [0. 1. 2.]\n"
     ]
    }
   ],
   "source": [
    "# Match outcome\n",
    "y_train.head()\n",
    "\n",
    "# Number of possible outcomes\n",
    "# 2 = win\n",
    "# 1 = draw\n",
    "# 0 = lose\n",
    "print('Number of possible outcomes', np.unique(y_train.values).shape[0])\n",
    "labels = np.unique(y_train.values)\n",
    "print(\"Labels:\", labels)\n"
   ]
  },
  {
   "cell_type": "code",
   "execution_count": 631,
   "metadata": {},
   "outputs": [
    {
     "name": "stdout",
     "output_type": "stream",
     "text": [
      "Number of columns: 31\n"
     ]
    }
   ],
   "source": [
    "# Get number of columns by getting the number of columns in the X_train\n",
    "columns = X_train.shape[1]\n",
    "print('Number of columns:', columns)"
   ]
  },
  {
   "cell_type": "code",
   "execution_count": 632,
   "metadata": {},
   "outputs": [
    {
     "data": {
      "image/png": "[encoded data removed]",
      "text/plain": [
       "<Figure size 432x288 with 1 Axes>"
      ]
     },
     "metadata": {
      "needs_background": "light"
     },
     "output_type": "display_data"
    }
   ],
   "source": [
    "import matplotlib.pyplot as plt\n",
    "\n",
    "# Plot the distribution of labels in the train data\n",
    "def plot_labels_histogram(data):\n",
    "    plt.hist(data, facecolor='purple', align='mid')\n",
    "    plt.ylabel('Number of instances')\n",
    "    plt.xlabel('0 - defeat, 1 - tie, 2 - win')\n",
    "    plt.title(\"Label distribution\")\n",
    "    \n",
    "plot_labels_histogram(y_train)"
   ]
  },
  {
   "cell_type": "code",
   "execution_count": 633,
   "metadata": {},
   "outputs": [
    {
     "data": {
      "image/png": "[encoded data removed]",
      "text/plain": [
       "<Figure size 432x288 with 1 Axes>"
      ]
     },
     "metadata": {
      "needs_background": "light"
     },
     "output_type": "display_data"
    }
   ],
   "source": [
    "from imblearn.over_sampling import RandomOverSampler\n",
    "\n",
    "# Since the train data is uneven and the dataset is not \"huge\" we need to upsamle/oversample\n",
    "sampler = RandomOverSampler()\n",
    "X_train_sampled, y_train_sampled = sampler.fit_sample(X_train, y_train)\n",
    "\n",
    "# Plot the oversampled train set\n",
    "plot_labels_histogram(y_train_sampled)"
   ]
  },
  {
   "cell_type": "code",
   "execution_count": 634,
   "metadata": {},
   "outputs": [
    {
     "data": {
      "image/png": "[encoded data removed]",
      "text/plain": [
       "<Figure size 432x288 with 1 Axes>"
      ]
     },
     "metadata": {
      "needs_background": "light"
     },
     "output_type": "display_data"
    }
   ],
   "source": [
    "from sklearn.utils import shuffle\n",
    "\n",
    "# Assign train values with the new sampled data\n",
    "X_train, y_train = shuffle(X_train_sampled, y_train_sampled, random_state=42)\n",
    "\n",
    "plot_labels_histogram(y_train)"
   ]
  },
  {
   "cell_type": "code",
   "execution_count": 635,
   "metadata": {},
   "outputs": [
    {
     "name": "stdout",
     "output_type": "stream",
     "text": [
      "_________________________________________________________________\n",
      "Layer (type)                 Output Shape              Param #   \n",
      "=================================================================\n",
      "dense_341 (Dense)            (None, 20)                640       \n",
      "_________________________________________________________________\n",
      "dense_342 (Dense)            (None, 16)                336       \n",
      "_________________________________________________________________\n",
      "dense_343 (Dense)            (None, 3)                 51        \n",
      "=================================================================\n",
      "Total params: 1,027\n",
      "Trainable params: 1,027\n",
      "Non-trainable params: 0\n",
      "_________________________________________________________________\n"
     ]
    }
   ],
   "source": [
    "from keras.models import Model, Sequential\n",
    "from keras.layers import Input, Activation, Flatten, Dense, Dropout, LeakyReLU\n",
    "from keras.optimizers import SGD, Adam\n",
    "from keras import regularizers\n",
    "\n",
    "model = Sequential() \n",
    "model.add(Dense(20, input_dim=columns, activation='tanh'))\n",
    "# model.add(Dropout(0.2))\n",
    "model.add(Dense(16, activation='tanh'))\n",
    "model.add(Dense(3, activation='softmax'))\n",
    "\n",
    "model.compile(loss='categorical_crossentropy', optimizer=Adam(lr=1e-05), metrics=['accuracy'])\n",
    "model.summary()"
   ]
  },
  {
   "cell_type": "code",
   "execution_count": 636,
   "metadata": {},
   "outputs": [
    {
     "name": "stdout",
     "output_type": "stream",
     "text": [
      "Unique labels in the train set:  [0. 1. 2.]\n",
      "Unique labels in the train set after encoding:  [[0. 0. 1.]\n",
      " [0. 1. 0.]\n",
      " [1. 0. 0.]]\n",
      "------------------------------------------------------------------------------------------ \n",
      "\n",
      "Train on 16104 samples, validate on 4026 samples\n",
      "Epoch 1/100\n",
      "16104/16104 [==============================] - 8s 492us/step - loss: 1.2454 - acc: 0.3325 - val_loss: 1.2381 - val_acc: 0.3251\n",
      "Epoch 2/100\n",
      "16104/16104 [==============================] - 1s 60us/step - loss: 1.2038 - acc: 0.3323 - val_loss: 1.1996 - val_acc: 0.3202\n",
      "Epoch 3/100\n",
      "16104/16104 [==============================] - 1s 60us/step - loss: 1.1722 - acc: 0.3315 - val_loss: 1.1702 - val_acc: 0.3199\n",
      "Epoch 4/100\n",
      "16104/16104 [==============================] - 1s 65us/step - loss: 1.1486 - acc: 0.3317 - val_loss: 1.1485 - val_acc: 0.3207\n",
      "Epoch 5/100\n",
      "16104/16104 [==============================] - 1s 63us/step - loss: 1.1317 - acc: 0.3320 - val_loss: 1.1328 - val_acc: 0.3214\n",
      "Epoch 6/100\n",
      "16104/16104 [==============================] - 1s 64us/step - loss: 1.1202 - acc: 0.3318 - val_loss: 1.1223 - val_acc: 0.3209\n",
      "Epoch 7/100\n",
      "16104/16104 [==============================] - 1s 63us/step - loss: 1.1127 - acc: 0.3309 - val_loss: 1.1153 - val_acc: 0.3296\n",
      "Epoch 8/100\n",
      "16104/16104 [==============================] - 1s 63us/step - loss: 1.1082 - acc: 0.3345 - val_loss: 1.1108 - val_acc: 0.3291\n",
      "Epoch 9/100\n",
      "16104/16104 [==============================] - 1s 63us/step - loss: 1.1055 - acc: 0.3343 - val_loss: 1.1081 - val_acc: 0.3294\n",
      "Epoch 10/100\n",
      "16104/16104 [==============================] - 1s 64us/step - loss: 1.1040 - acc: 0.3344 - val_loss: 1.1066 - val_acc: 0.3294\n",
      "Epoch 11/100\n",
      "16104/16104 [==============================] - 1s 63us/step - loss: 1.1032 - acc: 0.3345 - val_loss: 1.1056 - val_acc: 0.3294\n",
      "Epoch 12/100\n",
      "16104/16104 [==============================] - 1s 64us/step - loss: 1.1027 - acc: 0.3343 - val_loss: 1.1049 - val_acc: 0.3294\n",
      "Epoch 13/100\n",
      "16104/16104 [==============================] - 1s 62us/step - loss: 1.1024 - acc: 0.3345 - val_loss: 1.1045 - val_acc: 0.3294\n",
      "Epoch 14/100\n",
      "16104/16104 [==============================] - 1s 61us/step - loss: 1.1022 - acc: 0.3345 - val_loss: 1.1041 - val_acc: 0.3291\n",
      "Epoch 15/100\n",
      "16104/16104 [==============================] - 1s 63us/step - loss: 1.1020 - acc: 0.3345 - val_loss: 1.1038 - val_acc: 0.3294\n",
      "Epoch 16/100\n",
      "16104/16104 [==============================] - 1s 63us/step - loss: 1.1019 - acc: 0.3346 - val_loss: 1.1035 - val_acc: 0.3294\n",
      "Epoch 17/100\n",
      "16104/16104 [==============================] - 1s 61us/step - loss: 1.1017 - acc: 0.3346 - val_loss: 1.1033 - val_acc: 0.3313\n",
      "Epoch 18/100\n",
      "16104/16104 [==============================] - 1s 62us/step - loss: 1.1016 - acc: 0.3354 - val_loss: 1.1031 - val_acc: 0.3313\n",
      "Epoch 19/100\n",
      "16104/16104 [==============================] - 1s 64us/step - loss: 1.1015 - acc: 0.3353 - val_loss: 1.1029 - val_acc: 0.3313\n",
      "Epoch 20/100\n",
      "16104/16104 [==============================] - 1s 63us/step - loss: 1.1014 - acc: 0.3353 - val_loss: 1.1028 - val_acc: 0.3313\n",
      "Epoch 21/100\n",
      "16104/16104 [==============================] - 1s 64us/step - loss: 1.1013 - acc: 0.3354 - val_loss: 1.1026 - val_acc: 0.3311\n",
      "Epoch 22/100\n",
      "16104/16104 [==============================] - 1s 63us/step - loss: 1.1012 - acc: 0.3354 - val_loss: 1.1025 - val_acc: 0.3311\n",
      "Epoch 23/100\n",
      "16104/16104 [==============================] - 1s 63us/step - loss: 1.1011 - acc: 0.3356 - val_loss: 1.1023 - val_acc: 0.3311\n",
      "Epoch 24/100\n",
      "16104/16104 [==============================] - 1s 63us/step - loss: 1.1010 - acc: 0.3355 - val_loss: 1.1022 - val_acc: 0.3311\n",
      "Epoch 25/100\n",
      "16104/16104 [==============================] - 1s 64us/step - loss: 1.1009 - acc: 0.3355 - val_loss: 1.1020 - val_acc: 0.3311\n",
      "Epoch 26/100\n",
      "16104/16104 [==============================] - 1s 64us/step - loss: 1.1008 - acc: 0.3356 - val_loss: 1.1018 - val_acc: 0.3311\n",
      "Epoch 27/100\n",
      "16104/16104 [==============================] - 1s 64us/step - loss: 1.1008 - acc: 0.3355 - val_loss: 1.1018 - val_acc: 0.3311\n",
      "Epoch 28/100\n",
      "16104/16104 [==============================] - 1s 64us/step - loss: 1.1007 - acc: 0.3356 - val_loss: 1.1017 - val_acc: 0.3311\n",
      "Epoch 29/100\n",
      "16104/16104 [==============================] - 1s 64us/step - loss: 1.1006 - acc: 0.3336 - val_loss: 1.1016 - val_acc: 0.3311\n",
      "Epoch 30/100\n",
      "16104/16104 [==============================] - 1s 65us/step - loss: 1.1006 - acc: 0.3356 - val_loss: 1.1015 - val_acc: 0.3311\n",
      "Epoch 31/100\n",
      "16104/16104 [==============================] - 1s 64us/step - loss: 1.1005 - acc: 0.3356 - val_loss: 1.1014 - val_acc: 0.3308\n",
      "Epoch 32/100\n",
      "16104/16104 [==============================] - 1s 64us/step - loss: 1.1005 - acc: 0.3357 - val_loss: 1.1014 - val_acc: 0.3311\n",
      "Epoch 33/100\n",
      "16104/16104 [==============================] - 1s 65us/step - loss: 1.1004 - acc: 0.3357 - val_loss: 1.1013 - val_acc: 0.3311\n",
      "Epoch 34/100\n",
      "16104/16104 [==============================] - 1s 64us/step - loss: 1.1004 - acc: 0.3357 - val_loss: 1.1012 - val_acc: 0.3311\n",
      "Epoch 35/100\n",
      "16104/16104 [==============================] - 1s 63us/step - loss: 1.1003 - acc: 0.3356 - val_loss: 1.1011 - val_acc: 0.3313\n",
      "Epoch 36/100\n",
      "16104/16104 [==============================] - 1s 64us/step - loss: 1.1003 - acc: 0.3355 - val_loss: 1.1010 - val_acc: 0.3313\n",
      "Epoch 37/100\n",
      "16104/16104 [==============================] - 1s 64us/step - loss: 1.1002 - acc: 0.3340 - val_loss: 1.1010 - val_acc: 0.3311\n",
      "Epoch 38/100\n",
      "16104/16104 [==============================] - 1s 61us/step - loss: 1.1002 - acc: 0.3328 - val_loss: 1.1009 - val_acc: 0.3311\n",
      "Epoch 39/100\n",
      "16104/16104 [==============================] - 1s 63us/step - loss: 1.1001 - acc: 0.3362 - val_loss: 1.1009 - val_acc: 0.3351\n",
      "Epoch 40/100\n",
      "16104/16104 [==============================] - 1s 63us/step - loss: 1.1001 - acc: 0.3363 - val_loss: 1.1008 - val_acc: 0.3351\n",
      "Epoch 41/100\n",
      "16104/16104 [==============================] - 1s 66us/step - loss: 1.1001 - acc: 0.3335 - val_loss: 1.1008 - val_acc: 0.3351\n",
      "Epoch 42/100\n",
      "16104/16104 [==============================] - 1s 64us/step - loss: 1.1000 - acc: 0.3361 - val_loss: 1.1007 - val_acc: 0.3353\n",
      "Epoch 43/100\n",
      "16104/16104 [==============================] - 1s 63us/step - loss: 1.1000 - acc: 0.3362 - val_loss: 1.1007 - val_acc: 0.3353\n",
      "Epoch 44/100\n",
      "16104/16104 [==============================] - 1s 64us/step - loss: 1.0999 - acc: 0.3362 - val_loss: 1.1006 - val_acc: 0.3353\n",
      "Epoch 45/100\n",
      "16104/16104 [==============================] - 1s 63us/step - loss: 1.0999 - acc: 0.3363 - val_loss: 1.1005 - val_acc: 0.3351\n",
      "Epoch 46/100\n",
      "16104/16104 [==============================] - 1s 68us/step - loss: 1.0999 - acc: 0.3362 - val_loss: 1.1004 - val_acc: 0.3351\n",
      "Epoch 47/100\n",
      "16104/16104 [==============================] - 1s 68us/step - loss: 1.0998 - acc: 0.3360 - val_loss: 1.1004 - val_acc: 0.3351\n",
      "Epoch 48/100\n",
      "16104/16104 [==============================] - 1s 66us/step - loss: 1.0998 - acc: 0.3334 - val_loss: 1.1003 - val_acc: 0.3348\n",
      "Epoch 49/100\n",
      "16104/16104 [==============================] - 1s 67us/step - loss: 1.0998 - acc: 0.3329 - val_loss: 1.1003 - val_acc: 0.3353\n",
      "Epoch 50/100\n",
      "16104/16104 [==============================] - 1s 64us/step - loss: 1.0997 - acc: 0.3297 - val_loss: 1.1003 - val_acc: 0.3353\n",
      "Epoch 51/100\n",
      "16104/16104 [==============================] - 1s 66us/step - loss: 1.0997 - acc: 0.3336 - val_loss: 1.1002 - val_acc: 0.3356\n",
      "Epoch 52/100\n",
      "16104/16104 [==============================] - 1s 66us/step - loss: 1.0997 - acc: 0.3340 - val_loss: 1.1002 - val_acc: 0.3356\n",
      "Epoch 53/100\n",
      "16104/16104 [==============================] - 1s 66us/step - loss: 1.0996 - acc: 0.3361 - val_loss: 1.1001 - val_acc: 0.3353\n",
      "Epoch 54/100\n",
      "16104/16104 [==============================] - 1s 65us/step - loss: 1.0996 - acc: 0.3274 - val_loss: 1.1001 - val_acc: 0.3490\n",
      "Epoch 55/100\n",
      "16104/16104 [==============================] - 1s 66us/step - loss: 1.0996 - acc: 0.3325 - val_loss: 1.1001 - val_acc: 0.3351\n",
      "Epoch 56/100\n",
      "16104/16104 [==============================] - 1s 66us/step - loss: 1.0996 - acc: 0.3308 - val_loss: 1.1001 - val_acc: 0.3351\n",
      "Epoch 57/100\n",
      "16104/16104 [==============================] - 1s 67us/step - loss: 1.0995 - acc: 0.3331 - val_loss: 1.1000 - val_acc: 0.3351\n",
      "Epoch 58/100\n"
     ]
    },
    {
     "name": "stdout",
     "output_type": "stream",
     "text": [
      "16104/16104 [==============================] - 1s 66us/step - loss: 1.0995 - acc: 0.3343 - val_loss: 1.1000 - val_acc: 0.3351\n",
      "Epoch 59/100\n",
      "16104/16104 [==============================] - 1s 62us/step - loss: 1.0995 - acc: 0.3351 - val_loss: 1.1000 - val_acc: 0.3351\n",
      "Epoch 60/100\n",
      "16104/16104 [==============================] - 1s 62us/step - loss: 1.0995 - acc: 0.3353 - val_loss: 1.0999 - val_acc: 0.3351\n",
      "Epoch 61/100\n",
      "16104/16104 [==============================] - 1s 66us/step - loss: 1.0995 - acc: 0.3277 - val_loss: 1.0998 - val_acc: 0.3351\n",
      "Epoch 62/100\n",
      "16104/16104 [==============================] - 1s 69us/step - loss: 1.0994 - acc: 0.3366 - val_loss: 1.0999 - val_acc: 0.3351\n",
      "Epoch 63/100\n",
      "16104/16104 [==============================] - 1s 62us/step - loss: 1.0994 - acc: 0.3361 - val_loss: 1.0998 - val_acc: 0.3351\n",
      "Epoch 64/100\n",
      "16104/16104 [==============================] - 1s 70us/step - loss: 1.0994 - acc: 0.3330 - val_loss: 1.0998 - val_acc: 0.3351\n",
      "Epoch 65/100\n",
      "16104/16104 [==============================] - 1s 67us/step - loss: 1.0993 - acc: 0.3318 - val_loss: 1.0998 - val_acc: 0.3351\n",
      "Epoch 66/100\n",
      "16104/16104 [==============================] - 1s 60us/step - loss: 1.0993 - acc: 0.3365 - val_loss: 1.0998 - val_acc: 0.3351\n",
      "Epoch 67/100\n",
      "16104/16104 [==============================] - 1s 62us/step - loss: 1.0993 - acc: 0.3325 - val_loss: 1.0997 - val_acc: 0.3351\n",
      "Epoch 68/100\n",
      "16104/16104 [==============================] - 1s 64us/step - loss: 1.0993 - acc: 0.3318 - val_loss: 1.0997 - val_acc: 0.3351\n",
      "Epoch 69/100\n",
      "16104/16104 [==============================] - 1s 70us/step - loss: 1.0993 - acc: 0.3307 - val_loss: 1.0997 - val_acc: 0.3351\n",
      "Epoch 70/100\n",
      "16104/16104 [==============================] - 1s 61us/step - loss: 1.0992 - acc: 0.3331 - val_loss: 1.0997 - val_acc: 0.3351\n",
      "Epoch 71/100\n",
      "16104/16104 [==============================] - 1s 62us/step - loss: 1.0992 - acc: 0.3353 - val_loss: 1.0996 - val_acc: 0.3490\n",
      "Epoch 72/100\n",
      "16104/16104 [==============================] - 1s 61us/step - loss: 1.0992 - acc: 0.3335 - val_loss: 1.0996 - val_acc: 0.3351\n",
      "Epoch 73/100\n",
      "16104/16104 [==============================] - 1s 60us/step - loss: 1.0992 - acc: 0.3318 - val_loss: 1.0996 - val_acc: 0.3351\n",
      "Epoch 74/100\n",
      "16104/16104 [==============================] - 1s 63us/step - loss: 1.0992 - acc: 0.3367 - val_loss: 1.0996 - val_acc: 0.3351\n",
      "Epoch 75/100\n",
      "16104/16104 [==============================] - 1s 61us/step - loss: 1.0991 - acc: 0.3337 - val_loss: 1.0995 - val_acc: 0.3490\n",
      "Epoch 76/100\n",
      "16104/16104 [==============================] - 1s 60us/step - loss: 1.0991 - acc: 0.3361 - val_loss: 1.0995 - val_acc: 0.3490\n",
      "Epoch 77/100\n",
      "16104/16104 [==============================] - 1s 62us/step - loss: 1.0991 - acc: 0.3322 - val_loss: 1.0995 - val_acc: 0.3490\n",
      "Epoch 78/100\n",
      "16104/16104 [==============================] - 1s 60us/step - loss: 1.0991 - acc: 0.3322 - val_loss: 1.0995 - val_acc: 0.3351\n",
      "Epoch 79/100\n",
      "16104/16104 [==============================] - 1s 63us/step - loss: 1.0991 - acc: 0.3317 - val_loss: 1.0994 - val_acc: 0.3351\n",
      "Epoch 80/100\n",
      "16104/16104 [==============================] - 1s 66us/step - loss: 1.0990 - acc: 0.3326 - val_loss: 1.0995 - val_acc: 0.3351\n",
      "Epoch 81/100\n",
      "16104/16104 [==============================] - 1s 67us/step - loss: 1.0990 - acc: 0.3333 - val_loss: 1.0995 - val_acc: 0.3351\n",
      "Epoch 82/100\n",
      "16104/16104 [==============================] - 1s 70us/step - loss: 1.0990 - acc: 0.3368 - val_loss: 1.0994 - val_acc: 0.3351\n",
      "Epoch 83/100\n",
      "16104/16104 [==============================] - 1s 71us/step - loss: 1.0990 - acc: 0.3352 - val_loss: 1.0994 - val_acc: 0.3351\n",
      "Epoch 84/100\n",
      "16104/16104 [==============================] - 1s 72us/step - loss: 1.0990 - acc: 0.3315 - val_loss: 1.0994 - val_acc: 0.3351\n",
      "Epoch 85/100\n",
      "16104/16104 [==============================] - 1s 73us/step - loss: 1.0990 - acc: 0.3349 - val_loss: 1.0994 - val_acc: 0.3351\n",
      "Epoch 86/100\n",
      "16104/16104 [==============================] - 1s 73us/step - loss: 1.0989 - acc: 0.3363 - val_loss: 1.0993 - val_acc: 0.3351\n",
      "Epoch 87/100\n",
      "16104/16104 [==============================] - 1s 74us/step - loss: 1.0989 - acc: 0.3343 - val_loss: 1.0993 - val_acc: 0.3490\n",
      "Epoch 88/100\n",
      "16104/16104 [==============================] - 1s 72us/step - loss: 1.0989 - acc: 0.3355 - val_loss: 1.0993 - val_acc: 0.3490\n",
      "Epoch 89/100\n",
      "16104/16104 [==============================] - 1s 70us/step - loss: 1.0989 - acc: 0.3329 - val_loss: 1.0993 - val_acc: 0.3351\n",
      "Epoch 90/100\n",
      "16104/16104 [==============================] - 1s 70us/step - loss: 1.0989 - acc: 0.3355 - val_loss: 1.0993 - val_acc: 0.3351\n",
      "Epoch 91/100\n",
      "16104/16104 [==============================] - 1s 67us/step - loss: 1.0989 - acc: 0.3302 - val_loss: 1.0993 - val_acc: 0.3351\n",
      "Epoch 92/100\n",
      "16104/16104 [==============================] - 1s 63us/step - loss: 1.0988 - acc: 0.3346 - val_loss: 1.0993 - val_acc: 0.3351\n",
      "Epoch 93/100\n",
      "16104/16104 [==============================] - 1s 61us/step - loss: 1.0988 - acc: 0.3368 - val_loss: 1.0992 - val_acc: 0.3351\n",
      "Epoch 94/100\n",
      "16104/16104 [==============================] - 1s 60us/step - loss: 1.0988 - acc: 0.3354 - val_loss: 1.0992 - val_acc: 0.3351\n",
      "Epoch 95/100\n",
      "16104/16104 [==============================] - 1s 64us/step - loss: 1.0988 - acc: 0.3343 - val_loss: 1.0992 - val_acc: 0.3490\n",
      "Epoch 96/100\n",
      "16104/16104 [==============================] - 1s 63us/step - loss: 1.0988 - acc: 0.3343 - val_loss: 1.0992 - val_acc: 0.3351\n",
      "Epoch 97/100\n",
      "16104/16104 [==============================] - 1s 62us/step - loss: 1.0988 - acc: 0.3318 - val_loss: 1.0992 - val_acc: 0.3490\n",
      "Epoch 98/100\n",
      "16104/16104 [==============================] - 1s 62us/step - loss: 1.0987 - acc: 0.3327 - val_loss: 1.0992 - val_acc: 0.3490\n",
      "Epoch 99/100\n",
      "16104/16104 [==============================] - 1s 61us/step - loss: 1.0987 - acc: 0.3338 - val_loss: 1.0991 - val_acc: 0.3490\n",
      "Epoch 100/100\n",
      "16104/16104 [==============================] - 1s 60us/step - loss: 1.0987 - acc: 0.3306 - val_loss: 1.0991 - val_acc: 0.3490\n"
     ]
    }
   ],
   "source": [
    "from keras.utils.np_utils import to_categorical\n",
    "\n",
    "# Convert a class vector (integers) to binary class matrix.\n",
    "print(\"Unique labels in the train set: \", np.unique(y_train))\n",
    "# One hot encoding\n",
    "y_train_categorical = to_categorical(y_train, num_classes=len(labels))\n",
    "print(\"Unique labels in the train set after encoding: \", np.unique(y_train_categorical, axis=0))\n",
    "\n",
    "print(\"------------------------------------------------------------------------------------------ \\n\")\n",
    "history = model.fit(X_train, y_train_categorical, batch_size=64, epochs=100, validation_split=0.2)"
   ]
  },
  {
   "cell_type": "code",
   "execution_count": 637,
   "metadata": {},
   "outputs": [
    {
     "data": {
      "image/png": "[encoded data removed]",
      "text/plain": [
       "<Figure size 432x288 with 1 Axes>"
      ]
     },
     "metadata": {
      "needs_background": "light"
     },
     "output_type": "display_data"
    }
   ],
   "source": [
    "import matplotlib.pyplot as plt\n",
    "\n",
    "plt.plot(history.history['loss'], label='train')\n",
    "plt.plot(history.history['val_loss'], label='validation')\n",
    "plt.legend()\n",
    "plt.show()"
   ]
  },
  {
   "cell_type": "code",
   "execution_count": 638,
   "metadata": {},
   "outputs": [
    {
     "data": {
      "image/png": "[encoded data removed]",
      "text/plain": [
       "<Figure size 432x288 with 1 Axes>"
      ]
     },
     "metadata": {
      "needs_background": "light"
     },
     "output_type": "display_data"
    }
   ],
   "source": [
    "plt.plot(history.history['acc'], label='accuracy')\n",
    "plt.plot(history.history['val_acc'], label='validation accuracy')\n",
    "plt.legend()\n",
    "plt.show()"
   ]
  },
  {
   "cell_type": "code",
   "execution_count": 639,
   "metadata": {},
   "outputs": [
    {
     "name": "stdout",
     "output_type": "stream",
     "text": [
      "[0 1 2]\n",
      "Test set accuracy: 0.4433497536945813\n"
     ]
    }
   ],
   "source": [
    "# Take the most probable prediction\n",
    "# print(model.predict(X_test))\n",
    "predictions = np.argmax(model.predict(X_test), axis=1)\n",
    "print(np.unique(predictions))\n",
    "# Calculate accuracy\n",
    "accuracy = (predictions == y_test).mean()\n",
    "print(\"Test set accuracy:\", accuracy)"
   ]
  },
  {
   "cell_type": "markdown",
   "metadata": {},
   "source": [
    "# Let us plot the confusion matrix"
   ]
  },
  {
   "cell_type": "code",
   "execution_count": 640,
   "metadata": {},
   "outputs": [
    {
     "name": "stdout",
     "output_type": "stream",
     "text": [
      "164\n",
      "[0 1 2]\n",
      "Neural network confusion matrix: \n",
      "                    Home wins (pred)  Draw (pred)  Home loses (pred)\n",
      "Home wins (true)               2056           64                117\n",
      "Draw (true)                    1132           43                 55\n",
      "Home loses (true)              1287           57                 61\n",
      "\n",
      " True labels distribution: \n",
      "\n"
     ]
    },
    {
     "data": {
      "image/png": "[encoded data removed]",
      "text/plain": [
       "<Figure size 432x288 with 1 Axes>"
      ]
     },
     "metadata": {
      "needs_background": "light"
     },
     "output_type": "display_data"
    }
   ],
   "source": [
    "# from utils.data_processing import build_confusion_matrix\n",
    "\n",
    "# TODO: Remove this and use the commented import instead\n",
    "def build_confusion_matrix(y_true, y_pred):\n",
    "    return pd.DataFrame(confusion_matrix(y_true, y_pred, labels=[2, 1, 0]),\n",
    "                        index=['Home wins (true)', 'Draw (true)', 'Home loses (true)'],\n",
    "                        columns=['Home wins (pred)', 'Draw (pred)', 'Home loses (pred)'])\n",
    "\n",
    "print(np.sum((predictions == 1)))\n",
    "print(np.unique(predictions))\n",
    "print(\"Neural network confusion matrix: \\n\", build_confusion_matrix(y_test, predictions))\n",
    "\n",
    "\n",
    "print('\\n True labels distribution: \\n')\n",
    "plot_labels_histogram(y_test)"
   ]
  },
  {
   "cell_type": "markdown",
   "metadata": {},
   "source": [
    "# Comparing Neural network to Random forest"
   ]
  },
  {
   "cell_type": "code",
   "execution_count": null,
   "metadata": {},
   "outputs": [],
   "source": [
    "#Splitting the data into Train, Calibrate, and Test data sets\n",
    "X_train_calibrate, X_test, y_train_calibrate, y_test = train_test_split(features, labels, test_size = 0.25, random_state = 0, stratify = labels)\n",
    "X_train, X_calibrate, y_train, y_calibrate = train_test_split(X_train_calibrate, y_train_calibrate, test_size = 0.25, random_state = 0, stratify = y_train_calibrate)\n"
   ]
  },
  {
   "cell_type": "code",
   "execution_count": null,
   "metadata": {},
   "outputs": [],
   "source": [
    "from utils.data_processing import train_calibrate_predict\n",
    "\n",
    "# Creating cross validation data splits\n",
    "cv_sets = model_selection.StratifiedShuffleSplit(n_splits = 5, test_size = 0.20, random_state = 5)\n",
    "cv_sets.get_n_splits(X_train, y_train)\n",
    "\n",
    "# Init Random Forest\n",
    "RF_clf = RandomForestClassifier(n_estimators = 200, random_state = 1, class_weight = 'balanced')\n",
    "\n",
    "#Specficying scorer and parameters for grid search\n",
    "feature_len = features.shape[1]\n",
    "scorer = make_scorer(accuracy_score)\n",
    "parameters_RF = {'clf__max_features': ['auto', 'log2'], 'dm_reduce__n_components': np.arange(5, feature_len, int(np.around(feature_len/5)))}\n",
    "\n",
    "#Initializing dimensionality reductions\n",
    "pca = PCA()\n",
    "RF_clf.fit(X_train, y_train)\n",
    "\n",
    "print(\"Random forest accuracy for train set.\".format(RF_clf.__class__.__name__, accuracy_score(y_train, RF_clf.predict(X_train))))\n",
    "print(\"Random forest accuracy for test set\".format(RF_clf.__class__.__name__, accuracy_score(y_test, RF_clf.predict(X_test))))\n",
    "\n",
    "#Grid search, calibrate, and test the classifier\n",
    "calibrated_RF_clf, dm_reduce, train_score, test_score = train_calibrate_predict(clf = RF_clf, dm_reduction = pca, X_train = X_train, y_train = y_train,\n",
    "                                                                  X_calibrate = X_calibrate, y_calibrate = y_calibrate,\n",
    "                                                                  X_test = X_test, y_test = y_test, cv_sets = cv_sets,\n",
    "                                                                  params = parameters_RF, scorer = scorer, jobs = 1, use_grid_search = True)"
   ]
  },
  {
   "cell_type": "code",
   "execution_count": null,
   "metadata": {},
   "outputs": [],
   "source": [
    "rf_predictions = RF_clf.predict(X_test)\n",
    "\n",
    "# Calculate accuracy\n",
    "accuracy = (rf_predictions == y_test).mean()\n",
    "print(\"Random forest test set accuracy:\", accuracy)"
   ]
  },
  {
   "cell_type": "code",
   "execution_count": null,
   "metadata": {},
   "outputs": [],
   "source": [
    "print(\"Random forest confusion matrix: \\n\", build_confusion_matrix(y_test, rf_predictions))"
   ]
  },
  {
   "cell_type": "markdown",
   "metadata": {},
   "source": [
    "# Conclusion"
   ]
  }
 ],
 "metadata": {
  "kernelspec": {
   "display_name": "Python 3",
   "language": "python",
   "name": "python3"
  },
  "language_info": {
   "codemirror_mode": {
    "name": "ipython",
    "version": 3
   },
   "file_extension": ".py",
   "mimetype": "text/x-python",
   "name": "python",
   "nbconvert_exporter": "python",
   "pygments_lexer": "ipython3",
   "version": "3.7.3"
  }
 },
 "nbformat": 4,
 "nbformat_minor": 2
}
