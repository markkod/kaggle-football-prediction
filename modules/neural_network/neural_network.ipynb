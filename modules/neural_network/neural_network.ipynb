{
 "cells": [
  {
   "cell_type": "markdown",
   "metadata": {},
   "source": [
    "# Neural network"
   ]
  },
  {
   "cell_type": "markdown",
   "metadata": {},
   "source": [
    "### Try to use our own preprocessing"
   ]
  },
  {
   "cell_type": "code",
   "execution_count": 350,
   "metadata": {},
   "outputs": [],
   "source": [
    "import os\n",
    "import sys\n",
    "module_path = os.path.abspath(os.path.join('..'))\n",
    "if module_path not in sys.path:\n",
    "    sys.path.append(module_path)\n",
    "\n",
    "import sqlite3\n",
    "import pandas as pd\n",
    "import numpy as np\n",
    "from sklearn.ensemble import RandomForestClassifier\n",
    "from sklearn.metrics import accuracy_score\n",
    "from sklearn import model_selection\n",
    "from sklearn.model_selection import train_test_split\n",
    "from sklearn.metrics import make_scorer\n",
    "from time import time\n",
    "from sklearn.decomposition import PCA\n",
    "import warnings\n",
    "from pathlib import Path\n",
    "\n",
    "from utils.data_processing import create_feables\n",
    "from utils.data_processing import confusion_matrix\n",
    "\n",
    "warnings.simplefilter(\"ignore\")\n",
    "\n",
    "# You should run the ../../data_preprocessing.ipynb notebook to generate the data before running this\n",
    "data = pd.read_csv(\"../../datasets/data2.csv\")\n",
    "data = data.tail(1000)\n",
    "\n",
    "\n",
    "# league_cols = [col for col in data.columns if 'League_' in col]\n",
    "# print(league_cols)\n",
    "# data = data.drop(league_cols, axis=1)\n",
    "# data = data.tail(3000)\n",
    "\n",
    "labels = data.loc[:,'label']\n",
    "features = data.drop('label', axis = 1)"
   ]
  },
  {
   "cell_type": "code",
   "execution_count": 351,
   "metadata": {},
   "outputs": [
    {
     "data": {
      "text/html": [
       "<div>\n",
       "<style scoped>\n",
       "    .dataframe tbody tr th:only-of-type {\n",
       "        vertical-align: middle;\n",
       "    }\n",
       "\n",
       "    .dataframe tbody tr th {\n",
       "        vertical-align: top;\n",
       "    }\n",
       "\n",
       "    .dataframe thead th {\n",
       "        text-align: right;\n",
       "    }\n",
       "</style>\n",
       "<table border=\"1\" class=\"dataframe\">\n",
       "  <thead>\n",
       "    <tr style=\"text-align: right;\">\n",
       "      <th></th>\n",
       "      <th>Unnamed: 0</th>\n",
       "      <th>home_team_goals_difference</th>\n",
       "      <th>away_team_goals_difference</th>\n",
       "      <th>games_won_home_team</th>\n",
       "      <th>games_won_away_team</th>\n",
       "      <th>games_against_won</th>\n",
       "      <th>games_against_lost</th>\n",
       "      <th>games_draw_home_team</th>\n",
       "      <th>games_draw_away_team</th>\n",
       "      <th>League_1.0</th>\n",
       "      <th>...</th>\n",
       "      <th>League_17642.0</th>\n",
       "      <th>League_19694.0</th>\n",
       "      <th>League_21518.0</th>\n",
       "      <th>League_24558.0</th>\n",
       "      <th>B365_Win</th>\n",
       "      <th>B365_Draw</th>\n",
       "      <th>B365_Defeat</th>\n",
       "      <th>BW_Win</th>\n",
       "      <th>BW_Draw</th>\n",
       "      <th>BW_Defeat</th>\n",
       "    </tr>\n",
       "  </thead>\n",
       "  <tbody>\n",
       "    <tr>\n",
       "      <th>18892</th>\n",
       "      <td>19415</td>\n",
       "      <td>-9.0</td>\n",
       "      <td>-16.0</td>\n",
       "      <td>9.0</td>\n",
       "      <td>3.0</td>\n",
       "      <td>5.0</td>\n",
       "      <td>0.0</td>\n",
       "      <td>3.0</td>\n",
       "      <td>6.0</td>\n",
       "      <td>0</td>\n",
       "      <td>...</td>\n",
       "      <td>0</td>\n",
       "      <td>0</td>\n",
       "      <td>1</td>\n",
       "      <td>0</td>\n",
       "      <td>0.235763</td>\n",
       "      <td>0.304211</td>\n",
       "      <td>0.460026</td>\n",
       "      <td>0.239282</td>\n",
       "      <td>0.316338</td>\n",
       "      <td>0.444380</td>\n",
       "    </tr>\n",
       "    <tr>\n",
       "      <th>19533</th>\n",
       "      <td>20056</td>\n",
       "      <td>6.0</td>\n",
       "      <td>50.0</td>\n",
       "      <td>10.0</td>\n",
       "      <td>17.0</td>\n",
       "      <td>0.0</td>\n",
       "      <td>5.0</td>\n",
       "      <td>6.0</td>\n",
       "      <td>3.0</td>\n",
       "      <td>0</td>\n",
       "      <td>...</td>\n",
       "      <td>0</td>\n",
       "      <td>0</td>\n",
       "      <td>1</td>\n",
       "      <td>0</td>\n",
       "      <td>0.110987</td>\n",
       "      <td>0.179694</td>\n",
       "      <td>0.709318</td>\n",
       "      <td>0.106701</td>\n",
       "      <td>0.196555</td>\n",
       "      <td>0.696744</td>\n",
       "    </tr>\n",
       "    <tr>\n",
       "      <th>19254</th>\n",
       "      <td>19777</td>\n",
       "      <td>2.0</td>\n",
       "      <td>4.0</td>\n",
       "      <td>8.0</td>\n",
       "      <td>7.0</td>\n",
       "      <td>1.0</td>\n",
       "      <td>2.0</td>\n",
       "      <td>6.0</td>\n",
       "      <td>9.0</td>\n",
       "      <td>0</td>\n",
       "      <td>...</td>\n",
       "      <td>0</td>\n",
       "      <td>0</td>\n",
       "      <td>1</td>\n",
       "      <td>0</td>\n",
       "      <td>0.570939</td>\n",
       "      <td>0.238367</td>\n",
       "      <td>0.190694</td>\n",
       "      <td>0.560216</td>\n",
       "      <td>0.247070</td>\n",
       "      <td>0.192714</td>\n",
       "    </tr>\n",
       "    <tr>\n",
       "      <th>18847</th>\n",
       "      <td>19370</td>\n",
       "      <td>43.0</td>\n",
       "      <td>-16.0</td>\n",
       "      <td>15.0</td>\n",
       "      <td>6.0</td>\n",
       "      <td>5.0</td>\n",
       "      <td>0.0</td>\n",
       "      <td>3.0</td>\n",
       "      <td>3.0</td>\n",
       "      <td>0</td>\n",
       "      <td>...</td>\n",
       "      <td>0</td>\n",
       "      <td>0</td>\n",
       "      <td>1</td>\n",
       "      <td>0</td>\n",
       "      <td>0.903990</td>\n",
       "      <td>0.063279</td>\n",
       "      <td>0.032731</td>\n",
       "      <td>0.889912</td>\n",
       "      <td>0.077867</td>\n",
       "      <td>0.032221</td>\n",
       "    </tr>\n",
       "    <tr>\n",
       "      <th>19636</th>\n",
       "      <td>20159</td>\n",
       "      <td>37.0</td>\n",
       "      <td>1.0</td>\n",
       "      <td>16.0</td>\n",
       "      <td>1.0</td>\n",
       "      <td>0.0</td>\n",
       "      <td>0.0</td>\n",
       "      <td>2.0</td>\n",
       "      <td>0.0</td>\n",
       "      <td>0</td>\n",
       "      <td>...</td>\n",
       "      <td>0</td>\n",
       "      <td>0</td>\n",
       "      <td>1</td>\n",
       "      <td>0</td>\n",
       "      <td>0.877408</td>\n",
       "      <td>0.086146</td>\n",
       "      <td>0.036446</td>\n",
       "      <td>0.872077</td>\n",
       "      <td>0.082658</td>\n",
       "      <td>0.045265</td>\n",
       "    </tr>\n",
       "  </tbody>\n",
       "</table>\n",
       "<p>5 rows × 26 columns</p>\n",
       "</div>"
      ],
      "text/plain": [
       "       Unnamed: 0  home_team_goals_difference  away_team_goals_difference  \\\n",
       "18892       19415                        -9.0                       -16.0   \n",
       "19533       20056                         6.0                        50.0   \n",
       "19254       19777                         2.0                         4.0   \n",
       "18847       19370                        43.0                       -16.0   \n",
       "19636       20159                        37.0                         1.0   \n",
       "\n",
       "       games_won_home_team  games_won_away_team  games_against_won  \\\n",
       "18892                  9.0                  3.0                5.0   \n",
       "19533                 10.0                 17.0                0.0   \n",
       "19254                  8.0                  7.0                1.0   \n",
       "18847                 15.0                  6.0                5.0   \n",
       "19636                 16.0                  1.0                0.0   \n",
       "\n",
       "       games_against_lost  games_draw_home_team  games_draw_away_team  \\\n",
       "18892                 0.0                   3.0                   6.0   \n",
       "19533                 5.0                   6.0                   3.0   \n",
       "19254                 2.0                   6.0                   9.0   \n",
       "18847                 0.0                   3.0                   3.0   \n",
       "19636                 0.0                   2.0                   0.0   \n",
       "\n",
       "       League_1.0  ...  League_17642.0  League_19694.0  League_21518.0  \\\n",
       "18892           0  ...               0               0               1   \n",
       "19533           0  ...               0               0               1   \n",
       "19254           0  ...               0               0               1   \n",
       "18847           0  ...               0               0               1   \n",
       "19636           0  ...               0               0               1   \n",
       "\n",
       "       League_24558.0  B365_Win  B365_Draw  B365_Defeat    BW_Win   BW_Draw  \\\n",
       "18892               0  0.235763   0.304211     0.460026  0.239282  0.316338   \n",
       "19533               0  0.110987   0.179694     0.709318  0.106701  0.196555   \n",
       "19254               0  0.570939   0.238367     0.190694  0.560216  0.247070   \n",
       "18847               0  0.903990   0.063279     0.032731  0.889912  0.077867   \n",
       "19636               0  0.877408   0.086146     0.036446  0.872077  0.082658   \n",
       "\n",
       "       BW_Defeat  \n",
       "18892   0.444380  \n",
       "19533   0.696744  \n",
       "19254   0.192714  \n",
       "18847   0.032221  \n",
       "19636   0.045265  \n",
       "\n",
       "[5 rows x 26 columns]"
      ]
     },
     "execution_count": 351,
     "metadata": {},
     "output_type": "execute_result"
    }
   ],
   "source": [
    "from sklearn.model_selection import train_test_split\n",
    "#Splitting the data into train, test\n",
    "X_train, X_test, y_train, y_test = train_test_split(features, labels, test_size = 0.25, random_state = 42, shuffle = True, stratify = labels)\n",
    "\n",
    "# Show some rows of the data\n",
    "X_train.head()"
   ]
  },
  {
   "cell_type": "code",
   "execution_count": 352,
   "metadata": {},
   "outputs": [
    {
     "name": "stdout",
     "output_type": "stream",
     "text": [
      "Number of wins in test set: 116\n",
      "Number of draws in test set: 62\n",
      "Number of defeats in test set: 72\n"
     ]
    }
   ],
   "source": [
    "# print(y_test)\n",
    "print(\"Number of wins in test set:\", np.sum(y_test == 2))\n",
    "print(\"Number of draws in test set:\", np.sum(y_test == 1))\n",
    "print(\"Number of defeats in test set:\", np.sum(y_test == 0))"
   ]
  },
  {
   "cell_type": "code",
   "execution_count": 353,
   "metadata": {},
   "outputs": [
    {
     "name": "stdout",
     "output_type": "stream",
     "text": [
      "Number of possible outcomes 3\n",
      "Labels: [0. 1. 2.]\n"
     ]
    }
   ],
   "source": [
    "# Match outcome\n",
    "y_train.head()\n",
    "\n",
    "# Number of possible outcomes\n",
    "# 2 = win\n",
    "# 1 = draw\n",
    "# 0 = lose\n",
    "print('Number of possible outcomes', np.unique(y_train.values).shape[0])\n",
    "labels = np.unique(y_train.values)\n",
    "print(\"Labels:\", labels)\n"
   ]
  },
  {
   "cell_type": "code",
   "execution_count": 354,
   "metadata": {},
   "outputs": [
    {
     "name": "stdout",
     "output_type": "stream",
     "text": [
      "Number of columns: 26\n"
     ]
    }
   ],
   "source": [
    "# Get number of columns by getting the number of columns in the X_train\n",
    "columns = X_train.shape[1]\n",
    "print('Number of columns:', columns)"
   ]
  },
  {
   "cell_type": "code",
   "execution_count": 355,
   "metadata": {},
   "outputs": [
    {
     "data": {
      "image/png": "[encoded data removed]",
      "text/plain": [
       "<Figure size 432x288 with 1 Axes>"
      ]
     },
     "metadata": {
      "needs_background": "light"
     },
     "output_type": "display_data"
    }
   ],
   "source": [
    "import matplotlib.pyplot as plt\n",
    "\n",
    "# Plot the distribution of labels in the train data\n",
    "def plot_labels_histogram(data):\n",
    "    plt.hist(data, facecolor='purple', align='mid')\n",
    "    plt.ylabel('Number of instances')\n",
    "    plt.xlabel('0 - defeat, 1 - tie, 2 - win')\n",
    "    plt.title(\"Label distribution\")\n",
    "    \n",
    "plot_labels_histogram(y_train)"
   ]
  },
  {
   "cell_type": "code",
   "execution_count": 356,
   "metadata": {},
   "outputs": [
    {
     "data": {
      "image/png": "[encoded data removed]",
      "text/plain": [
       "<Figure size 432x288 with 1 Axes>"
      ]
     },
     "metadata": {
      "needs_background": "light"
     },
     "output_type": "display_data"
    }
   ],
   "source": [
    "from imblearn.over_sampling import RandomOverSampler\n",
    "\n",
    "# Since the train data is uneven and the dataset is not \"huge\" we need to upsamle/oversample\n",
    "sampler = RandomOverSampler()\n",
    "X_train_sampled, y_train_sampled = sampler.fit_sample(X_train, y_train)\n",
    "\n",
    "# Plot the oversampled train set\n",
    "plot_labels_histogram(y_train_sampled)"
   ]
  },
  {
   "cell_type": "code",
   "execution_count": 357,
   "metadata": {},
   "outputs": [
    {
     "data": {
      "image/png": "[encoded data removed]",
      "text/plain": [
       "<Figure size 432x288 with 1 Axes>"
      ]
     },
     "metadata": {
      "needs_background": "light"
     },
     "output_type": "display_data"
    }
   ],
   "source": [
    "from sklearn.utils import shuffle\n",
    "\n",
    "# Assign train values with the new sampled data\n",
    "X_train, y_train = shuffle(X_train_sampled, y_train_sampled, random_state=42)\n",
    "\n",
    "plot_labels_histogram(y_train)"
   ]
  },
  {
   "cell_type": "code",
   "execution_count": 358,
   "metadata": {},
   "outputs": [
    {
     "name": "stdout",
     "output_type": "stream",
     "text": [
      "_________________________________________________________________\n",
      "Layer (type)                 Output Shape              Param #   \n",
      "=================================================================\n",
      "dense_202 (Dense)            (None, 40)                1080      \n",
      "_________________________________________________________________\n",
      "dense_203 (Dense)            (None, 20)                820       \n",
      "_________________________________________________________________\n",
      "dense_204 (Dense)            (None, 16)                336       \n",
      "_________________________________________________________________\n",
      "dense_205 (Dense)            (None, 8)                 136       \n",
      "_________________________________________________________________\n",
      "dense_206 (Dense)            (None, 3)                 27        \n",
      "=================================================================\n",
      "Total params: 2,399\n",
      "Trainable params: 2,399\n",
      "Non-trainable params: 0\n",
      "_________________________________________________________________\n"
     ]
    }
   ],
   "source": [
    "from keras.models import Model, Sequential\n",
    "from keras.layers import Input, Activation, Flatten, Dense, Dropout\n",
    "from keras.optimizers import SGD, Adam\n",
    "from keras import regularizers\n",
    "\n",
    "model = Sequential() \n",
    "model.add(Dense(40, input_dim=columns, activation='relu', kernel_regularizer='l2'))\n",
    "#model.add(Dropout(0.1))\n",
    "model.add(Dense(20, activation='relu', kernel_regularizer='l2'))\n",
    "model.add(Dense(16, activation='relu', kernel_regularizer='l2'))\n",
    "#model.add(Dropout(0.1))\n",
    "model.add(Dense(8, activation='relu', kernel_regularizer='l2'))\n",
    "model.add(Dense(3, activation='softmax'))\n",
    "\n",
    "model.compile(loss='categorical_crossentropy', optimizer=Adam(lr=0.00001), metrics=['accuracy'])\n",
    "model.summary()"
   ]
  },
  {
   "cell_type": "code",
   "execution_count": 359,
   "metadata": {},
   "outputs": [
    {
     "name": "stdout",
     "output_type": "stream",
     "text": [
      "Label: \n",
      " 2.0\n",
      "Unique labels in the train set:  [0. 1. 2.]\n",
      "Unique labels in the train set after encoding:  [[0. 0. 1.]\n",
      " [0. 1. 0.]\n",
      " [1. 0. 0.]]\n",
      "Number of wins in test set: 350\n",
      "Number of draws in test set: 350\n",
      "Number of defeats in test set: 350\n",
      "------------------------------------------------------------------------------ \n",
      "\n",
      "Train on 840 samples, validate on 210 samples\n",
      "Epoch 1/100\n",
      "840/840 [==============================] - 5s 6ms/step - loss: 11.5218 - acc: 0.3381 - val_loss: 11.9044 - val_acc: 0.3143\n",
      "Epoch 2/100\n",
      "840/840 [==============================] - 0s 133us/step - loss: 11.5197 - acc: 0.3381 - val_loss: 11.9024 - val_acc: 0.3143\n",
      "Epoch 3/100\n",
      "840/840 [==============================] - 0s 130us/step - loss: 11.5177 - acc: 0.3381 - val_loss: 11.9003 - val_acc: 0.3143\n",
      "Epoch 4/100\n",
      "840/840 [==============================] - 0s 120us/step - loss: 11.5156 - acc: 0.3381 - val_loss: 11.8983 - val_acc: 0.3143\n",
      "Epoch 5/100\n",
      "840/840 [==============================] - 0s 110us/step - loss: 11.5136 - acc: 0.3381 - val_loss: 11.8963 - val_acc: 0.3143\n",
      "Epoch 6/100\n",
      "840/840 [==============================] - 0s 116us/step - loss: 11.5116 - acc: 0.3381 - val_loss: 11.8943 - val_acc: 0.3143\n",
      "Epoch 7/100\n",
      "840/840 [==============================] - 0s 122us/step - loss: 11.5096 - acc: 0.3381 - val_loss: 11.8922 - val_acc: 0.3143\n",
      "Epoch 8/100\n",
      "840/840 [==============================] - 0s 125us/step - loss: 11.5075 - acc: 0.3381 - val_loss: 11.8902 - val_acc: 0.3143\n",
      "Epoch 9/100\n",
      "840/840 [==============================] - 0s 127us/step - loss: 11.5055 - acc: 0.3381 - val_loss: 11.8882 - val_acc: 0.3143\n",
      "Epoch 10/100\n",
      "840/840 [==============================] - 0s 124us/step - loss: 11.5035 - acc: 0.3381 - val_loss: 11.8862 - val_acc: 0.3143\n",
      "Epoch 11/100\n",
      "840/840 [==============================] - 0s 130us/step - loss: 11.5015 - acc: 0.3381 - val_loss: 11.8842 - val_acc: 0.3143\n",
      "Epoch 12/100\n",
      "840/840 [==============================] - 0s 135us/step - loss: 11.4995 - acc: 0.3381 - val_loss: 11.8822 - val_acc: 0.3143\n",
      "Epoch 13/100\n",
      "840/840 [==============================] - 0s 129us/step - loss: 11.4976 - acc: 0.3381 - val_loss: 11.8803 - val_acc: 0.3143\n",
      "Epoch 14/100\n",
      "840/840 [==============================] - 0s 128us/step - loss: 11.4956 - acc: 0.3381 - val_loss: 11.8783 - val_acc: 0.3143\n",
      "Epoch 15/100\n",
      "840/840 [==============================] - 0s 125us/step - loss: 11.4936 - acc: 0.3381 - val_loss: 11.8763 - val_acc: 0.3143\n",
      "Epoch 16/100\n",
      "840/840 [==============================] - 0s 127us/step - loss: 11.4916 - acc: 0.3381 - val_loss: 11.8743 - val_acc: 0.3143\n",
      "Epoch 17/100\n",
      "840/840 [==============================] - 0s 122us/step - loss: 11.4896 - acc: 0.3381 - val_loss: 11.8724 - val_acc: 0.3143\n",
      "Epoch 18/100\n",
      "840/840 [==============================] - 0s 121us/step - loss: 11.4877 - acc: 0.3381 - val_loss: 11.8704 - val_acc: 0.3143\n",
      "Epoch 19/100\n",
      "840/840 [==============================] - 0s 110us/step - loss: 11.4857 - acc: 0.3381 - val_loss: 11.8684 - val_acc: 0.3143\n",
      "Epoch 20/100\n",
      "840/840 [==============================] - 0s 113us/step - loss: 11.4838 - acc: 0.3381 - val_loss: 11.8665 - val_acc: 0.3143\n",
      "Epoch 21/100\n",
      "840/840 [==============================] - 0s 131us/step - loss: 11.4818 - acc: 0.3381 - val_loss: 11.8645 - val_acc: 0.3143\n",
      "Epoch 22/100\n",
      "840/840 [==============================] - 0s 122us/step - loss: 11.4799 - acc: 0.3381 - val_loss: 11.8626 - val_acc: 0.3143\n",
      "Epoch 23/100\n",
      "840/840 [==============================] - 0s 125us/step - loss: 11.4779 - acc: 0.3381 - val_loss: 11.8607 - val_acc: 0.3143\n",
      "Epoch 24/100\n",
      "840/840 [==============================] - ETA: 0s - loss: 11.6815 - acc: 0.32 - 0s 116us/step - loss: 11.4760 - acc: 0.3381 - val_loss: 11.8587 - val_acc: 0.3143\n",
      "Epoch 25/100\n",
      "840/840 [==============================] - 0s 125us/step - loss: 11.4741 - acc: 0.3381 - val_loss: 11.8568 - val_acc: 0.3143\n",
      "Epoch 26/100\n",
      "840/840 [==============================] - 0s 117us/step - loss: 11.4721 - acc: 0.3381 - val_loss: 11.8549 - val_acc: 0.3143\n",
      "Epoch 27/100\n",
      "840/840 [==============================] - 0s 122us/step - loss: 11.4702 - acc: 0.3381 - val_loss: 11.8529 - val_acc: 0.3143\n",
      "Epoch 28/100\n",
      "840/840 [==============================] - 0s 129us/step - loss: 11.4683 - acc: 0.3381 - val_loss: 11.8510 - val_acc: 0.3143\n",
      "Epoch 29/100\n",
      "840/840 [==============================] - 0s 135us/step - loss: 11.4664 - acc: 0.3381 - val_loss: 11.8491 - val_acc: 0.3143\n",
      "Epoch 30/100\n",
      "840/840 [==============================] - 0s 133us/step - loss: 11.4644 - acc: 0.3381 - val_loss: 11.8472 - val_acc: 0.3143\n",
      "Epoch 31/100\n",
      "840/840 [==============================] - 0s 123us/step - loss: 11.4625 - acc: 0.3381 - val_loss: 11.8453 - val_acc: 0.3143\n",
      "Epoch 32/100\n",
      "840/840 [==============================] - 0s 138us/step - loss: 11.4606 - acc: 0.3381 - val_loss: 11.8434 - val_acc: 0.3143\n",
      "Epoch 33/100\n",
      "840/840 [==============================] - 0s 139us/step - loss: 11.4587 - acc: 0.3381 - val_loss: 11.8415 - val_acc: 0.3143\n",
      "Epoch 34/100\n",
      "840/840 [==============================] - 0s 138us/step - loss: 11.4568 - acc: 0.3381 - val_loss: 11.8396 - val_acc: 0.3143\n",
      "Epoch 35/100\n",
      "840/840 [==============================] - 0s 135us/step - loss: 11.4549 - acc: 0.3381 - val_loss: 11.8377 - val_acc: 0.3143\n",
      "Epoch 36/100\n",
      "840/840 [==============================] - 0s 126us/step - loss: 11.4531 - acc: 0.3381 - val_loss: 11.8358 - val_acc: 0.3143\n",
      "Epoch 37/100\n",
      "840/840 [==============================] - 0s 138us/step - loss: 11.4512 - acc: 0.3381 - val_loss: 11.8339 - val_acc: 0.3143\n",
      "Epoch 38/100\n",
      "840/840 [==============================] - 0s 133us/step - loss: 11.4493 - acc: 0.3381 - val_loss: 11.8321 - val_acc: 0.3143\n",
      "Epoch 39/100\n",
      "840/840 [==============================] - 0s 127us/step - loss: 11.4474 - acc: 0.3381 - val_loss: 11.8302 - val_acc: 0.3143\n",
      "Epoch 40/100\n",
      "840/840 [==============================] - 0s 118us/step - loss: 11.4455 - acc: 0.3381 - val_loss: 11.8283 - val_acc: 0.3143\n",
      "Epoch 41/100\n",
      "840/840 [==============================] - 0s 126us/step - loss: 11.4437 - acc: 0.3381 - val_loss: 11.8264 - val_acc: 0.3143\n",
      "Epoch 42/100\n",
      "840/840 [==============================] - 0s 130us/step - loss: 11.4418 - acc: 0.3381 - val_loss: 11.8246 - val_acc: 0.3143\n",
      "Epoch 43/100\n",
      "840/840 [==============================] - 0s 129us/step - loss: 11.4400 - acc: 0.3381 - val_loss: 11.8227 - val_acc: 0.3143\n",
      "Epoch 44/100\n",
      "840/840 [==============================] - 0s 136us/step - loss: 11.4381 - acc: 0.3381 - val_loss: 11.8209 - val_acc: 0.3143\n",
      "Epoch 45/100\n",
      "840/840 [==============================] - 0s 141us/step - loss: 11.4362 - acc: 0.3381 - val_loss: 11.8190 - val_acc: 0.3143\n",
      "Epoch 46/100\n",
      "840/840 [==============================] - 0s 130us/step - loss: 11.4344 - acc: 0.3381 - val_loss: 11.8172 - val_acc: 0.3143\n",
      "Epoch 47/100\n",
      "840/840 [==============================] - 0s 121us/step - loss: 11.4325 - acc: 0.3381 - val_loss: 11.8153 - val_acc: 0.3143\n",
      "Epoch 48/100\n",
      "840/840 [==============================] - 0s 121us/step - loss: 11.4307 - acc: 0.3381 - val_loss: 11.8135 - val_acc: 0.3143\n",
      "Epoch 49/100\n",
      "840/840 [==============================] - 0s 128us/step - loss: 11.4289 - acc: 0.3381 - val_loss: 11.8117 - val_acc: 0.3143\n",
      "Epoch 50/100\n",
      "840/840 [==============================] - 0s 122us/step - loss: 11.4270 - acc: 0.3381 - val_loss: 11.8098 - val_acc: 0.3143\n",
      "Epoch 51/100\n",
      "840/840 [==============================] - 0s 127us/step - loss: 11.4252 - acc: 0.3381 - val_loss: 11.8080 - val_acc: 0.3143\n",
      "Epoch 52/100\n",
      "840/840 [==============================] - 0s 114us/step - loss: 11.4234 - acc: 0.3381 - val_loss: 11.8062 - val_acc: 0.3143\n",
      "Epoch 53/100\n",
      "840/840 [==============================] - 0s 116us/step - loss: 11.4216 - acc: 0.3381 - val_loss: 11.8044 - val_acc: 0.3143\n",
      "Epoch 54/100\n",
      "840/840 [==============================] - 0s 114us/step - loss: 11.4197 - acc: 0.3381 - val_loss: 11.8025 - val_acc: 0.3143\n",
      "Epoch 55/100\n",
      "840/840 [==============================] - 0s 114us/step - loss: 11.4179 - acc: 0.3381 - val_loss: 11.8007 - val_acc: 0.3143\n",
      "Epoch 56/100\n",
      "840/840 [==============================] - 0s 131us/step - loss: 11.4161 - acc: 0.3381 - val_loss: 11.7989 - val_acc: 0.3143\n",
      "Epoch 57/100\n"
     ]
    },
    {
     "name": "stdout",
     "output_type": "stream",
     "text": [
      "840/840 [==============================] - 0s 126us/step - loss: 11.4143 - acc: 0.3381 - val_loss: 11.7971 - val_acc: 0.3143\n",
      "Epoch 58/100\n",
      "840/840 [==============================] - 0s 108us/step - loss: 11.4125 - acc: 0.3381 - val_loss: 11.7953 - val_acc: 0.3143\n",
      "Epoch 59/100\n",
      "840/840 [==============================] - 0s 116us/step - loss: 11.4107 - acc: 0.3381 - val_loss: 11.7935 - val_acc: 0.3143\n",
      "Epoch 60/100\n",
      "840/840 [==============================] - 0s 126us/step - loss: 11.4089 - acc: 0.3381 - val_loss: 11.7917 - val_acc: 0.3143\n",
      "Epoch 61/100\n",
      "840/840 [==============================] - 0s 115us/step - loss: 11.4071 - acc: 0.3381 - val_loss: 11.7899 - val_acc: 0.3143\n",
      "Epoch 62/100\n",
      "840/840 [==============================] - 0s 112us/step - loss: 11.4053 - acc: 0.3381 - val_loss: 11.7881 - val_acc: 0.3143\n",
      "Epoch 63/100\n",
      "840/840 [==============================] - 0s 109us/step - loss: 11.4035 - acc: 0.3381 - val_loss: 11.7864 - val_acc: 0.3143\n",
      "Epoch 64/100\n",
      "840/840 [==============================] - 0s 113us/step - loss: 11.4018 - acc: 0.3381 - val_loss: 11.7846 - val_acc: 0.3143\n",
      "Epoch 65/100\n",
      "840/840 [==============================] - 0s 112us/step - loss: 11.4000 - acc: 0.3381 - val_loss: 11.7828 - val_acc: 0.3143\n",
      "Epoch 66/100\n",
      "840/840 [==============================] - 0s 108us/step - loss: 11.3982 - acc: 0.3381 - val_loss: 11.7810 - val_acc: 0.3143\n",
      "Epoch 67/100\n",
      "840/840 [==============================] - 0s 106us/step - loss: 11.3964 - acc: 0.3381 - val_loss: 11.7793 - val_acc: 0.3143\n",
      "Epoch 68/100\n",
      "840/840 [==============================] - 0s 107us/step - loss: 11.3947 - acc: 0.3381 - val_loss: 11.7775 - val_acc: 0.3143\n",
      "Epoch 69/100\n",
      "840/840 [==============================] - 0s 112us/step - loss: 11.3929 - acc: 0.3381 - val_loss: 11.7757 - val_acc: 0.3143\n",
      "Epoch 70/100\n",
      "840/840 [==============================] - 0s 114us/step - loss: 11.3912 - acc: 0.3381 - val_loss: 11.7740 - val_acc: 0.3143\n",
      "Epoch 71/100\n",
      "840/840 [==============================] - 0s 108us/step - loss: 11.3894 - acc: 0.3381 - val_loss: 11.7722 - val_acc: 0.3143\n",
      "Epoch 72/100\n",
      "840/840 [==============================] - 0s 110us/step - loss: 11.3876 - acc: 0.3381 - val_loss: 11.7705 - val_acc: 0.3143\n",
      "Epoch 73/100\n",
      "840/840 [==============================] - 0s 112us/step - loss: 11.3859 - acc: 0.3381 - val_loss: 11.7687 - val_acc: 0.3143\n",
      "Epoch 74/100\n",
      "840/840 [==============================] - 0s 110us/step - loss: 11.3841 - acc: 0.3381 - val_loss: 11.7670 - val_acc: 0.3143\n",
      "Epoch 75/100\n",
      "840/840 [==============================] - 0s 113us/step - loss: 11.3824 - acc: 0.3381 - val_loss: 11.7652 - val_acc: 0.3143\n",
      "Epoch 76/100\n",
      "840/840 [==============================] - 0s 118us/step - loss: 11.3807 - acc: 0.3381 - val_loss: 11.7635 - val_acc: 0.3143\n",
      "Epoch 77/100\n",
      "840/840 [==============================] - 0s 111us/step - loss: 11.3789 - acc: 0.3381 - val_loss: 11.7618 - val_acc: 0.3143\n",
      "Epoch 78/100\n",
      "840/840 [==============================] - 0s 108us/step - loss: 11.3772 - acc: 0.3381 - val_loss: 11.7600 - val_acc: 0.3143\n",
      "Epoch 79/100\n",
      "840/840 [==============================] - 0s 112us/step - loss: 11.3755 - acc: 0.3381 - val_loss: 11.7583 - val_acc: 0.3143\n",
      "Epoch 80/100\n",
      "840/840 [==============================] - 0s 110us/step - loss: 11.3737 - acc: 0.3381 - val_loss: 11.7566 - val_acc: 0.3143\n",
      "Epoch 81/100\n",
      "840/840 [==============================] - 0s 115us/step - loss: 11.3720 - acc: 0.3381 - val_loss: 11.7549 - val_acc: 0.3143\n",
      "Epoch 82/100\n",
      "840/840 [==============================] - 0s 109us/step - loss: 11.3703 - acc: 0.3381 - val_loss: 11.7531 - val_acc: 0.3143\n",
      "Epoch 83/100\n",
      "840/840 [==============================] - 0s 110us/step - loss: 11.3686 - acc: 0.3381 - val_loss: 11.7514 - val_acc: 0.3143\n",
      "Epoch 84/100\n",
      "840/840 [==============================] - 0s 111us/step - loss: 11.3669 - acc: 0.3381 - val_loss: 11.7497 - val_acc: 0.3143\n",
      "Epoch 85/100\n",
      "840/840 [==============================] - 0s 118us/step - loss: 11.3652 - acc: 0.3381 - val_loss: 11.7480 - val_acc: 0.3143\n",
      "Epoch 86/100\n",
      "840/840 [==============================] - 0s 115us/step - loss: 11.3635 - acc: 0.3381 - val_loss: 11.7463 - val_acc: 0.3143\n",
      "Epoch 87/100\n",
      "840/840 [==============================] - 0s 117us/step - loss: 11.3618 - acc: 0.3381 - val_loss: 11.7446 - val_acc: 0.3143\n",
      "Epoch 88/100\n",
      "840/840 [==============================] - 0s 108us/step - loss: 11.3601 - acc: 0.3381 - val_loss: 11.7429 - val_acc: 0.3143\n",
      "Epoch 89/100\n",
      "840/840 [==============================] - 0s 107us/step - loss: 11.3584 - acc: 0.3381 - val_loss: 11.7412 - val_acc: 0.3143\n",
      "Epoch 90/100\n",
      "840/840 [==============================] - 0s 107us/step - loss: 11.3567 - acc: 0.3381 - val_loss: 11.7395 - val_acc: 0.3143\n",
      "Epoch 91/100\n",
      "840/840 [==============================] - 0s 124us/step - loss: 11.3550 - acc: 0.3381 - val_loss: 11.7378 - val_acc: 0.3143\n",
      "Epoch 92/100\n",
      "840/840 [==============================] - 0s 133us/step - loss: 11.3533 - acc: 0.3381 - val_loss: 11.7362 - val_acc: 0.3143\n",
      "Epoch 93/100\n",
      "840/840 [==============================] - 0s 129us/step - loss: 11.3516 - acc: 0.3381 - val_loss: 11.7345 - val_acc: 0.3143\n",
      "Epoch 94/100\n",
      "840/840 [==============================] - 0s 124us/step - loss: 11.3499 - acc: 0.3381 - val_loss: 11.7328 - val_acc: 0.3143\n",
      "Epoch 95/100\n",
      "840/840 [==============================] - 0s 125us/step - loss: 11.3482 - acc: 0.3381 - val_loss: 11.7311 - val_acc: 0.3143\n",
      "Epoch 96/100\n",
      "840/840 [==============================] - 0s 125us/step - loss: 11.3466 - acc: 0.3381 - val_loss: 11.7294 - val_acc: 0.3143\n",
      "Epoch 97/100\n",
      "840/840 [==============================] - 0s 109us/step - loss: 11.3449 - acc: 0.3381 - val_loss: 11.7278 - val_acc: 0.3143\n",
      "Epoch 98/100\n",
      "840/840 [==============================] - 0s 117us/step - loss: 11.3432 - acc: 0.3381 - val_loss: 11.7261 - val_acc: 0.3143\n",
      "Epoch 99/100\n",
      "840/840 [==============================] - 0s 120us/step - loss: 11.3416 - acc: 0.3381 - val_loss: 11.7245 - val_acc: 0.3143\n",
      "Epoch 100/100\n",
      "840/840 [==============================] - 0s 121us/step - loss: 11.3399 - acc: 0.3381 - val_loss: 11.7228 - val_acc: 0.3143\n"
     ]
    }
   ],
   "source": [
    "from keras.utils.np_utils import to_categorical\n",
    "\n",
    "# Convert a class vector (integers) to binary class matrix.\n",
    "print(\"Label: \\n\", y_train.iloc[0])\n",
    "print(\"Unique labels in the train set: \", np.unique(y_train))\n",
    "# One hot encoding\n",
    "y_train_categorical = to_categorical(y_train, num_classes=len(labels))\n",
    "print(\"Unique labels in the train set after encoding: \", np.unique(y_train_categorical, axis=0))\n",
    "# print(\"In categorical form: \\n\", y_train_categorical[0])\n",
    "\n",
    "print(\"Number of wins in test set:\", np.sum(y_train == 2))\n",
    "print(\"Number of draws in test set:\", np.sum(y_train == 1))\n",
    "print(\"Number of defeats in test set:\", np.sum(y_train == 0))\n",
    "\n",
    "print(\"------------------------------------------------------------------------------ \\n\")\n",
    "history = model.fit(X_train, y_train_categorical, batch_size=32, epochs=100, validation_split=0.2)"
   ]
  },
  {
   "cell_type": "code",
   "execution_count": 361,
   "metadata": {},
   "outputs": [
    {
     "data": {
      "image/png": "[encoded data removed]",
      "text/plain": [
       "<Figure size 432x288 with 1 Axes>"
      ]
     },
     "metadata": {
      "needs_background": "light"
     },
     "output_type": "display_data"
    }
   ],
   "source": [
    "import matplotlib.pyplot as plt\n",
    "\n",
    "plt.plot(history.history['loss'], label='train')\n",
    "plt.plot(history.history['val_loss'], label='validation')\n",
    "plt.legend()\n",
    "plt.show()"
   ]
  },
  {
   "cell_type": "code",
   "execution_count": 362,
   "metadata": {},
   "outputs": [
    {
     "data": {
      "image/png": "[encoded data removed]",
      "text/plain": [
       "<Figure size 432x288 with 1 Axes>"
      ]
     },
     "metadata": {
      "needs_background": "light"
     },
     "output_type": "display_data"
    }
   ],
   "source": [
    "plt.plot(history.history['acc'], label='accuracy')\n",
    "plt.plot(history.history['val_acc'], label='validation accuracy')\n",
    "plt.legend()\n",
    "plt.show()"
   ]
  },
  {
   "cell_type": "code",
   "execution_count": 363,
   "metadata": {},
   "outputs": [
    {
     "name": "stdout",
     "output_type": "stream",
     "text": [
      "[1]\n",
      "Test set accuracy: 0.248\n"
     ]
    }
   ],
   "source": [
    "# Take the most probable prediction\n",
    "# print(model.predict(X_test))\n",
    "predictions = np.argmax(model.predict(X_test), axis=1)\n",
    "print(np.unique(predictions))\n",
    "# Calculate accuracy\n",
    "accuracy = (predictions == y_test).mean()\n",
    "print(\"Test set accuracy:\", accuracy)"
   ]
  },
  {
   "cell_type": "markdown",
   "metadata": {},
   "source": [
    "# Let us plot the confusion matrix"
   ]
  },
  {
   "cell_type": "code",
   "execution_count": 290,
   "metadata": {},
   "outputs": [
    {
     "name": "stdout",
     "output_type": "stream",
     "text": [
      "0\n",
      "[0]\n",
      "Neural network confusion matrix: \n",
      "                    Home wins (pred)  Draw (pred)  Home loses (pred)\n",
      "Home wins (true)                  0            0               2237\n",
      "Draw (true)                       0            0               1230\n",
      "Home loses (true)                 0            0               1405\n",
      "\n",
      " True labels distribution: \n",
      "\n"
     ]
    },
    {
     "data": {
      "image/png": "[encoded data removed]",
      "text/plain": [
       "<Figure size 432x288 with 1 Axes>"
      ]
     },
     "metadata": {
      "needs_background": "light"
     },
     "output_type": "display_data"
    }
   ],
   "source": [
    "# from utils.data_processing import build_confusion_matrix\n",
    "\n",
    "# TODO: Remove this and use the commented import instead\n",
    "def build_confusion_matrix(y_true, y_pred):\n",
    "    return pd.DataFrame(confusion_matrix(y_true, y_pred, labels=[2, 1, 0]),\n",
    "                        index=['Home wins (true)', 'Draw (true)', 'Home loses (true)'],\n",
    "                        columns=['Home wins (pred)', 'Draw (pred)', 'Home loses (pred)'])\n",
    "\n",
    "print(np.sum((predictions == 1)))\n",
    "print(np.unique(predictions))\n",
    "print(\"Neural network confusion matrix: \\n\", build_confusion_matrix(y_test, predictions))\n",
    "\n",
    "\n",
    "print('\\n True labels distribution: \\n')\n",
    "plot_labels_histogram(y_test)"
   ]
  },
  {
   "cell_type": "markdown",
   "metadata": {},
   "source": [
    "# Comparing Neural network to Random forest"
   ]
  },
  {
   "cell_type": "code",
   "execution_count": null,
   "metadata": {},
   "outputs": [],
   "source": [
    "#Splitting the data into Train, Calibrate, and Test data sets\n",
    "X_train_calibrate, X_test, y_train_calibrate, y_test = train_test_split(features, labels, test_size = 0.25, random_state = 0, stratify = labels)\n",
    "X_train, X_calibrate, y_train, y_calibrate = train_test_split(X_train_calibrate, y_train_calibrate, test_size = 0.25, random_state = 0, stratify = y_train_calibrate)\n"
   ]
  },
  {
   "cell_type": "code",
   "execution_count": null,
   "metadata": {},
   "outputs": [],
   "source": [
    "from utils.data_processing import train_calibrate_predict\n",
    "\n",
    "# Creating cross validation data splits\n",
    "cv_sets = model_selection.StratifiedShuffleSplit(n_splits = 5, test_size = 0.20, random_state = 5)\n",
    "cv_sets.get_n_splits(X_train, y_train)\n",
    "\n",
    "# Init Random Forest\n",
    "RF_clf = RandomForestClassifier(n_estimators = 200, random_state = 1, class_weight = 'balanced')\n",
    "\n",
    "#Specficying scorer and parameters for grid search\n",
    "feature_len = features.shape[1]\n",
    "scorer = make_scorer(accuracy_score)\n",
    "parameters_RF = {'clf__max_features': ['auto', 'log2'], 'dm_reduce__n_components': np.arange(5, feature_len, int(np.around(feature_len/5)))}\n",
    "\n",
    "#Initializing dimensionality reductions\n",
    "pca = PCA()\n",
    "RF_clf.fit(X_train, y_train)\n",
    "\n",
    "print(\"Random forest accuracy for train set.\".format(RF_clf.__class__.__name__, accuracy_score(y_train, RF_clf.predict(X_train))))\n",
    "print(\"Random forest accuracy for test set\".format(RF_clf.__class__.__name__, accuracy_score(y_test, RF_clf.predict(X_test))))\n",
    "\n",
    "#Grid search, calibrate, and test the classifier\n",
    "calibrated_RF_clf, dm_reduce, train_score, test_score = train_calibrate_predict(clf = RF_clf, dm_reduction = pca, X_train = X_train, y_train = y_train,\n",
    "                                                                  X_calibrate = X_calibrate, y_calibrate = y_calibrate,\n",
    "                                                                  X_test = X_test, y_test = y_test, cv_sets = cv_sets,\n",
    "                                                                  params = parameters_RF, scorer = scorer, jobs = 1, use_grid_search = True)"
   ]
  },
  {
   "cell_type": "code",
   "execution_count": null,
   "metadata": {},
   "outputs": [],
   "source": [
    "rf_predictions = RF_clf.predict(X_test)\n",
    "\n",
    "# Calculate accuracy\n",
    "accuracy = (rf_predictions == y_test).mean()\n",
    "print(\"Random forest test set accuracy:\", accuracy)"
   ]
  },
  {
   "cell_type": "code",
   "execution_count": null,
   "metadata": {},
   "outputs": [],
   "source": [
    "print(\"Random forest confusion matrix: \\n\", build_confusion_matrix(y_test, rf_predictions))"
   ]
  },
  {
   "cell_type": "markdown",
   "metadata": {},
   "source": [
    "# Conclusion"
   ]
  }
 ],
 "metadata": {
  "kernelspec": {
   "display_name": "Python 3",
   "language": "python",
   "name": "python3"
  },
  "language_info": {
   "codemirror_mode": {
    "name": "ipython",
    "version": 3
   },
   "file_extension": ".py",
   "mimetype": "text/x-python",
   "name": "python",
   "nbconvert_exporter": "python",
   "pygments_lexer": "ipython3",
   "version": "3.7.3"
  }
 },
 "nbformat": 4,
 "nbformat_minor": 2
}
