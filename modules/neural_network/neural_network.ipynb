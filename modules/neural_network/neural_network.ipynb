{
 "cells": [
  {
   "cell_type": "markdown",
   "metadata": {},
   "source": [
    "# Neural network"
   ]
  },
  {
   "cell_type": "markdown",
   "metadata": {},
   "source": [
    "### Try to use our own preprocessing"
   ]
  },
  {
   "cell_type": "code",
   "execution_count": 73,
   "metadata": {},
   "outputs": [],
   "source": [
    "import os\n",
    "import sys\n",
    "module_path = os.path.abspath(os.path.join('..'))\n",
    "if module_path not in sys.path:\n",
    "    sys.path.append(module_path)\n",
    "\n",
    "import sqlite3\n",
    "import pandas as pd\n",
    "import numpy as np\n",
    "from sklearn.ensemble import RandomForestClassifier\n",
    "from sklearn.metrics import accuracy_score\n",
    "from sklearn import model_selection\n",
    "from sklearn.model_selection import train_test_split\n",
    "from sklearn.metrics import make_scorer\n",
    "from time import time\n",
    "from sklearn.decomposition import PCA\n",
    "import warnings\n",
    "from pathlib import Path\n",
    "\n",
    "from utils.data_processing import create_feables\n",
    "from utils.data_processing import confusion_matrix\n",
    "\n",
    "warnings.simplefilter(\"ignore\")\n",
    "\n",
    "# You should run the ../../data_preprocessing.ipynb notebook to generate the data before running this\n",
    "data = pd.read_csv(\"../../datasets/data.csv\")\n",
    "#data = data.tail(1000)\n",
    "\n",
    "\n",
    "# league_cols = [col for col in data.columns if 'League_' in col]\n",
    "# print(league_cols)\n",
    "# data = data.drop(league_cols, axis=1)\n",
    "# data = data.tail(3000)\n",
    "\n",
    "#labels = data.loc[:,'label']\n",
    "#features = data.drop('label', axis = 1)"
   ]
  },
  {
   "cell_type": "markdown",
   "metadata": {},
   "source": [
    "### Train test split with the test set being the results of the last 3 months. "
   ]
  },
  {
   "cell_type": "code",
   "execution_count": 74,
   "metadata": {},
   "outputs": [],
   "source": [
    "data = data.sort_values(['season', 'month'], ascending=(True, True))\n",
    "test = data[(data['season'] == 2015) & (data['month'] > 8)]\n",
    "\n",
    "y_test = test.loc[:, 'label']\n",
    "X_test = test.drop('label', axis=1)\n",
    "\n",
    "train = data[~data.isin(test)].dropna(how = 'all')\n",
    "y_train = data.loc[:, 'label']\n",
    "X_train = data.drop('label', axis=1)"
   ]
  },
  {
   "cell_type": "code",
   "execution_count": 75,
   "metadata": {},
   "outputs": [],
   "source": [
    "from sklearn.model_selection import train_test_split\n",
    "#Splitting the data into train, test\n",
    "#X_train, X_test, y_train, y_test = train_test_split(features, labels, test_size = 0.25, random_state = 42, shuffle = True, stratify = labels)\n",
    "\n",
    "# Show some rows of the data\n",
    "#X_train.head()"
   ]
  },
  {
   "cell_type": "code",
   "execution_count": 76,
   "metadata": {},
   "outputs": [
    {
     "name": "stdout",
     "output_type": "stream",
     "text": [
      "Number of wins in test set: 457\n",
      "Number of draws in test set: 268\n",
      "Number of defeats in test set: 325\n"
     ]
    }
   ],
   "source": [
    "# print(y_test)\n",
    "print(\"Number of wins in test set:\", np.sum(y_test == 2))\n",
    "print(\"Number of draws in test set:\", np.sum(y_test == 1))\n",
    "print(\"Number of defeats in test set:\", np.sum(y_test == 0))"
   ]
  },
  {
   "cell_type": "code",
   "execution_count": 77,
   "metadata": {},
   "outputs": [
    {
     "name": "stdout",
     "output_type": "stream",
     "text": [
      "Number of possible outcomes 3\n",
      "Labels: [0 1 2]\n"
     ]
    }
   ],
   "source": [
    "# Match outcome\n",
    "y_train.head()\n",
    "\n",
    "# Number of possible outcomes\n",
    "# 2 = win\n",
    "# 1 = draw\n",
    "# 0 = lose\n",
    "print('Number of possible outcomes', np.unique(y_train.values).shape[0])\n",
    "labels = np.unique(y_train.values)\n",
    "print(\"Labels:\", labels)\n"
   ]
  },
  {
   "cell_type": "code",
   "execution_count": 78,
   "metadata": {},
   "outputs": [
    {
     "name": "stdout",
     "output_type": "stream",
     "text": [
      "Number of columns: 31\n"
     ]
    }
   ],
   "source": [
    "# Get number of columns by getting the number of columns in the X_train\n",
    "columns = X_train.shape[1]\n",
    "print('Number of columns:', columns)"
   ]
  },
  {
   "cell_type": "code",
   "execution_count": 79,
   "metadata": {},
   "outputs": [
    {
     "data": {
      "image/png": "[encoded data removed]",
      "text/plain": [
       "<Figure size 432x288 with 1 Axes>"
      ]
     },
     "metadata": {
      "needs_background": "light"
     },
     "output_type": "display_data"
    }
   ],
   "source": [
    "import matplotlib.pyplot as plt\n",
    "\n",
    "# Plot the distribution of labels in the train data\n",
    "def plot_labels_histogram(data):\n",
    "    plt.hist(data, facecolor='purple', align='mid')\n",
    "    plt.ylabel('Number of instances')\n",
    "    plt.xlabel('0 - defeat, 1 - tie, 2 - win')\n",
    "    plt.title(\"Label distribution\")\n",
    "    \n",
    "plot_labels_histogram(y_train)"
   ]
  },
  {
   "cell_type": "code",
   "execution_count": 80,
   "metadata": {},
   "outputs": [
    {
     "data": {
      "image/png": "[encoded data removed]",
      "text/plain": [
       "<Figure size 432x288 with 1 Axes>"
      ]
     },
     "metadata": {
      "needs_background": "light"
     },
     "output_type": "display_data"
    }
   ],
   "source": [
    "from imblearn.over_sampling import RandomOverSampler\n",
    "\n",
    "# Since the train data is uneven and the dataset is not \"huge\" we need to upsamle/oversample\n",
    "sampler = RandomOverSampler()\n",
    "X_train_sampled, y_train_sampled = sampler.fit_sample(X_train, y_train)\n",
    "\n",
    "# Plot the oversampled train set\n",
    "plot_labels_histogram(y_train_sampled)"
   ]
  },
  {
   "cell_type": "code",
   "execution_count": 81,
   "metadata": {},
   "outputs": [
    {
     "data": {
      "image/png": "[encoded data removed]",
      "text/plain": [
       "<Figure size 432x288 with 1 Axes>"
      ]
     },
     "metadata": {
      "needs_background": "light"
     },
     "output_type": "display_data"
    }
   ],
   "source": [
    "from sklearn.utils import shuffle\n",
    "\n",
    "# Assign train values with the new sampled data\n",
    "X_train, y_train = shuffle(X_train_sampled, y_train_sampled, random_state=42)\n",
    "\n",
    "plot_labels_histogram(y_train)"
   ]
  },
  {
   "cell_type": "code",
   "execution_count": 94,
   "metadata": {},
   "outputs": [],
   "source": [
    "from keras.models import Model, Sequential\n",
    "from keras.layers import Input, Activation, Flatten, Dense, Dropout\n",
    "from keras.optimizers import SGD, Adam\n",
    "from keras import regularizers\n",
    "\n",
    "def create_model(learning_rate=1e-5, dropout_rate=0.1):\n",
    "    model = Sequential() \n",
    "    model.add(Dense(128, input_dim=columns, activation='relu', kernel_regularizer='l2'))\n",
    "    model.add(Dropout(dropout_rate))\n",
    "    model.add(Dense(64, activation='relu', kernel_regularizer='l2'))\n",
    "    model.add(Dropout(dropout_rate))\n",
    "    model.add(Dense(16, activation='relu', kernel_regularizer='l2'))\n",
    "    model.add(Dense(8, activation='relu', kernel_regularizer='l2'))\n",
    "    model.add(Dense(3, activation='softmax'))\n",
    "    model.compile(loss='categorical_crossentropy', optimizer=Adam(lr=learning_rate), metrics=['accuracy'])\n",
    "    return model"
   ]
  },
  {
   "cell_type": "code",
   "execution_count": 95,
   "metadata": {},
   "outputs": [
    {
     "name": "stdout",
     "output_type": "stream",
     "text": [
      "Label: \n",
      " 0\n",
      "Unique labels in the train set:  [0 1 2]\n",
      "Unique labels in the train set after encoding:  [[0. 0. 1.]\n",
      " [0. 1. 0.]\n",
      " [1. 0. 0.]]\n",
      "Number of wins in test set: 8947\n",
      "Number of draws in test set: 8947\n",
      "Number of defeats in test set: 8947\n",
      "------------------------------------------------------------------------------ \n",
      "\n"
     ]
    }
   ],
   "source": [
    "from keras.utils.np_utils import to_categorical\n",
    "\n",
    "# Convert a class vector (integers) to binary class matrix.\n",
    "print(\"Label: \\n\", y_train.iloc[0])\n",
    "print(\"Unique labels in the train set: \", np.unique(y_train))\n",
    "# One hot encoding\n",
    "y_train_categorical = to_categorical(y_train, num_classes=len(labels))\n",
    "print(\"Unique labels in the train set after encoding: \", np.unique(y_train_categorical, axis=0))\n",
    "# print(\"In categorical form: \\n\", y_train_categorical[0])\n",
    "\n",
    "print(\"Number of wins in test set:\", np.sum(y_train == 2))\n",
    "print(\"Number of draws in test set:\", np.sum(y_train == 1))\n",
    "print(\"Number of defeats in test set:\", np.sum(y_train == 0))\n",
    "\n",
    "print(\"------------------------------------------------------------------------------ \\n\")\n"
   ]
  },
  {
   "cell_type": "code",
   "execution_count": 99,
   "metadata": {},
   "outputs": [
    {
     "name": "stdout",
     "output_type": "stream",
     "text": [
      "Learning rate: 0.001, Dropout rate: 0.05\n",
      "Accuracy: 0.33518069982528687, Validation accuracy: 0.33935555815696716\n",
      "Learning rate: 0.001, Dropout rate: 0.1\n",
      "Accuracy: 0.3359724283218384, Validation accuracy: 0.33935555815696716\n",
      "Learning rate: 0.001, Dropout rate: 0.2\n",
      "Accuracy: 0.3350875675678253, Validation accuracy: 0.33395418524742126\n",
      "Learning rate: 0.005, Dropout rate: 0.05\n",
      "Accuracy: 0.339884489774704, Validation accuracy: 0.34121811389923096\n",
      "Learning rate: 0.005, Dropout rate: 0.1\n",
      "Accuracy: 0.3387202024459839, Validation accuracy: 0.33935555815696716\n",
      "Learning rate: 0.005, Dropout rate: 0.2\n",
      "Accuracy: 0.3403502106666565, Validation accuracy: 0.33935555815696716\n",
      "Learning rate: 0.0001, Dropout rate: 0.05\n",
      "Accuracy: 0.33825448155403137, Validation accuracy: 0.34792324900627136\n",
      "Learning rate: 0.0001, Dropout rate: 0.1\n",
      "Accuracy: 0.33583271503448486, Validation accuracy: 0.34084558486938477\n",
      "Learning rate: 0.0001, Dropout rate: 0.2\n",
      "Accuracy: 0.3357861340045929, Validation accuracy: 0.33395418524742126\n",
      "Learning rate: 0.0005, Dropout rate: 0.05\n",
      "Accuracy: 0.3352738320827484, Validation accuracy: 0.33395418524742126\n",
      "Learning rate: 0.0005, Dropout rate: 0.1\n",
      "Accuracy: 0.33504098653793335, Validation accuracy: 0.33395418524742126\n",
      "Learning rate: 0.0005, Dropout rate: 0.2\n",
      "Accuracy: 0.3429582715034485, Validation accuracy: 0.34587445855140686\n",
      "Learning rate: 1e-05, Dropout rate: 0.05\n",
      "Accuracy: 0.3373695909976959, Validation accuracy: 0.34028682112693787\n",
      "Learning rate: 1e-05, Dropout rate: 0.1\n",
      "Accuracy: 0.34319114685058594, Validation accuracy: 0.34755074977874756\n",
      "Learning rate: 1e-05, Dropout rate: 0.2\n",
      "Accuracy: 0.33825448155403137, Validation accuracy: 0.34866827726364136\n"
     ]
    }
   ],
   "source": [
    "learning_rates = [1e-3, 5e-3, 1e-4, 5e-4, 1e-5]\n",
    "dropout_rates = [0.05, 0.1, 0.2]\n",
    "\n",
    "best_lr = None\n",
    "best_dr = None\n",
    "\n",
    "best_val_acc = 0\n",
    "\n",
    "for lr in learning_rates:\n",
    "    for dr in dropout_rates:\n",
    "        print('Learning rate: {0}, Dropout rate: {1}'.format(lr, dr))\n",
    "        model = create_model(lr, dr)\n",
    "        history = model.fit(\n",
    "            X_train,\n",
    "            y_train_categorical,\n",
    "            batch_size=128,\n",
    "            epochs=100,\n",
    "            validation_split=0.2,\n",
    "            verbose=0)\n",
    "        val_acc = max(history.history['val_accuracy'])\n",
    "        acc = max(history.history['accuracy'])\n",
    "        print('Accuracy: {0}, Validation accuracy: {1}'.format(acc, val_acc))\n",
    "        \n",
    "        if val_acc > best_val_acc:\n",
    "            best_val_acc = val_acc\n",
    "            best_lr = lr\n",
    "            best_dr = dr\n",
    "        \n",
    "        "
   ]
  },
  {
   "cell_type": "code",
   "execution_count": 84,
   "metadata": {},
   "outputs": [
    {
     "data": {
      "image/png": "[encoded data removed]",
      "text/plain": [
       "<Figure size 432x288 with 1 Axes>"
      ]
     },
     "metadata": {
      "needs_background": "light"
     },
     "output_type": "display_data"
    }
   ],
   "source": [
    "import matplotlib.pyplot as plt\n",
    "\n",
    "plt.plot(history.history['loss'], label='train')\n",
    "plt.plot(history.history['val_loss'], label='validation')\n",
    "plt.legend()\n",
    "plt.show()"
   ]
  },
  {
   "cell_type": "code",
   "execution_count": 85,
   "metadata": {},
   "outputs": [
    {
     "data": {
      "image/png": "[encoded data removed]",
      "text/plain": [
       "<Figure size 432x288 with 1 Axes>"
      ]
     },
     "metadata": {
      "needs_background": "light"
     },
     "output_type": "display_data"
    }
   ],
   "source": [
    "plt.plot(history.history['accuracy'], label='accuracy')\n",
    "plt.plot(history.history['val_accuracy'], label='validation accuracy')\n",
    "plt.legend()\n",
    "plt.show()"
   ]
  },
  {
   "cell_type": "code",
   "execution_count": 89,
   "metadata": {},
   "outputs": [
    {
     "name": "stdout",
     "output_type": "stream",
     "text": [
      "[0 1 2]\n",
      "Test set accuracy: 0.3476190476190476\n"
     ]
    }
   ],
   "source": [
    "# Take the most probable prediction\n",
    "# print(model.predict(X_test))\n",
    "predictions = np.argmax(model.predict(X_test), axis=1)\n",
    "print(np.unique(predictions))\n",
    "# Calculate accuracy\n",
    "accuracy = (predictions == y_test).mean()\n",
    "print(\"Test set accuracy:\", accuracy)"
   ]
  },
  {
   "cell_type": "markdown",
   "metadata": {},
   "source": [
    "# Let us plot the confusion matrix"
   ]
  },
  {
   "cell_type": "code",
   "execution_count": 87,
   "metadata": {},
   "outputs": [
    {
     "name": "stdout",
     "output_type": "stream",
     "text": [
      "558\n",
      "[0 1 2]\n",
      "Neural network confusion matrix: \n",
      "                    Home wins (pred)  Draw (pred)  Home loses (pred)\n",
      "Home wins (true)                 90          301                 66\n",
      "Draw (true)                      60          147                 61\n",
      "Home loses (true)                87          110                128\n",
      "\n",
      " True labels distribution: \n",
      "\n"
     ]
    },
    {
     "data": {
      "image/png": "[encoded data removed]",
      "text/plain": [
       "<Figure size 432x288 with 1 Axes>"
      ]
     },
     "metadata": {
      "needs_background": "light"
     },
     "output_type": "display_data"
    }
   ],
   "source": [
    "# from utils.data_processing import build_confusion_matrix\n",
    "\n",
    "# TODO: Remove this and use the commented import instead\n",
    "def build_confusion_matrix(y_true, y_pred):\n",
    "    return pd.DataFrame(confusion_matrix(y_true, y_pred, labels=[2, 1, 0]),\n",
    "                        index=['Home wins (true)', 'Draw (true)', 'Home loses (true)'],\n",
    "                        columns=['Home wins (pred)', 'Draw (pred)', 'Home loses (pred)'])\n",
    "\n",
    "print(np.sum((predictions == 1)))\n",
    "print(np.unique(predictions))\n",
    "print(\"Neural network confusion matrix: \\n\", build_confusion_matrix(y_test, predictions))\n",
    "\n",
    "\n",
    "print('\\n True labels distribution: \\n')\n",
    "plot_labels_histogram(y_test)"
   ]
  },
  {
   "cell_type": "markdown",
   "metadata": {},
   "source": [
    "# Comparing Neural network to Random forest"
   ]
  },
  {
   "cell_type": "code",
   "execution_count": 88,
   "metadata": {},
   "outputs": [
    {
     "ename": "ValueError",
     "evalue": "Found input variables with inconsistent numbers of samples: [1000, 3]",
     "output_type": "error",
     "traceback": [
      "\u001b[0;31m---------------------------------------------------------------------------\u001b[0m",
      "\u001b[0;31mValueError\u001b[0m                                Traceback (most recent call last)",
      "\u001b[0;32m<ipython-input-88-889b6884bb4e>\u001b[0m in \u001b[0;36m<module>\u001b[0;34m\u001b[0m\n\u001b[1;32m      1\u001b[0m \u001b[0;31m#Splitting the data into Train, Calibrate, and Test data sets\u001b[0m\u001b[0;34m\u001b[0m\u001b[0;34m\u001b[0m\u001b[0;34m\u001b[0m\u001b[0m\n\u001b[0;32m----> 2\u001b[0;31m \u001b[0mX_train_calibrate\u001b[0m\u001b[0;34m,\u001b[0m \u001b[0mX_test\u001b[0m\u001b[0;34m,\u001b[0m \u001b[0my_train_calibrate\u001b[0m\u001b[0;34m,\u001b[0m \u001b[0my_test\u001b[0m \u001b[0;34m=\u001b[0m \u001b[0mtrain_test_split\u001b[0m\u001b[0;34m(\u001b[0m\u001b[0mfeatures\u001b[0m\u001b[0;34m,\u001b[0m \u001b[0mlabels\u001b[0m\u001b[0;34m,\u001b[0m \u001b[0mtest_size\u001b[0m \u001b[0;34m=\u001b[0m \u001b[0;36m0.25\u001b[0m\u001b[0;34m,\u001b[0m \u001b[0mrandom_state\u001b[0m \u001b[0;34m=\u001b[0m \u001b[0;36m0\u001b[0m\u001b[0;34m,\u001b[0m \u001b[0mstratify\u001b[0m \u001b[0;34m=\u001b[0m \u001b[0mlabels\u001b[0m\u001b[0;34m)\u001b[0m\u001b[0;34m\u001b[0m\u001b[0;34m\u001b[0m\u001b[0m\n\u001b[0m\u001b[1;32m      3\u001b[0m \u001b[0mX_train\u001b[0m\u001b[0;34m,\u001b[0m \u001b[0mX_calibrate\u001b[0m\u001b[0;34m,\u001b[0m \u001b[0my_train\u001b[0m\u001b[0;34m,\u001b[0m \u001b[0my_calibrate\u001b[0m \u001b[0;34m=\u001b[0m \u001b[0mtrain_test_split\u001b[0m\u001b[0;34m(\u001b[0m\u001b[0mX_train_calibrate\u001b[0m\u001b[0;34m,\u001b[0m \u001b[0my_train_calibrate\u001b[0m\u001b[0;34m,\u001b[0m \u001b[0mtest_size\u001b[0m \u001b[0;34m=\u001b[0m \u001b[0;36m0.25\u001b[0m\u001b[0;34m,\u001b[0m \u001b[0mrandom_state\u001b[0m \u001b[0;34m=\u001b[0m \u001b[0;36m0\u001b[0m\u001b[0;34m,\u001b[0m \u001b[0mstratify\u001b[0m \u001b[0;34m=\u001b[0m \u001b[0my_train_calibrate\u001b[0m\u001b[0;34m)\u001b[0m\u001b[0;34m\u001b[0m\u001b[0;34m\u001b[0m\u001b[0m\n",
      "\u001b[0;32m/usr/local/anaconda3/lib/python3.7/site-packages/sklearn/model_selection/_split.py\u001b[0m in \u001b[0;36mtrain_test_split\u001b[0;34m(*arrays, **options)\u001b[0m\n\u001b[1;32m   2125\u001b[0m         \u001b[0;32mraise\u001b[0m \u001b[0mTypeError\u001b[0m\u001b[0;34m(\u001b[0m\u001b[0;34m\"Invalid parameters passed: %s\"\u001b[0m \u001b[0;34m%\u001b[0m \u001b[0mstr\u001b[0m\u001b[0;34m(\u001b[0m\u001b[0moptions\u001b[0m\u001b[0;34m)\u001b[0m\u001b[0;34m)\u001b[0m\u001b[0;34m\u001b[0m\u001b[0;34m\u001b[0m\u001b[0m\n\u001b[1;32m   2126\u001b[0m \u001b[0;34m\u001b[0m\u001b[0m\n\u001b[0;32m-> 2127\u001b[0;31m     \u001b[0marrays\u001b[0m \u001b[0;34m=\u001b[0m \u001b[0mindexable\u001b[0m\u001b[0;34m(\u001b[0m\u001b[0;34m*\u001b[0m\u001b[0marrays\u001b[0m\u001b[0;34m)\u001b[0m\u001b[0;34m\u001b[0m\u001b[0;34m\u001b[0m\u001b[0m\n\u001b[0m\u001b[1;32m   2128\u001b[0m \u001b[0;34m\u001b[0m\u001b[0m\n\u001b[1;32m   2129\u001b[0m     \u001b[0mn_samples\u001b[0m \u001b[0;34m=\u001b[0m \u001b[0m_num_samples\u001b[0m\u001b[0;34m(\u001b[0m\u001b[0marrays\u001b[0m\u001b[0;34m[\u001b[0m\u001b[0;36m0\u001b[0m\u001b[0;34m]\u001b[0m\u001b[0;34m)\u001b[0m\u001b[0;34m\u001b[0m\u001b[0;34m\u001b[0m\u001b[0m\n",
      "\u001b[0;32m/usr/local/anaconda3/lib/python3.7/site-packages/sklearn/utils/validation.py\u001b[0m in \u001b[0;36mindexable\u001b[0;34m(*iterables)\u001b[0m\n\u001b[1;32m    291\u001b[0m     \"\"\"\n\u001b[1;32m    292\u001b[0m     \u001b[0mresult\u001b[0m \u001b[0;34m=\u001b[0m \u001b[0;34m[\u001b[0m\u001b[0m_make_indexable\u001b[0m\u001b[0;34m(\u001b[0m\u001b[0mX\u001b[0m\u001b[0;34m)\u001b[0m \u001b[0;32mfor\u001b[0m \u001b[0mX\u001b[0m \u001b[0;32min\u001b[0m \u001b[0miterables\u001b[0m\u001b[0;34m]\u001b[0m\u001b[0;34m\u001b[0m\u001b[0;34m\u001b[0m\u001b[0m\n\u001b[0;32m--> 293\u001b[0;31m     \u001b[0mcheck_consistent_length\u001b[0m\u001b[0;34m(\u001b[0m\u001b[0;34m*\u001b[0m\u001b[0mresult\u001b[0m\u001b[0;34m)\u001b[0m\u001b[0;34m\u001b[0m\u001b[0;34m\u001b[0m\u001b[0m\n\u001b[0m\u001b[1;32m    294\u001b[0m     \u001b[0;32mreturn\u001b[0m \u001b[0mresult\u001b[0m\u001b[0;34m\u001b[0m\u001b[0;34m\u001b[0m\u001b[0m\n\u001b[1;32m    295\u001b[0m \u001b[0;34m\u001b[0m\u001b[0m\n",
      "\u001b[0;32m/usr/local/anaconda3/lib/python3.7/site-packages/sklearn/utils/validation.py\u001b[0m in \u001b[0;36mcheck_consistent_length\u001b[0;34m(*arrays)\u001b[0m\n\u001b[1;32m    255\u001b[0m     \u001b[0;32mif\u001b[0m \u001b[0mlen\u001b[0m\u001b[0;34m(\u001b[0m\u001b[0muniques\u001b[0m\u001b[0;34m)\u001b[0m \u001b[0;34m>\u001b[0m \u001b[0;36m1\u001b[0m\u001b[0;34m:\u001b[0m\u001b[0;34m\u001b[0m\u001b[0;34m\u001b[0m\u001b[0m\n\u001b[1;32m    256\u001b[0m         raise ValueError(\"Found input variables with inconsistent numbers of\"\n\u001b[0;32m--> 257\u001b[0;31m                          \" samples: %r\" % [int(l) for l in lengths])\n\u001b[0m\u001b[1;32m    258\u001b[0m \u001b[0;34m\u001b[0m\u001b[0m\n\u001b[1;32m    259\u001b[0m \u001b[0;34m\u001b[0m\u001b[0m\n",
      "\u001b[0;31mValueError\u001b[0m: Found input variables with inconsistent numbers of samples: [1000, 3]"
     ]
    }
   ],
   "source": [
    "#Splitting the data into Train, Calibrate, and Test data sets\n",
    "X_train_calibrate, X_test, y_train_calibrate, y_test = train_test_split(features, labels, test_size = 0.25, random_state = 0, stratify = labels)\n",
    "X_train, X_calibrate, y_train, y_calibrate = train_test_split(X_train_calibrate, y_train_calibrate, test_size = 0.25, random_state = 0, stratify = y_train_calibrate)\n"
   ]
  },
  {
   "cell_type": "code",
   "execution_count": null,
   "metadata": {},
   "outputs": [],
   "source": [
    "from utils.data_processing import train_calibrate_predict\n",
    "\n",
    "# Creating cross validation data splits\n",
    "cv_sets = model_selection.StratifiedShuffleSplit(n_splits = 5, test_size = 0.20, random_state = 5)\n",
    "cv_sets.get_n_splits(X_train, y_train)\n",
    "\n",
    "# Init Random Forest\n",
    "RF_clf = RandomForestClassifier(n_estimators = 200, random_state = 1, class_weight = 'balanced')\n",
    "\n",
    "#Specficying scorer and parameters for grid search\n",
    "feature_len = features.shape[1]\n",
    "scorer = make_scorer(accuracy_score)\n",
    "parameters_RF = {'clf__max_features': ['auto', 'log2'], 'dm_reduce__n_components': np.arange(5, feature_len, int(np.around(feature_len/5)))}\n",
    "\n",
    "#Initializing dimensionality reductions\n",
    "pca = PCA()\n",
    "RF_clf.fit(X_train, y_train)\n",
    "\n",
    "print(\"Random forest accuracy for train set.\".format(RF_clf.__class__.__name__, accuracy_score(y_train, RF_clf.predict(X_train))))\n",
    "print(\"Random forest accuracy for test set\".format(RF_clf.__class__.__name__, accuracy_score(y_test, RF_clf.predict(X_test))))\n",
    "\n",
    "#Grid search, calibrate, and test the classifier\n",
    "calibrated_RF_clf, dm_reduce, train_score, test_score = train_calibrate_predict(clf = RF_clf, dm_reduction = pca, X_train = X_train, y_train = y_train,\n",
    "                                                                  X_calibrate = X_calibrate, y_calibrate = y_calibrate,\n",
    "                                                                  X_test = X_test, y_test = y_test, cv_sets = cv_sets,\n",
    "                                                                  params = parameters_RF, scorer = scorer, jobs = 1, use_grid_search = True)"
   ]
  },
  {
   "cell_type": "code",
   "execution_count": null,
   "metadata": {},
   "outputs": [],
   "source": [
    "rf_predictions = RF_clf.predict(X_test)\n",
    "\n",
    "# Calculate accuracy\n",
    "accuracy = (rf_predictions == y_test).mean()\n",
    "print(\"Random forest test set accuracy:\", accuracy)"
   ]
  },
  {
   "cell_type": "code",
   "execution_count": null,
   "metadata": {},
   "outputs": [],
   "source": [
    "print(\"Random forest confusion matrix: \\n\", build_confusion_matrix(y_test, rf_predictions))"
   ]
  },
  {
   "cell_type": "markdown",
   "metadata": {},
   "source": [
    "# Conclusion"
   ]
  }
 ],
 "metadata": {
  "kernelspec": {
   "display_name": "Python 3",
   "language": "python",
   "name": "python3"
  },
  "language_info": {
   "codemirror_mode": {
    "name": "ipython",
    "version": 3
   },
   "file_extension": ".py",
   "mimetype": "text/x-python",
   "name": "python",
   "nbconvert_exporter": "python",
   "pygments_lexer": "ipython3",
   "version": "3.7.6"
  }
 },
 "nbformat": 4,
 "nbformat_minor": 2
}
