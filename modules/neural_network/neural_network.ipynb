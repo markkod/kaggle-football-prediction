{
 "cells": [
  {
   "cell_type": "markdown",
   "metadata": {},
   "source": [
    "# Neural network"
   ]
  },
  {
   "cell_type": "markdown",
   "metadata": {},
   "source": [
    "### Try to use our own preprocessing"
   ]
  },
  {
   "cell_type": "code",
   "execution_count": 1,
   "metadata": {},
   "outputs": [
    {
     "name": "stdout",
     "output_type": "stream",
     "text": [
      "Done\n"
     ]
    }
   ],
   "source": [
    "import os\n",
    "import sys\n",
    "module_path = os.path.abspath(os.path.join('..'))\n",
    "if module_path not in sys.path:\n",
    "    sys.path.append(module_path)\n",
    "\n",
    "import sqlite3\n",
    "import pandas as pd\n",
    "import numpy as np\n",
    "from sklearn.ensemble import RandomForestClassifier\n",
    "from sklearn.metrics import accuracy_score\n",
    "from sklearn import model_selection\n",
    "from sklearn.model_selection import train_test_split\n",
    "from sklearn.metrics import make_scorer\n",
    "from time import time\n",
    "from sklearn.decomposition import PCA\n",
    "import warnings\n",
    "from pathlib import Path\n",
    "\n",
    "from utils.data_processing import create_feables\n",
    "from utils.data_processing import confusion_matrix\n",
    "\n",
    "warnings.simplefilter(\"ignore\")\n",
    "\n",
    "# You should run the ../../data_preprocessing.ipynb notebook to generate the data before running this\n",
    "data = pd.read_csv(\"../../datasets/data.csv\")\n",
    "# data = data.tail(1000)\n",
    "\n",
    "def normalize_bk_coefs(row, coef_name):\n",
    "    keys = ['H', 'A', 'D']\n",
    "    total = 0\n",
    "    for key in keys:\n",
    "        total += row[coef_name+key]\n",
    "    \n",
    "    for key in keys:\n",
    "        row[coef_name+key] = row[coef_name+key] / total\n",
    "    \n",
    "    return row\n",
    "\n",
    "# Normalize coefs\n",
    "bk = [\"B365\", \"BW\", \"IW\", \"LB\", \"WH\", \"VC\"]\n",
    "for coef_name in bk:\n",
    "    data = data.apply(lambda row: normalize_bk_coefs(row, coef_name), axis=1)\n",
    "\n",
    "\n",
    "labels = data.loc[:,'label']\n",
    "features = data.drop('label', axis = 1)\n",
    "\n",
    "print('Done')"
   ]
  },
  {
   "cell_type": "markdown",
   "metadata": {},
   "source": [
    "### Train test split with the test set being the results of the last 3 months. "
   ]
  },
  {
   "cell_type": "code",
   "execution_count": 2,
   "metadata": {},
   "outputs": [],
   "source": [
    "data = data.sort_values(['season', 'month'], ascending=(True, True))\n",
    "test = data[(data['season'] == 2015) & (data['month'] > 8)]\n",
    "\n",
    "y_test = test.loc[:, 'label']\n",
    "X_test = test.drop('label', axis=1)\n",
    "\n",
    "train = data[~data.isin(test)].dropna(how = 'all')\n",
    "y_train = data.loc[:, 'label']\n",
    "X_train = data.drop('label', axis=1)"
   ]
  },
  {
   "cell_type": "code",
   "execution_count": 3,
   "metadata": {},
   "outputs": [
    {
     "data": {
      "text/html": [
       "<div>\n",
       "<style scoped>\n",
       "    .dataframe tbody tr th:only-of-type {\n",
       "        vertical-align: middle;\n",
       "    }\n",
       "\n",
       "    .dataframe tbody tr th {\n",
       "        vertical-align: top;\n",
       "    }\n",
       "\n",
       "    .dataframe thead th {\n",
       "        text-align: right;\n",
       "    }\n",
       "</style>\n",
       "<table border=\"1\" class=\"dataframe\">\n",
       "  <thead>\n",
       "    <tr style=\"text-align: right;\">\n",
       "      <th></th>\n",
       "      <th>Unnamed: 0</th>\n",
       "      <th>season</th>\n",
       "      <th>month</th>\n",
       "      <th>stage</th>\n",
       "      <th>home_defencePressure</th>\n",
       "      <th>home_defenceAggression</th>\n",
       "      <th>home_defenceTeamWidth</th>\n",
       "      <th>away_defencePressure</th>\n",
       "      <th>away_defenceAggression</th>\n",
       "      <th>away_defenceTeamWidth</th>\n",
       "      <th>...</th>\n",
       "      <th>IWA</th>\n",
       "      <th>LBH</th>\n",
       "      <th>LBD</th>\n",
       "      <th>LBA</th>\n",
       "      <th>WHH</th>\n",
       "      <th>WHD</th>\n",
       "      <th>WHA</th>\n",
       "      <th>VCH</th>\n",
       "      <th>VCD</th>\n",
       "      <th>VCA</th>\n",
       "    </tr>\n",
       "  </thead>\n",
       "  <tbody>\n",
       "    <tr>\n",
       "      <th>2321</th>\n",
       "      <td>2363.0</td>\n",
       "      <td>2009.0</td>\n",
       "      <td>8.0</td>\n",
       "      <td>2.0</td>\n",
       "      <td>30.0</td>\n",
       "      <td>30.0</td>\n",
       "      <td>30.0</td>\n",
       "      <td>30.0</td>\n",
       "      <td>30.0</td>\n",
       "      <td>30.0</td>\n",
       "      <td>...</td>\n",
       "      <td>0.265060</td>\n",
       "      <td>0.294479</td>\n",
       "      <td>0.398773</td>\n",
       "      <td>0.306748</td>\n",
       "      <td>0.320685</td>\n",
       "      <td>0.403917</td>\n",
       "      <td>0.275398</td>\n",
       "      <td>0.324130</td>\n",
       "      <td>0.390156</td>\n",
       "      <td>0.285714</td>\n",
       "    </tr>\n",
       "    <tr>\n",
       "      <th>14423</th>\n",
       "      <td>15306.0</td>\n",
       "      <td>2009.0</td>\n",
       "      <td>8.0</td>\n",
       "      <td>4.0</td>\n",
       "      <td>40.0</td>\n",
       "      <td>50.0</td>\n",
       "      <td>40.0</td>\n",
       "      <td>30.0</td>\n",
       "      <td>40.0</td>\n",
       "      <td>50.0</td>\n",
       "      <td>...</td>\n",
       "      <td>0.404494</td>\n",
       "      <td>0.235294</td>\n",
       "      <td>0.352941</td>\n",
       "      <td>0.411765</td>\n",
       "      <td>0.242938</td>\n",
       "      <td>0.361582</td>\n",
       "      <td>0.395480</td>\n",
       "      <td>0.241379</td>\n",
       "      <td>0.367816</td>\n",
       "      <td>0.390805</td>\n",
       "    </tr>\n",
       "    <tr>\n",
       "      <th>7731</th>\n",
       "      <td>8229.0</td>\n",
       "      <td>2012.0</td>\n",
       "      <td>11.0</td>\n",
       "      <td>14.0</td>\n",
       "      <td>65.0</td>\n",
       "      <td>50.0</td>\n",
       "      <td>60.0</td>\n",
       "      <td>45.0</td>\n",
       "      <td>55.0</td>\n",
       "      <td>45.0</td>\n",
       "      <td>...</td>\n",
       "      <td>0.504673</td>\n",
       "      <td>0.141825</td>\n",
       "      <td>0.361337</td>\n",
       "      <td>0.496838</td>\n",
       "      <td>0.141825</td>\n",
       "      <td>0.361337</td>\n",
       "      <td>0.496838</td>\n",
       "      <td>0.153153</td>\n",
       "      <td>0.360360</td>\n",
       "      <td>0.486486</td>\n",
       "    </tr>\n",
       "    <tr>\n",
       "      <th>16078</th>\n",
       "      <td>17082.0</td>\n",
       "      <td>2013.0</td>\n",
       "      <td>4.0</td>\n",
       "      <td>33.0</td>\n",
       "      <td>60.0</td>\n",
       "      <td>70.0</td>\n",
       "      <td>70.0</td>\n",
       "      <td>60.0</td>\n",
       "      <td>70.0</td>\n",
       "      <td>70.0</td>\n",
       "      <td>...</td>\n",
       "      <td>0.235294</td>\n",
       "      <td>0.402235</td>\n",
       "      <td>0.368715</td>\n",
       "      <td>0.229050</td>\n",
       "      <td>0.417582</td>\n",
       "      <td>0.357143</td>\n",
       "      <td>0.225275</td>\n",
       "      <td>0.414894</td>\n",
       "      <td>0.372340</td>\n",
       "      <td>0.212766</td>\n",
       "    </tr>\n",
       "    <tr>\n",
       "      <th>505</th>\n",
       "      <td>537.0</td>\n",
       "      <td>2010.0</td>\n",
       "      <td>9.0</td>\n",
       "      <td>7.0</td>\n",
       "      <td>70.0</td>\n",
       "      <td>50.0</td>\n",
       "      <td>70.0</td>\n",
       "      <td>60.0</td>\n",
       "      <td>60.0</td>\n",
       "      <td>65.0</td>\n",
       "      <td>...</td>\n",
       "      <td>0.566802</td>\n",
       "      <td>0.093546</td>\n",
       "      <td>0.326323</td>\n",
       "      <td>0.580131</td>\n",
       "      <td>0.085487</td>\n",
       "      <td>0.318091</td>\n",
       "      <td>0.596421</td>\n",
       "      <td>0.079755</td>\n",
       "      <td>0.306748</td>\n",
       "      <td>0.613497</td>\n",
       "    </tr>\n",
       "  </tbody>\n",
       "</table>\n",
       "<p>5 rows × 31 columns</p>\n",
       "</div>"
      ],
      "text/plain": [
       "       Unnamed: 0  season  month  stage  home_defencePressure  \\\n",
       "2321       2363.0  2009.0    8.0    2.0                  30.0   \n",
       "14423     15306.0  2009.0    8.0    4.0                  40.0   \n",
       "7731       8229.0  2012.0   11.0   14.0                  65.0   \n",
       "16078     17082.0  2013.0    4.0   33.0                  60.0   \n",
       "505         537.0  2010.0    9.0    7.0                  70.0   \n",
       "\n",
       "       home_defenceAggression  home_defenceTeamWidth  away_defencePressure  \\\n",
       "2321                     30.0                   30.0                  30.0   \n",
       "14423                    50.0                   40.0                  30.0   \n",
       "7731                     50.0                   60.0                  45.0   \n",
       "16078                    70.0                   70.0                  60.0   \n",
       "505                      50.0                   70.0                  60.0   \n",
       "\n",
       "       away_defenceAggression  away_defenceTeamWidth  ...       IWA       LBH  \\\n",
       "2321                     30.0                   30.0  ...  0.265060  0.294479   \n",
       "14423                    40.0                   50.0  ...  0.404494  0.235294   \n",
       "7731                     55.0                   45.0  ...  0.504673  0.141825   \n",
       "16078                    70.0                   70.0  ...  0.235294  0.402235   \n",
       "505                      60.0                   65.0  ...  0.566802  0.093546   \n",
       "\n",
       "            LBD       LBA       WHH       WHD       WHA       VCH       VCD  \\\n",
       "2321   0.398773  0.306748  0.320685  0.403917  0.275398  0.324130  0.390156   \n",
       "14423  0.352941  0.411765  0.242938  0.361582  0.395480  0.241379  0.367816   \n",
       "7731   0.361337  0.496838  0.141825  0.361337  0.496838  0.153153  0.360360   \n",
       "16078  0.368715  0.229050  0.417582  0.357143  0.225275  0.414894  0.372340   \n",
       "505    0.326323  0.580131  0.085487  0.318091  0.596421  0.079755  0.306748   \n",
       "\n",
       "            VCA  \n",
       "2321   0.285714  \n",
       "14423  0.390805  \n",
       "7731   0.486486  \n",
       "16078  0.212766  \n",
       "505    0.613497  \n",
       "\n",
       "[5 rows x 31 columns]"
      ]
     },
     "execution_count": 3,
     "metadata": {},
     "output_type": "execute_result"
    }
   ],
   "source": [
    "from sklearn.model_selection import train_test_split\n",
    "#Splitting the data into train, test\n",
    "X_train, X_test, y_train, y_test = train_test_split(features, labels, test_size = 0.25, random_state = 42, shuffle = True, stratify = labels)\n",
    "\n",
    "# Show some rows of the data\n",
    "X_train.head()"
   ]
  },
  {
   "cell_type": "code",
   "execution_count": 4,
   "metadata": {},
   "outputs": [
    {
     "name": "stdout",
     "output_type": "stream",
     "text": [
      "Number of wins in test set: 2237\n",
      "Number of draws in test set: 1230\n",
      "Number of defeats in test set: 1405\n"
     ]
    }
   ],
   "source": [
    "print(\"Number of wins in test set:\", np.sum(y_test == 2))\n",
    "print(\"Number of draws in test set:\", np.sum(y_test == 1))\n",
    "print(\"Number of defeats in test set:\", np.sum(y_test == 0))"
   ]
  },
  {
   "cell_type": "code",
   "execution_count": 5,
   "metadata": {},
   "outputs": [
    {
     "name": "stdout",
     "output_type": "stream",
     "text": [
      "Number of possible outcomes 3\n",
      "Labels: [0. 1. 2.]\n"
     ]
    }
   ],
   "source": [
    "# Match outcome\n",
    "y_train.head()\n",
    "\n",
    "# Number of possible outcomes\n",
    "# 2 = win\n",
    "# 1 = draw\n",
    "# 0 = lose\n",
    "print('Number of possible outcomes', np.unique(y_train.values).shape[0])\n",
    "labels = np.unique(y_train.values)\n",
    "print(\"Labels:\", labels)\n"
   ]
  },
  {
   "cell_type": "code",
   "execution_count": 6,
   "metadata": {},
   "outputs": [
    {
     "name": "stdout",
     "output_type": "stream",
     "text": [
      "Number of columns: 31\n"
     ]
    }
   ],
   "source": [
    "# Get number of columns by getting the number of columns in the X_train\n",
    "columns = X_train.shape[1]\n",
    "print('Number of columns:', columns)"
   ]
  },
  {
   "cell_type": "code",
   "execution_count": 7,
   "metadata": {},
   "outputs": [],
   "source": [
    "import matplotlib.pyplot as plt\n",
    "\n",
    "# Plot the distribution of labels in the train data\n",
    "def plot_labels_histogram(data):\n",
    "    plt.hist(data, facecolor='purple', align='mid')\n",
    "    plt.ylabel('Number of instances')\n",
    "    plt.xlabel('0 - defeat, 1 - tie, 2 - win')\n",
    "    plt.title(\"Label distribution\")\n",
    "    \n",
    "plot_labels_histogram(y_train)"
   ]
  },
  {
   "cell_type": "code",
   "execution_count": 9,
   "metadata": {},
   "outputs": [
    {
     "name": "stderr",
     "output_type": "stream",
     "text": [
      "Using TensorFlow backend.\n"
     ]
    },
    {
     "data": {
      "image/png": "[encoded data removed]",
      "text/plain": [
       "<Figure size 432x288 with 1 Axes>"
      ]
     },
     "metadata": {
      "needs_background": "light"
     },
     "output_type": "display_data"
    }
   ],
   "source": [
    "from imblearn.over_sampling import RandomOverSampler\n",
    "\n",
    "# Since the train data is uneven and the dataset is not \"huge\" we need to upsamle/oversample\n",
    "sampler = RandomOverSampler()\n",
    "X_train_sampled, y_train_sampled = sampler.fit_sample(X_train, y_train)\n",
    "\n",
    "# Plot the oversampled train set\n",
    "plot_labels_histogram(y_train_sampled)"
   ]
  },
  {
   "cell_type": "code",
   "execution_count": 10,
   "metadata": {},
   "outputs": [
    {
     "data": {
      "image/png": "[encoded data removed]",
      "text/plain": [
       "<Figure size 432x288 with 1 Axes>"
      ]
     },
     "metadata": {
      "needs_background": "light"
     },
     "output_type": "display_data"
    }
   ],
   "source": [
    "from sklearn.utils import shuffle\n",
    "\n",
    "# Assign train values with the new sampled data\n",
    "X_train, y_train = shuffle(X_train_sampled, y_train_sampled, random_state=42)\n",
    "\n",
    "plot_labels_histogram(y_train)"
   ]
  },
  {
   "cell_type": "code",
   "execution_count": 16,
   "metadata": {},
   "outputs": [],
   "source": [
    "from keras.models import Model, Sequential\n",
    "from keras.layers import Input, Activation, Flatten, Dense, Dropout\n",
    "from keras.optimizers import SGD, Adam\n",
    "from keras import regularizers\n",
    "\n",
    "def create_model(learning_rate=1e-5, dropout_rate=0.1):\n",
    "    model = Sequential() \n",
    "    model.add(Dense(64, input_dim=columns, activation='tanh', kernel_regularizer='l2'))\n",
    "    #model.add(Dropout(dropout_rate))\n",
    "    #model.add(Dense(16, activation='relu', kernel_regularizer='l2'))\n",
    "    model.add(Dropout(dropout_rate))\n",
    "    #model.add(Dense(16, activation='relu', kernel_regularizer='l2'))\n",
    "    #model.add(Dense(8, inputactivation='tanh', kernel_regularizer='l2'))\n",
    "    model.add(Dense(3, activation='softmax'))\n",
    "    model.compile(loss='categorical_crossentropy', optimizer=Adam(lr=learning_rate), metrics=['accuracy'])\n",
    "    return model"
   ]
  },
  {
   "cell_type": "code",
   "execution_count": 17,
   "metadata": {},
   "outputs": [
    {
     "name": "stdout",
     "output_type": "stream",
     "text": [
      "Unique labels in the train set:  [0. 1. 2.]\n",
      "Unique labels in the train set after encoding:  [[0. 0. 1.]\n",
      " [0. 1. 0.]\n",
      " [1. 0. 0.]]\n",
      "------------------------------------------------------------------------------ \n",
      "\n"
     ]
    }
   ],
   "source": [
    "from keras.utils.np_utils import to_categorical\n",
    "\n",
    "# Convert a class vector (integers) to binary class matrix.\n",
    "print(\"Unique labels in the train set: \", np.unique(y_train))\n",
    "# One hot encoding\n",
    "y_train_categorical = to_categorical(y_train, num_classes=len(labels))\n",
    "print(\"Unique labels in the train set after encoding: \", np.unique(y_train_categorical, axis=0))\n",
    "\n",
    "print(\"------------------------------------------------------------------------------ \\n\")\n"
   ]
  },
  {
   "cell_type": "code",
   "execution_count": 18,
   "metadata": {},
   "outputs": [
    {
     "name": "stdout",
     "output_type": "stream",
     "text": [
      "Learning rate: 0.001, Dropout rate: 0.05\n",
      "WARNING:tensorflow:From /home/liina/anaconda3/lib/python3.7/site-packages/tensorflow/python/ops/resource_variable_ops.py:435: colocate_with (from tensorflow.python.framework.ops) is deprecated and will be removed in a future version.\n",
      "Instructions for updating:\n",
      "Colocations handled automatically by placer.\n",
      "WARNING:tensorflow:From /home/liina/anaconda3/lib/python3.7/site-packages/tensorflow/python/ops/math_ops.py:3066: to_int32 (from tensorflow.python.ops.math_ops) is deprecated and will be removed in a future version.\n",
      "Instructions for updating:\n",
      "Use tf.cast instead.\n",
      "Accuracy: 0.34319570660591125, Validation accuracy: 0.3503311276435852\n",
      "Test set accuracy: 0.25779967159277506\n",
      "Learning rate: 0.001, Dropout rate: 0.1\n",
      "Accuracy: 0.3434900939464569, Validation accuracy: 0.3503311276435852\n",
      "Test set accuracy: 0.4591543513957307\n",
      "Learning rate: 0.001, Dropout rate: 0.2\n",
      "Accuracy: 0.34481489658355713, Validation accuracy: 0.3509933650493622\n",
      "Test set accuracy: 0.2883825944170772\n",
      "Learning rate: 0.005, Dropout rate: 0.05\n",
      "Accuracy: 0.3434165120124817, Validation accuracy: 0.3503311276435852\n",
      "Test set accuracy: 0.2883825944170772\n",
      "Learning rate: 0.005, Dropout rate: 0.1\n",
      "Accuracy: 0.3434900939464569, Validation accuracy: 0.34966886043548584\n",
      "Test set accuracy: 0.2524630541871921\n",
      "Learning rate: 0.005, Dropout rate: 0.2\n",
      "Accuracy: 0.3435637056827545, Validation accuracy: 0.3483443856239319\n",
      "Test set accuracy: 0.2883825944170772\n",
      "Learning rate: 0.0001, Dropout rate: 0.05\n",
      "Accuracy: 0.3501876890659332, Validation accuracy: 0.3668874204158783\n",
      "Test set accuracy: 0.3080870279146141\n",
      "Learning rate: 0.0001, Dropout rate: 0.1\n",
      "Accuracy: 0.3486420810222626, Validation accuracy: 0.37218543887138367\n",
      "Test set accuracy: 0.2686781609195402\n",
      "Learning rate: 0.0001, Dropout rate: 0.2\n",
      "Accuracy: 0.3530580699443817, Validation accuracy: 0.3569536507129669\n",
      "Test set accuracy: 0.2592364532019704\n",
      "Learning rate: 0.0005, Dropout rate: 0.05\n",
      "Accuracy: 0.34547728300094604, Validation accuracy: 0.3569536507129669\n",
      "Test set accuracy: 0.4536124794745484\n",
      "Learning rate: 0.0005, Dropout rate: 0.1\n",
      "Accuracy: 0.34422609210014343, Validation accuracy: 0.35364237427711487\n",
      "Test set accuracy: 0.4119458128078818\n",
      "Learning rate: 0.0005, Dropout rate: 0.2\n",
      "Accuracy: 0.34562450647354126, Validation accuracy: 0.3529801368713379\n",
      "Test set accuracy: 0.2883825944170772\n",
      "Learning rate: 1e-05, Dropout rate: 0.05\n",
      "Accuracy: 0.409656286239624, Validation accuracy: 0.4536423981189728\n",
      "Test set accuracy: 0.38382594417077176\n",
      "Learning rate: 1e-05, Dropout rate: 0.1\n"
     ]
    },
    {
     "ename": "KeyboardInterrupt",
     "evalue": "",
     "output_type": "error",
     "traceback": [
      "\u001b[0;31m---------------------------------------------------------------------------\u001b[0m",
      "\u001b[0;31mKeyboardInterrupt\u001b[0m                         Traceback (most recent call last)",
      "\u001b[0;32m<ipython-input-18-96e492f069fe>\u001b[0m in \u001b[0;36m<module>\u001b[0;34m\u001b[0m\n\u001b[1;32m     16\u001b[0m             \u001b[0mepochs\u001b[0m\u001b[0;34m=\u001b[0m\u001b[0;36m100\u001b[0m\u001b[0;34m,\u001b[0m\u001b[0;34m\u001b[0m\u001b[0;34m\u001b[0m\u001b[0m\n\u001b[1;32m     17\u001b[0m             \u001b[0mvalidation_split\u001b[0m\u001b[0;34m=\u001b[0m\u001b[0;36m0.1\u001b[0m\u001b[0;34m,\u001b[0m\u001b[0;34m\u001b[0m\u001b[0;34m\u001b[0m\u001b[0m\n\u001b[0;32m---> 18\u001b[0;31m             verbose=0)\n\u001b[0m\u001b[1;32m     19\u001b[0m         \u001b[0mval_acc\u001b[0m \u001b[0;34m=\u001b[0m \u001b[0mmax\u001b[0m\u001b[0;34m(\u001b[0m\u001b[0mhistory\u001b[0m\u001b[0;34m.\u001b[0m\u001b[0mhistory\u001b[0m\u001b[0;34m[\u001b[0m\u001b[0;34m'val_accuracy'\u001b[0m\u001b[0;34m]\u001b[0m\u001b[0;34m)\u001b[0m\u001b[0;34m\u001b[0m\u001b[0;34m\u001b[0m\u001b[0m\n\u001b[1;32m     20\u001b[0m         \u001b[0macc\u001b[0m \u001b[0;34m=\u001b[0m \u001b[0mmax\u001b[0m\u001b[0;34m(\u001b[0m\u001b[0mhistory\u001b[0m\u001b[0;34m.\u001b[0m\u001b[0mhistory\u001b[0m\u001b[0;34m[\u001b[0m\u001b[0;34m'accuracy'\u001b[0m\u001b[0;34m]\u001b[0m\u001b[0;34m)\u001b[0m\u001b[0;34m\u001b[0m\u001b[0;34m\u001b[0m\u001b[0m\n",
      "\u001b[0;32m~/anaconda3/lib/python3.7/site-packages/keras/engine/training.py\u001b[0m in \u001b[0;36mfit\u001b[0;34m(self, x, y, batch_size, epochs, verbose, callbacks, validation_split, validation_data, shuffle, class_weight, sample_weight, initial_epoch, steps_per_epoch, validation_steps, validation_freq, max_queue_size, workers, use_multiprocessing, **kwargs)\u001b[0m\n\u001b[1;32m   1237\u001b[0m                                         \u001b[0msteps_per_epoch\u001b[0m\u001b[0;34m=\u001b[0m\u001b[0msteps_per_epoch\u001b[0m\u001b[0;34m,\u001b[0m\u001b[0;34m\u001b[0m\u001b[0;34m\u001b[0m\u001b[0m\n\u001b[1;32m   1238\u001b[0m                                         \u001b[0mvalidation_steps\u001b[0m\u001b[0;34m=\u001b[0m\u001b[0mvalidation_steps\u001b[0m\u001b[0;34m,\u001b[0m\u001b[0;34m\u001b[0m\u001b[0;34m\u001b[0m\u001b[0m\n\u001b[0;32m-> 1239\u001b[0;31m                                         validation_freq=validation_freq)\n\u001b[0m\u001b[1;32m   1240\u001b[0m \u001b[0;34m\u001b[0m\u001b[0m\n\u001b[1;32m   1241\u001b[0m     def evaluate(self,\n",
      "\u001b[0;32m~/anaconda3/lib/python3.7/site-packages/keras/engine/training_arrays.py\u001b[0m in \u001b[0;36mfit_loop\u001b[0;34m(model, fit_function, fit_inputs, out_labels, batch_size, epochs, verbose, callbacks, val_function, val_inputs, shuffle, initial_epoch, steps_per_epoch, validation_steps, validation_freq)\u001b[0m\n\u001b[1;32m    194\u001b[0m                     \u001b[0mins_batch\u001b[0m\u001b[0;34m[\u001b[0m\u001b[0mi\u001b[0m\u001b[0;34m]\u001b[0m \u001b[0;34m=\u001b[0m \u001b[0mins_batch\u001b[0m\u001b[0;34m[\u001b[0m\u001b[0mi\u001b[0m\u001b[0;34m]\u001b[0m\u001b[0;34m.\u001b[0m\u001b[0mtoarray\u001b[0m\u001b[0;34m(\u001b[0m\u001b[0;34m)\u001b[0m\u001b[0;34m\u001b[0m\u001b[0;34m\u001b[0m\u001b[0m\n\u001b[1;32m    195\u001b[0m \u001b[0;34m\u001b[0m\u001b[0m\n\u001b[0;32m--> 196\u001b[0;31m                 \u001b[0mouts\u001b[0m \u001b[0;34m=\u001b[0m \u001b[0mfit_function\u001b[0m\u001b[0;34m(\u001b[0m\u001b[0mins_batch\u001b[0m\u001b[0;34m)\u001b[0m\u001b[0;34m\u001b[0m\u001b[0;34m\u001b[0m\u001b[0m\n\u001b[0m\u001b[1;32m    197\u001b[0m                 \u001b[0mouts\u001b[0m \u001b[0;34m=\u001b[0m \u001b[0mto_list\u001b[0m\u001b[0;34m(\u001b[0m\u001b[0mouts\u001b[0m\u001b[0;34m)\u001b[0m\u001b[0;34m\u001b[0m\u001b[0;34m\u001b[0m\u001b[0m\n\u001b[1;32m    198\u001b[0m                 \u001b[0;32mfor\u001b[0m \u001b[0ml\u001b[0m\u001b[0;34m,\u001b[0m \u001b[0mo\u001b[0m \u001b[0;32min\u001b[0m \u001b[0mzip\u001b[0m\u001b[0;34m(\u001b[0m\u001b[0mout_labels\u001b[0m\u001b[0;34m,\u001b[0m \u001b[0mouts\u001b[0m\u001b[0;34m)\u001b[0m\u001b[0;34m:\u001b[0m\u001b[0;34m\u001b[0m\u001b[0;34m\u001b[0m\u001b[0m\n",
      "\u001b[0;32m~/anaconda3/lib/python3.7/site-packages/tensorflow/python/keras/backend.py\u001b[0m in \u001b[0;36m__call__\u001b[0;34m(self, inputs)\u001b[0m\n\u001b[1;32m   3035\u001b[0m     \u001b[0minputs\u001b[0m \u001b[0;34m=\u001b[0m \u001b[0mnest\u001b[0m\u001b[0;34m.\u001b[0m\u001b[0mflatten\u001b[0m\u001b[0;34m(\u001b[0m\u001b[0minputs\u001b[0m\u001b[0;34m)\u001b[0m\u001b[0;34m\u001b[0m\u001b[0;34m\u001b[0m\u001b[0m\n\u001b[1;32m   3036\u001b[0m \u001b[0;34m\u001b[0m\u001b[0m\n\u001b[0;32m-> 3037\u001b[0;31m     \u001b[0msession\u001b[0m \u001b[0;34m=\u001b[0m \u001b[0mget_session\u001b[0m\u001b[0;34m(\u001b[0m\u001b[0;34m)\u001b[0m\u001b[0;34m\u001b[0m\u001b[0;34m\u001b[0m\u001b[0m\n\u001b[0m\u001b[1;32m   3038\u001b[0m     \u001b[0mfeed_arrays\u001b[0m \u001b[0;34m=\u001b[0m \u001b[0;34m[\u001b[0m\u001b[0;34m]\u001b[0m\u001b[0;34m\u001b[0m\u001b[0;34m\u001b[0m\u001b[0m\n\u001b[1;32m   3039\u001b[0m     \u001b[0marray_vals\u001b[0m \u001b[0;34m=\u001b[0m \u001b[0;34m[\u001b[0m\u001b[0;34m]\u001b[0m\u001b[0;34m\u001b[0m\u001b[0;34m\u001b[0m\u001b[0m\n",
      "\u001b[0;32m~/anaconda3/lib/python3.7/site-packages/tensorflow/python/keras/backend.py\u001b[0m in \u001b[0;36mget_session\u001b[0;34m()\u001b[0m\n\u001b[1;32m    480\u001b[0m   \u001b[0;32mif\u001b[0m \u001b[0;32mnot\u001b[0m \u001b[0m_MANUAL_VAR_INIT\u001b[0m\u001b[0;34m:\u001b[0m\u001b[0;34m\u001b[0m\u001b[0;34m\u001b[0m\u001b[0m\n\u001b[1;32m    481\u001b[0m     \u001b[0;32mwith\u001b[0m \u001b[0msession\u001b[0m\u001b[0;34m.\u001b[0m\u001b[0mgraph\u001b[0m\u001b[0;34m.\u001b[0m\u001b[0mas_default\u001b[0m\u001b[0;34m(\u001b[0m\u001b[0;34m)\u001b[0m\u001b[0;34m:\u001b[0m\u001b[0;34m\u001b[0m\u001b[0;34m\u001b[0m\u001b[0m\n\u001b[0;32m--> 482\u001b[0;31m       \u001b[0m_initialize_variables\u001b[0m\u001b[0;34m(\u001b[0m\u001b[0msession\u001b[0m\u001b[0;34m)\u001b[0m\u001b[0;34m\u001b[0m\u001b[0;34m\u001b[0m\u001b[0m\n\u001b[0m\u001b[1;32m    483\u001b[0m   \u001b[0;32mreturn\u001b[0m \u001b[0msession\u001b[0m\u001b[0;34m\u001b[0m\u001b[0;34m\u001b[0m\u001b[0m\n\u001b[1;32m    484\u001b[0m \u001b[0;34m\u001b[0m\u001b[0m\n",
      "\u001b[0;32m~/anaconda3/lib/python3.7/site-packages/tensorflow/python/keras/backend.py\u001b[0m in \u001b[0;36m_initialize_variables\u001b[0;34m(session)\u001b[0m\n\u001b[1;32m    750\u001b[0m   \u001b[0mcandidate_vars\u001b[0m \u001b[0;34m=\u001b[0m \u001b[0;34m[\u001b[0m\u001b[0;34m]\u001b[0m\u001b[0;34m\u001b[0m\u001b[0;34m\u001b[0m\u001b[0m\n\u001b[1;32m    751\u001b[0m   \u001b[0;32mfor\u001b[0m \u001b[0mv\u001b[0m \u001b[0;32min\u001b[0m \u001b[0mvariables\u001b[0m\u001b[0;34m:\u001b[0m\u001b[0;34m\u001b[0m\u001b[0;34m\u001b[0m\u001b[0m\n\u001b[0;32m--> 752\u001b[0;31m     \u001b[0;32mif\u001b[0m \u001b[0;32mnot\u001b[0m \u001b[0mgetattr\u001b[0m\u001b[0;34m(\u001b[0m\u001b[0mv\u001b[0m\u001b[0;34m,\u001b[0m \u001b[0;34m'_keras_initialized'\u001b[0m\u001b[0;34m,\u001b[0m \u001b[0;32mFalse\u001b[0m\u001b[0;34m)\u001b[0m\u001b[0;34m:\u001b[0m\u001b[0;34m\u001b[0m\u001b[0;34m\u001b[0m\u001b[0m\n\u001b[0m\u001b[1;32m    753\u001b[0m       \u001b[0mcandidate_vars\u001b[0m\u001b[0;34m.\u001b[0m\u001b[0mappend\u001b[0m\u001b[0;34m(\u001b[0m\u001b[0mv\u001b[0m\u001b[0;34m)\u001b[0m\u001b[0;34m\u001b[0m\u001b[0;34m\u001b[0m\u001b[0m\n\u001b[1;32m    754\u001b[0m   \u001b[0;32mif\u001b[0m \u001b[0mcandidate_vars\u001b[0m\u001b[0;34m:\u001b[0m\u001b[0;34m\u001b[0m\u001b[0;34m\u001b[0m\u001b[0m\n",
      "\u001b[0;31mKeyboardInterrupt\u001b[0m: "
     ]
    }
   ],
   "source": [
    "learning_rates = [1e-3, 5e-3, 1e-4, 5e-4, 1e-5, 1e-6]\n",
    "dropout_rates = [0.05, 0.1, 0.2]\n",
    "\n",
    "best_lr = None\n",
    "best_dr = None\n",
    "\n",
    "best_val_acc = 0\n",
    "best_model = None\n",
    "for lr in learning_rates:\n",
    "    for dr in dropout_rates:\n",
    "        print('Learning rate: {0}, Dropout rate: {1}'.format(lr, dr))\n",
    "        model = create_model(lr, dr)\n",
    "        history = model.fit(\n",
    "            X_train,\n",
    "            y_train_categorical,\n",
    "            epochs=100,\n",
    "            validation_split=0.1,\n",
    "            verbose=0)\n",
    "        val_acc = max(history.history['val_accuracy'])\n",
    "        acc = max(history.history['accuracy'])\n",
    "        print('Accuracy: {0}, Validation accuracy: {1}'.format(acc, val_acc))\n",
    "        predictions = np.argmax(model.predict(X_test), axis=1)\n",
    "        #print(np.unique(predictions))\n",
    "        # Calculate accuracy\n",
    "        accuracy = (predictions == y_test).mean()\n",
    "        print(\"Test set accuracy:\", accuracy)\n",
    "        \n",
    "        if val_acc > best_val_acc:\n",
    "            best_val_acc = val_acc\n",
    "            best_lr = lr\n",
    "            best_dr = dr\n",
    "            best_model = model\n",
    "            \n",
    "            \n",
    "\n",
    "print('Done')\n",
    "        \n",
    "        "
   ]
  },
  {
   "cell_type": "code",
   "execution_count": null,
   "metadata": {},
   "outputs": [],
   "source": [
    "best_lr"
   ]
  },
  {
   "cell_type": "code",
   "execution_count": null,
   "metadata": {},
   "outputs": [],
   "source": [
    "best_dr"
   ]
  },
  {
   "cell_type": "code",
   "execution_count": 19,
   "metadata": {},
   "outputs": [
    {
     "name": "stdout",
     "output_type": "stream",
     "text": [
      "Train on 13587 samples, validate on 1510 samples\n",
      "Epoch 1/100\n",
      "13587/13587 [==============================] - 1s 72us/step - loss: 1.9271 - accuracy: 0.3306 - val_loss: 1.7684 - val_accuracy: 0.3199\n",
      "Epoch 2/100\n",
      "13587/13587 [==============================] - 1s 40us/step - loss: 1.7938 - accuracy: 0.3327 - val_loss: 1.6460 - val_accuracy: 0.3245\n",
      "Epoch 3/100\n",
      "13587/13587 [==============================] - 1s 37us/step - loss: 1.6983 - accuracy: 0.3316 - val_loss: 1.5608 - val_accuracy: 0.3258\n",
      "Epoch 4/100\n",
      "13587/13587 [==============================] - 1s 47us/step - loss: 1.6278 - accuracy: 0.3310 - val_loss: 1.5008 - val_accuracy: 0.3245\n",
      "Epoch 5/100\n",
      "13587/13587 [==============================] - 0s 36us/step - loss: 1.5873 - accuracy: 0.3288 - val_loss: 1.4600 - val_accuracy: 0.3252\n",
      "Epoch 6/100\n",
      "13587/13587 [==============================] - 1s 39us/step - loss: 1.5524 - accuracy: 0.3347 - val_loss: 1.4314 - val_accuracy: 0.3344\n",
      "Epoch 7/100\n",
      "13587/13587 [==============================] - 1s 37us/step - loss: 1.5269 - accuracy: 0.3311 - val_loss: 1.4095 - val_accuracy: 0.3331\n",
      "Epoch 8/100\n",
      "13587/13587 [==============================] - 0s 35us/step - loss: 1.5081 - accuracy: 0.3351 - val_loss: 1.3936 - val_accuracy: 0.3318\n",
      "Epoch 9/100\n",
      "13587/13587 [==============================] - 0s 35us/step - loss: 1.4962 - accuracy: 0.3358 - val_loss: 1.3788 - val_accuracy: 0.3278\n",
      "Epoch 10/100\n",
      "13587/13587 [==============================] - 0s 36us/step - loss: 1.4864 - accuracy: 0.3313 - val_loss: 1.3641 - val_accuracy: 0.3318\n",
      "Epoch 11/100\n",
      "13587/13587 [==============================] - 0s 33us/step - loss: 1.4639 - accuracy: 0.3345 - val_loss: 1.3508 - val_accuracy: 0.3384\n",
      "Epoch 12/100\n",
      "13587/13587 [==============================] - 0s 34us/step - loss: 1.4564 - accuracy: 0.3356 - val_loss: 1.3393 - val_accuracy: 0.3411\n",
      "Epoch 13/100\n",
      "13587/13587 [==============================] - 0s 34us/step - loss: 1.4451 - accuracy: 0.3333 - val_loss: 1.3281 - val_accuracy: 0.3417\n",
      "Epoch 14/100\n",
      "13587/13587 [==============================] - 0s 34us/step - loss: 1.4324 - accuracy: 0.3323 - val_loss: 1.3172 - val_accuracy: 0.3411\n",
      "Epoch 15/100\n",
      "13587/13587 [==============================] - 0s 36us/step - loss: 1.4205 - accuracy: 0.3353 - val_loss: 1.3071 - val_accuracy: 0.3424\n",
      "Epoch 16/100\n",
      "13587/13587 [==============================] - 0s 34us/step - loss: 1.4047 - accuracy: 0.3393 - val_loss: 1.2974 - val_accuracy: 0.3411\n",
      "Epoch 17/100\n",
      "13587/13587 [==============================] - 0s 34us/step - loss: 1.3945 - accuracy: 0.3407 - val_loss: 1.2884 - val_accuracy: 0.3384\n",
      "Epoch 18/100\n",
      "13587/13587 [==============================] - 0s 34us/step - loss: 1.3893 - accuracy: 0.3375 - val_loss: 1.2793 - val_accuracy: 0.3377\n",
      "Epoch 19/100\n",
      "13587/13587 [==============================] - 0s 34us/step - loss: 1.3740 - accuracy: 0.3384 - val_loss: 1.2706 - val_accuracy: 0.3424\n",
      "Epoch 20/100\n",
      "13587/13587 [==============================] - 0s 34us/step - loss: 1.3742 - accuracy: 0.3313 - val_loss: 1.2622 - val_accuracy: 0.3424\n",
      "Epoch 21/100\n",
      "13587/13587 [==============================] - 1s 40us/step - loss: 1.3577 - accuracy: 0.3400 - val_loss: 1.2547 - val_accuracy: 0.3404\n",
      "Epoch 22/100\n",
      "13587/13587 [==============================] - 1s 48us/step - loss: 1.3469 - accuracy: 0.3371 - val_loss: 1.2470 - val_accuracy: 0.3430\n",
      "Epoch 23/100\n",
      "13587/13587 [==============================] - 1s 52us/step - loss: 1.3435 - accuracy: 0.3392 - val_loss: 1.2397 - val_accuracy: 0.3411\n",
      "Epoch 24/100\n",
      "13587/13587 [==============================] - 1s 46us/step - loss: 1.3392 - accuracy: 0.3284 - val_loss: 1.2338 - val_accuracy: 0.3430\n",
      "Epoch 25/100\n",
      "13587/13587 [==============================] - 1s 45us/step - loss: 1.3338 - accuracy: 0.3299 - val_loss: 1.2268 - val_accuracy: 0.3437\n",
      "Epoch 26/100\n",
      "13587/13587 [==============================] - 1s 54us/step - loss: 1.3171 - accuracy: 0.3378 - val_loss: 1.2213 - val_accuracy: 0.3430\n",
      "Epoch 27/100\n",
      "13587/13587 [==============================] - 1s 47us/step - loss: 1.3194 - accuracy: 0.3377 - val_loss: 1.2153 - val_accuracy: 0.3437\n",
      "Epoch 28/100\n",
      "13587/13587 [==============================] - 1s 39us/step - loss: 1.3137 - accuracy: 0.3269 - val_loss: 1.2090 - val_accuracy: 0.3589\n",
      "Epoch 29/100\n",
      "13587/13587 [==============================] - 1s 49us/step - loss: 1.3018 - accuracy: 0.3333 - val_loss: 1.2036 - val_accuracy: 0.3603\n",
      "Epoch 30/100\n",
      "13587/13587 [==============================] - 1s 62us/step - loss: 1.2944 - accuracy: 0.3413 - val_loss: 1.1988 - val_accuracy: 0.3550\n",
      "Epoch 31/100\n",
      "13587/13587 [==============================] - 1s 70us/step - loss: 1.2882 - accuracy: 0.3430 - val_loss: 1.1942 - val_accuracy: 0.3483\n",
      "Epoch 32/100\n",
      "13587/13587 [==============================] - 1s 69us/step - loss: 1.2849 - accuracy: 0.3394 - val_loss: 1.1892 - val_accuracy: 0.3556\n",
      "Epoch 33/100\n",
      "13587/13587 [==============================] - 1s 39us/step - loss: 1.2823 - accuracy: 0.3362 - val_loss: 1.1856 - val_accuracy: 0.3570\n",
      "Epoch 34/100\n",
      "13587/13587 [==============================] - 0s 34us/step - loss: 1.2768 - accuracy: 0.3399 - val_loss: 1.1821 - val_accuracy: 0.3583\n",
      "Epoch 35/100\n",
      "13587/13587 [==============================] - 0s 37us/step - loss: 1.2698 - accuracy: 0.3358 - val_loss: 1.1791 - val_accuracy: 0.3437\n",
      "Epoch 36/100\n",
      "13587/13587 [==============================] - 1s 43us/step - loss: 1.2781 - accuracy: 0.3312 - val_loss: 1.1754 - val_accuracy: 0.3470\n",
      "Epoch 37/100\n",
      "13587/13587 [==============================] - 1s 41us/step - loss: 1.2657 - accuracy: 0.3372 - val_loss: 1.1725 - val_accuracy: 0.3444\n",
      "Epoch 38/100\n",
      "13587/13587 [==============================] - 1s 50us/step - loss: 1.2665 - accuracy: 0.3340 - val_loss: 1.1688 - val_accuracy: 0.3457\n",
      "Epoch 39/100\n",
      "13587/13587 [==============================] - 1s 46us/step - loss: 1.2613 - accuracy: 0.3386 - val_loss: 1.1662 - val_accuracy: 0.3503\n",
      "Epoch 40/100\n",
      "13587/13587 [==============================] - 0s 33us/step - loss: 1.2552 - accuracy: 0.3394 - val_loss: 1.1688 - val_accuracy: 0.3503\n",
      "Epoch 41/100\n",
      "13587/13587 [==============================] - 0s 33us/step - loss: 1.2525 - accuracy: 0.3384 - val_loss: 1.1628 - val_accuracy: 0.3483\n",
      "Epoch 42/100\n",
      "13587/13587 [==============================] - 1s 47us/step - loss: 1.2574 - accuracy: 0.3358 - val_loss: 1.1604 - val_accuracy: 0.3570\n",
      "Epoch 43/100\n",
      "13587/13587 [==============================] - 0s 36us/step - loss: 1.2421 - accuracy: 0.3431 - val_loss: 1.1591 - val_accuracy: 0.3550\n",
      "Epoch 44/100\n",
      "13587/13587 [==============================] - 1s 43us/step - loss: 1.2501 - accuracy: 0.3338 - val_loss: 1.1557 - val_accuracy: 0.3503\n",
      "Epoch 45/100\n",
      "13587/13587 [==============================] - 1s 38us/step - loss: 1.2461 - accuracy: 0.3334 - val_loss: 1.1542 - val_accuracy: 0.3523\n",
      "Epoch 46/100\n",
      "13587/13587 [==============================] - 0s 29us/step - loss: 1.2429 - accuracy: 0.3380 - val_loss: 1.1537 - val_accuracy: 0.3543\n",
      "Epoch 47/100\n",
      "13587/13587 [==============================] - 0s 26us/step - loss: 1.2304 - accuracy: 0.3429 - val_loss: 1.1518 - val_accuracy: 0.3444\n",
      "Epoch 48/100\n",
      "13587/13587 [==============================] - 0s 27us/step - loss: 1.2295 - accuracy: 0.3403 - val_loss: 1.1507 - val_accuracy: 0.3530\n",
      "Epoch 49/100\n",
      "13587/13587 [==============================] - 1s 51us/step - loss: 1.2347 - accuracy: 0.3351 - val_loss: 1.1496 - val_accuracy: 0.3523\n",
      "Epoch 50/100\n",
      "13587/13587 [==============================] - 1s 49us/step - loss: 1.2313 - accuracy: 0.3389 - val_loss: 1.1488 - val_accuracy: 0.3477\n",
      "Epoch 51/100\n",
      "13587/13587 [==============================] - 1s 49us/step - loss: 1.2270 - accuracy: 0.3421 - val_loss: 1.1473 - val_accuracy: 0.3576\n",
      "Epoch 52/100\n",
      "13587/13587 [==============================] - 0s 32us/step - loss: 1.2270 - accuracy: 0.3385 - val_loss: 1.1461 - val_accuracy: 0.3391\n",
      "Epoch 53/100\n",
      "13587/13587 [==============================] - 0s 29us/step - loss: 1.2206 - accuracy: 0.3437 - val_loss: 1.1446 - val_accuracy: 0.3497\n",
      "Epoch 54/100\n",
      "13587/13587 [==============================] - 1s 40us/step - loss: 1.2225 - accuracy: 0.3384 - val_loss: 1.1426 - val_accuracy: 0.3430\n",
      "Epoch 55/100\n",
      "13587/13587 [==============================] - 0s 34us/step - loss: 1.2240 - accuracy: 0.3372 - val_loss: 1.1421 - val_accuracy: 0.3477\n"
     ]
    },
    {
     "name": "stdout",
     "output_type": "stream",
     "text": [
      "Epoch 56/100\n",
      "13587/13587 [==============================] - 1s 43us/step - loss: 1.2189 - accuracy: 0.3383 - val_loss: 1.1413 - val_accuracy: 0.3470\n",
      "Epoch 57/100\n",
      "13587/13587 [==============================] - 0s 37us/step - loss: 1.2169 - accuracy: 0.3441 - val_loss: 1.1414 - val_accuracy: 0.3417\n",
      "Epoch 58/100\n",
      "13587/13587 [==============================] - 1s 49us/step - loss: 1.2116 - accuracy: 0.3402 - val_loss: 1.1402 - val_accuracy: 0.3364\n",
      "Epoch 59/100\n",
      "13587/13587 [==============================] - 1s 51us/step - loss: 1.2211 - accuracy: 0.3361 - val_loss: 1.1403 - val_accuracy: 0.3311\n",
      "Epoch 60/100\n",
      "13587/13587 [==============================] - 1s 38us/step - loss: 1.2181 - accuracy: 0.3335 - val_loss: 1.1396 - val_accuracy: 0.3450\n",
      "Epoch 61/100\n",
      "13587/13587 [==============================] - 0s 33us/step - loss: 1.2055 - accuracy: 0.3481 - val_loss: 1.1386 - val_accuracy: 0.3430\n",
      "Epoch 62/100\n",
      "13587/13587 [==============================] - 0s 35us/step - loss: 1.2146 - accuracy: 0.3403 - val_loss: 1.1401 - val_accuracy: 0.3503\n",
      "Epoch 63/100\n",
      "13587/13587 [==============================] - 0s 34us/step - loss: 1.2055 - accuracy: 0.3451 - val_loss: 1.1383 - val_accuracy: 0.3497\n",
      "Epoch 64/100\n",
      "13587/13587 [==============================] - 0s 34us/step - loss: 1.2040 - accuracy: 0.3448 - val_loss: 1.1373 - val_accuracy: 0.3384\n",
      "Epoch 65/100\n",
      "13587/13587 [==============================] - 1s 49us/step - loss: 1.2069 - accuracy: 0.3505 - val_loss: 1.1347 - val_accuracy: 0.3497\n",
      "Epoch 66/100\n",
      "13587/13587 [==============================] - 0s 36us/step - loss: 1.2020 - accuracy: 0.3491 - val_loss: 1.1353 - val_accuracy: 0.3623\n",
      "Epoch 67/100\n",
      "13587/13587 [==============================] - 1s 37us/step - loss: 1.2066 - accuracy: 0.3375 - val_loss: 1.1341 - val_accuracy: 0.3603\n",
      "Epoch 68/100\n",
      "13587/13587 [==============================] - 1s 43us/step - loss: 1.2084 - accuracy: 0.3393 - val_loss: 1.1326 - val_accuracy: 0.3563\n",
      "Epoch 69/100\n",
      "13587/13587 [==============================] - 1s 51us/step - loss: 1.2070 - accuracy: 0.3460 - val_loss: 1.1316 - val_accuracy: 0.3536\n",
      "Epoch 70/100\n",
      "13587/13587 [==============================] - 1s 39us/step - loss: 1.1959 - accuracy: 0.3421 - val_loss: 1.1304 - val_accuracy: 0.3722\n",
      "Epoch 71/100\n",
      "13587/13587 [==============================] - 0s 36us/step - loss: 1.1970 - accuracy: 0.3533 - val_loss: 1.1286 - val_accuracy: 0.3768\n",
      "Epoch 72/100\n",
      "13587/13587 [==============================] - 1s 37us/step - loss: 1.1908 - accuracy: 0.3586 - val_loss: 1.1296 - val_accuracy: 0.3675\n",
      "Epoch 73/100\n",
      "13587/13587 [==============================] - 1s 46us/step - loss: 1.1989 - accuracy: 0.3503 - val_loss: 1.1287 - val_accuracy: 0.3589\n",
      "Epoch 74/100\n",
      "13587/13587 [==============================] - 0s 37us/step - loss: 1.1945 - accuracy: 0.3470 - val_loss: 1.1256 - val_accuracy: 0.3795\n",
      "Epoch 75/100\n",
      "13587/13587 [==============================] - 1s 37us/step - loss: 1.1908 - accuracy: 0.3539 - val_loss: 1.1274 - val_accuracy: 0.3543\n",
      "Epoch 76/100\n",
      "13587/13587 [==============================] - 1s 37us/step - loss: 1.1842 - accuracy: 0.3559 - val_loss: 1.1273 - val_accuracy: 0.3675\n",
      "Epoch 77/100\n",
      "13587/13587 [==============================] - 1s 38us/step - loss: 1.1858 - accuracy: 0.3583 - val_loss: 1.1296 - val_accuracy: 0.3510\n",
      "Epoch 78/100\n",
      "13587/13587 [==============================] - 0s 37us/step - loss: 1.1904 - accuracy: 0.3506 - val_loss: 1.1283 - val_accuracy: 0.3517\n",
      "Epoch 79/100\n",
      "13587/13587 [==============================] - 0s 35us/step - loss: 1.1889 - accuracy: 0.3515 - val_loss: 1.1195 - val_accuracy: 0.3861\n",
      "Epoch 80/100\n",
      "13587/13587 [==============================] - 0s 35us/step - loss: 1.1801 - accuracy: 0.3626 - val_loss: 1.1200 - val_accuracy: 0.3921\n",
      "Epoch 81/100\n",
      "13587/13587 [==============================] - 0s 37us/step - loss: 1.1725 - accuracy: 0.3648 - val_loss: 1.1278 - val_accuracy: 0.3775\n",
      "Epoch 82/100\n",
      "13587/13587 [==============================] - 0s 37us/step - loss: 1.1755 - accuracy: 0.3631 - val_loss: 1.1186 - val_accuracy: 0.3788\n",
      "Epoch 83/100\n",
      "13587/13587 [==============================] - 1s 37us/step - loss: 1.1733 - accuracy: 0.3598 - val_loss: 1.1166 - val_accuracy: 0.3934\n",
      "Epoch 84/100\n",
      "13587/13587 [==============================] - 1s 41us/step - loss: 1.1713 - accuracy: 0.3615 - val_loss: 1.1170 - val_accuracy: 0.3987\n",
      "Epoch 85/100\n",
      "13587/13587 [==============================] - 1s 37us/step - loss: 1.1668 - accuracy: 0.3695 - val_loss: 1.1151 - val_accuracy: 0.3881\n",
      "Epoch 86/100\n",
      "13587/13587 [==============================] - 1s 37us/step - loss: 1.1713 - accuracy: 0.3678 - val_loss: 1.1149 - val_accuracy: 0.3801\n",
      "Epoch 87/100\n",
      "13587/13587 [==============================] - 1s 38us/step - loss: 1.1734 - accuracy: 0.3662 - val_loss: 1.1191 - val_accuracy: 0.3815\n",
      "Epoch 88/100\n",
      "13587/13587 [==============================] - 1s 37us/step - loss: 1.1597 - accuracy: 0.3768 - val_loss: 1.1191 - val_accuracy: 0.3748\n",
      "Epoch 89/100\n",
      "13587/13587 [==============================] - 1s 39us/step - loss: 1.1663 - accuracy: 0.3694 - val_loss: 1.1113 - val_accuracy: 0.3940\n",
      "Epoch 90/100\n",
      "13587/13587 [==============================] - 1s 38us/step - loss: 1.1684 - accuracy: 0.3665 - val_loss: 1.1076 - val_accuracy: 0.4192\n",
      "Epoch 91/100\n",
      "13587/13587 [==============================] - 1s 38us/step - loss: 1.1598 - accuracy: 0.3732 - val_loss: 1.1158 - val_accuracy: 0.3834\n",
      "Epoch 92/100\n",
      "13587/13587 [==============================] - 1s 39us/step - loss: 1.1623 - accuracy: 0.3742 - val_loss: 1.1088 - val_accuracy: 0.3987\n",
      "Epoch 93/100\n",
      "13587/13587 [==============================] - 0s 36us/step - loss: 1.1599 - accuracy: 0.3779 - val_loss: 1.1119 - val_accuracy: 0.3934\n",
      "Epoch 94/100\n",
      "13587/13587 [==============================] - 0s 36us/step - loss: 1.1603 - accuracy: 0.3757 - val_loss: 1.1170 - val_accuracy: 0.3854\n",
      "Epoch 95/100\n",
      "13587/13587 [==============================] - 1s 37us/step - loss: 1.1528 - accuracy: 0.3818 - val_loss: 1.1067 - val_accuracy: 0.4086\n",
      "Epoch 96/100\n",
      "13587/13587 [==============================] - 0s 35us/step - loss: 1.1541 - accuracy: 0.3770 - val_loss: 1.1053 - val_accuracy: 0.4119\n",
      "Epoch 97/100\n",
      "13587/13587 [==============================] - 1s 38us/step - loss: 1.1521 - accuracy: 0.3816 - val_loss: 1.1085 - val_accuracy: 0.3974\n",
      "Epoch 98/100\n",
      "13587/13587 [==============================] - 1s 37us/step - loss: 1.1513 - accuracy: 0.3777 - val_loss: 1.0978 - val_accuracy: 0.4325\n",
      "Epoch 99/100\n",
      "13587/13587 [==============================] - 1s 43us/step - loss: 1.1470 - accuracy: 0.3849 - val_loss: 1.1009 - val_accuracy: 0.4325\n",
      "Epoch 100/100\n",
      "13587/13587 [==============================] - 1s 38us/step - loss: 1.1494 - accuracy: 0.3810 - val_loss: 1.0996 - val_accuracy: 0.4344\n",
      "Accuracy: 0.38492676615715027, Validation accuracy: 0.434437096118927\n"
     ]
    }
   ],
   "source": [
    "model = create_model(1e-05, 0.2)\n",
    "history = model.fit(\n",
    "            X_train,\n",
    "            y_train_categorical,\n",
    "            epochs=100,\n",
    "            validation_split=0.1,\n",
    "            verbose=1)\n",
    "val_acc = max(history.history['val_accuracy'])\n",
    "acc = max(history.history['accuracy'])\n",
    "print('Accuracy: {0}, Validation accuracy: {1}'.format(acc, val_acc))"
   ]
  },
  {
   "cell_type": "code",
   "execution_count": 20,
   "metadata": {},
   "outputs": [
    {
     "data": {
      "image/png": "[encoded data removed]",
      "text/plain": [
       "<Figure size 432x288 with 1 Axes>"
      ]
     },
     "metadata": {
      "needs_background": "light"
     },
     "output_type": "display_data"
    }
   ],
   "source": [
    "import matplotlib.pyplot as plt\n",
    "\n",
    "plt.plot(history.history['loss'], label='train')\n",
    "plt.plot(history.history['val_loss'], label='validation')\n",
    "plt.legend()\n",
    "plt.show()"
   ]
  },
  {
   "cell_type": "code",
   "execution_count": 21,
   "metadata": {},
   "outputs": [
    {
     "data": {
      "image/png": "[encoded data removed]",
      "text/plain": [
       "<Figure size 432x288 with 1 Axes>"
      ]
     },
     "metadata": {
      "needs_background": "light"
     },
     "output_type": "display_data"
    }
   ],
   "source": [
    "plt.plot(history.history['accuracy'], label='accuracy')\n",
    "plt.plot(history.history['val_accuracy'], label='validation accuracy')\n",
    "plt.legend()\n",
    "plt.show()"
   ]
  },
  {
   "cell_type": "code",
   "execution_count": null,
   "metadata": {},
   "outputs": [],
   "source": [
    "# Take the most probable prediction\n",
    "# print(model.predict(X_test))\n",
    "predictions = np.argmax(model.predict(X_test), axis=1)\n",
    "print(np.unique(predictions))\n",
    "# Calculate accuracy\n",
    "accuracy = (predictions == y_test).mean()\n",
    "print(\"Test set accuracy:\", accuracy)"
   ]
  },
  {
   "cell_type": "markdown",
   "metadata": {},
   "source": [
    "# Let us plot the confusion matrix"
   ]
  },
  {
   "cell_type": "code",
   "execution_count": 39,
   "metadata": {},
   "outputs": [
    {
     "name": "stdout",
     "output_type": "stream",
     "text": [
      "3164\n",
      "[0 1 2]\n",
      "Neural network confusion matrix: \n",
      "                    Home wins (pred)  Draw (pred)  Home loses (pred)\n",
      "Home wins (true)                798         1292                147\n",
      "Draw (true)                     174          913                143\n",
      "Home loses (true)               108          959                338\n",
      "\n",
      " True labels distribution: \n",
      "\n"
     ]
    },
    {
     "data": {
      "image/png": "[encoded data removed]",
      "text/plain": [
       "<Figure size 432x288 with 1 Axes>"
      ]
     },
     "metadata": {
      "needs_background": "light"
     },
     "output_type": "display_data"
    }
   ],
   "source": [
    "# from utils.data_processing import build_confusion_matrix\n",
    "\n",
    "# TODO: Remove this and use the commented import instead\n",
    "def build_confusion_matrix(y_true, y_pred):\n",
    "    return pd.DataFrame(confusion_matrix(y_true, y_pred, labels=[2, 1, 0]),\n",
    "                        index=['Home wins (true)', 'Draw (true)', 'Home loses (true)'],\n",
    "                        columns=['Home wins (pred)', 'Draw (pred)', 'Home loses (pred)'])\n",
    "\n",
    "print(np.sum((predictions == 1)))\n",
    "print(np.unique(predictions))\n",
    "print(\"Neural network confusion matrix: \\n\", build_confusion_matrix(y_test, predictions))\n",
    "\n",
    "\n",
    "print('\\n True labels distribution: \\n')\n",
    "plot_labels_histogram(y_test)"
   ]
  },
  {
   "cell_type": "markdown",
   "metadata": {},
   "source": [
    "# Comparing Neural network to Random forest"
   ]
  },
  {
   "cell_type": "code",
   "execution_count": 11,
   "metadata": {},
   "outputs": [],
   "source": [
    "#Splitting the data into Train, Calibrate, and Test data sets\n",
    "#X_train_calibrate, X_test, y_train_calibrate, y_test = train_test_split(features, labels, test_size = 0.25, random_state = 0, stratify = labels)\n",
    "X_train_calibrate = X_train\n",
    "y_train_calibrate = y_train\n",
    "X_train, X_calibrate, y_train, y_calibrate = train_test_split(X_train_calibrate, y_train_calibrate, test_size = 0.25, random_state = 0, stratify = y_train_calibrate)\n"
   ]
  },
  {
   "cell_type": "code",
   "execution_count": 12,
   "metadata": {},
   "outputs": [
    {
     "name": "stdout",
     "output_type": "stream",
     "text": [
      "Random forest accuracy for train set.\n",
      "Random forest accuracy for test set\n",
      "Training a RandomForestClassifier with PCA...\n",
      "Trained RandomForestClassifier in 6.7 minutes\n",
      "Calibrating probabilities of classifier...\n",
      "Calibrated CalibratedClassifierCV in 0.0 minutes\n",
      "Made predictions in 0.5123 seconds\n"
     ]
    },
    {
     "ename": "AttributeError",
     "evalue": "'numpy.ndarray' object has no attribute 'values'",
     "output_type": "error",
     "traceback": [
      "\u001b[0;31m---------------------------------------------------------------------------\u001b[0m",
      "\u001b[0;31mAttributeError\u001b[0m                            Traceback (most recent call last)",
      "\u001b[0;32m<ipython-input-12-864ef604a5ba>\u001b[0m in \u001b[0;36m<module>\u001b[0;34m\u001b[0m\n\u001b[1;32m     24\u001b[0m                                                                   \u001b[0mX_calibrate\u001b[0m \u001b[0;34m=\u001b[0m \u001b[0mX_calibrate\u001b[0m\u001b[0;34m,\u001b[0m \u001b[0my_calibrate\u001b[0m \u001b[0;34m=\u001b[0m \u001b[0my_calibrate\u001b[0m\u001b[0;34m,\u001b[0m\u001b[0;34m\u001b[0m\u001b[0;34m\u001b[0m\u001b[0m\n\u001b[1;32m     25\u001b[0m                                                                   \u001b[0mX_test\u001b[0m \u001b[0;34m=\u001b[0m \u001b[0mX_test\u001b[0m\u001b[0;34m,\u001b[0m \u001b[0my_test\u001b[0m \u001b[0;34m=\u001b[0m \u001b[0my_test\u001b[0m\u001b[0;34m,\u001b[0m \u001b[0mcv_sets\u001b[0m \u001b[0;34m=\u001b[0m \u001b[0mcv_sets\u001b[0m\u001b[0;34m,\u001b[0m\u001b[0;34m\u001b[0m\u001b[0;34m\u001b[0m\u001b[0m\n\u001b[0;32m---> 26\u001b[0;31m                                                                   params = parameters_RF, scorer = scorer, jobs = 1, use_grid_search = True)\n\u001b[0m",
      "\u001b[0;32m~/Kool/kaggle-football-prediction/modules/utils/data_processing.py\u001b[0m in \u001b[0;36mtrain_calibrate_predict\u001b[0;34m(clf, dm_reduction, X_train, y_train, X_calibrate, y_calibrate, X_test, y_test, cv_sets, params, scorer, jobs, use_grid_search, **kwargs)\u001b[0m\n\u001b[1;32m    264\u001b[0m \u001b[0;34m\u001b[0m\u001b[0m\n\u001b[1;32m    265\u001b[0m     \u001b[0;31m# Print the results of prediction for both training and testing\u001b[0m\u001b[0;34m\u001b[0m\u001b[0;34m\u001b[0m\u001b[0;34m\u001b[0m\u001b[0m\n\u001b[0;32m--> 266\u001b[0;31m     \u001b[0mprint\u001b[0m\u001b[0;34m(\u001b[0m\u001b[0;34m\"Score of {} for training set: {:.4f}.\"\u001b[0m\u001b[0;34m.\u001b[0m\u001b[0mformat\u001b[0m\u001b[0;34m(\u001b[0m\u001b[0mclf\u001b[0m\u001b[0;34m.\u001b[0m\u001b[0m__class__\u001b[0m\u001b[0;34m.\u001b[0m\u001b[0m__name__\u001b[0m\u001b[0;34m,\u001b[0m \u001b[0mpredict_labels\u001b[0m\u001b[0;34m(\u001b[0m\u001b[0mclf\u001b[0m\u001b[0;34m,\u001b[0m \u001b[0mbest_pipe\u001b[0m\u001b[0;34m,\u001b[0m \u001b[0mX_train\u001b[0m\u001b[0;34m,\u001b[0m \u001b[0my_train\u001b[0m\u001b[0;34m)\u001b[0m\u001b[0;34m)\u001b[0m\u001b[0;34m)\u001b[0m\u001b[0;34m\u001b[0m\u001b[0;34m\u001b[0m\u001b[0m\n\u001b[0m\u001b[1;32m    267\u001b[0m     \u001b[0mprint\u001b[0m\u001b[0;34m(\u001b[0m\u001b[0;34m\"Score of {} for test set: {:.4f}.\"\u001b[0m\u001b[0;34m.\u001b[0m\u001b[0mformat\u001b[0m\u001b[0;34m(\u001b[0m\u001b[0mclf\u001b[0m\u001b[0;34m.\u001b[0m\u001b[0m__class__\u001b[0m\u001b[0;34m.\u001b[0m\u001b[0m__name__\u001b[0m\u001b[0;34m,\u001b[0m \u001b[0mpredict_labels\u001b[0m\u001b[0;34m(\u001b[0m\u001b[0mclf\u001b[0m\u001b[0;34m,\u001b[0m \u001b[0mbest_pipe\u001b[0m\u001b[0;34m,\u001b[0m \u001b[0mX_test\u001b[0m\u001b[0;34m,\u001b[0m \u001b[0my_test\u001b[0m\u001b[0;34m)\u001b[0m\u001b[0;34m)\u001b[0m\u001b[0;34m)\u001b[0m\u001b[0;34m\u001b[0m\u001b[0;34m\u001b[0m\u001b[0m\n\u001b[1;32m    268\u001b[0m \u001b[0;34m\u001b[0m\u001b[0m\n",
      "\u001b[0;32m~/Kool/kaggle-football-prediction/modules/utils/data_processing.py\u001b[0m in \u001b[0;36mpredict_labels\u001b[0;34m(clf, best_pipe, features, target)\u001b[0m\n\u001b[1;32m    243\u001b[0m     \u001b[0;31m#Print and return results\u001b[0m\u001b[0;34m\u001b[0m\u001b[0;34m\u001b[0m\u001b[0;34m\u001b[0m\u001b[0m\n\u001b[1;32m    244\u001b[0m     \u001b[0mprint\u001b[0m\u001b[0;34m(\u001b[0m\u001b[0;34m\"Made predictions in {:.4f} seconds\"\u001b[0m\u001b[0;34m.\u001b[0m\u001b[0mformat\u001b[0m\u001b[0;34m(\u001b[0m\u001b[0mend\u001b[0m \u001b[0;34m-\u001b[0m \u001b[0mstart\u001b[0m\u001b[0;34m)\u001b[0m\u001b[0;34m)\u001b[0m\u001b[0;34m\u001b[0m\u001b[0;34m\u001b[0m\u001b[0m\n\u001b[0;32m--> 245\u001b[0;31m     \u001b[0;32mreturn\u001b[0m \u001b[0maccuracy_score\u001b[0m\u001b[0;34m(\u001b[0m\u001b[0mtarget\u001b[0m\u001b[0;34m.\u001b[0m\u001b[0mvalues\u001b[0m\u001b[0;34m,\u001b[0m \u001b[0my_pred\u001b[0m\u001b[0;34m)\u001b[0m\u001b[0;34m\u001b[0m\u001b[0;34m\u001b[0m\u001b[0m\n\u001b[0m\u001b[1;32m    246\u001b[0m \u001b[0;34m\u001b[0m\u001b[0m\n\u001b[1;32m    247\u001b[0m def train_calibrate_predict(clf, dm_reduction, X_train, y_train, X_calibrate, y_calibrate, X_test, y_test, cv_sets, params, scorer, jobs,\n",
      "\u001b[0;31mAttributeError\u001b[0m: 'numpy.ndarray' object has no attribute 'values'"
     ]
    }
   ],
   "source": [
    "from utils.data_processing import train_calibrate_predict\n",
    "\n",
    "# Creating cross validation data splits\n",
    "cv_sets = model_selection.StratifiedShuffleSplit(n_splits = 5, test_size = 0.20, random_state = 5)\n",
    "cv_sets.get_n_splits(X_train, y_train)\n",
    "\n",
    "# Init Random Forest\n",
    "RF_clf = RandomForestClassifier(n_estimators = 200, random_state = 1, class_weight = 'balanced')\n",
    "\n",
    "#Specficying scorer and parameters for grid search\n",
    "feature_len = X_train.shape[1]\n",
    "scorer = make_scorer(accuracy_score)\n",
    "parameters_RF = {'clf__max_features': ['auto', 'log2'], 'dm_reduce__n_components': np.arange(5, feature_len, int(np.around(feature_len/5)))}\n",
    "\n",
    "#Initializing dimensionality reductions\n",
    "pca = PCA()\n",
    "RF_clf.fit(X_train, y_train)\n",
    "\n",
    "print(\"Random forest accuracy for train set.\".format(RF_clf.__class__.__name__, accuracy_score(y_train, RF_clf.predict(X_train))))\n",
    "print(\"Random forest accuracy for test set\".format(RF_clf.__class__.__name__, accuracy_score(y_test, RF_clf.predict(X_test))))\n",
    "\n",
    "#Grid search, calibrate, and test the classifier\n",
    "calibrated_RF_clf, dm_reduce, train_score, test_score = train_calibrate_predict(clf = RF_clf, dm_reduction = pca, X_train = X_train, y_train = y_train,\n",
    "                                                                  X_calibrate = X_calibrate, y_calibrate = y_calibrate,\n",
    "                                                                  X_test = X_test, y_test = y_test, cv_sets = cv_sets,\n",
    "                                                                  params = parameters_RF, scorer = scorer, jobs = 1, use_grid_search = True)"
   ]
  },
  {
   "cell_type": "code",
   "execution_count": 13,
   "metadata": {},
   "outputs": [
    {
     "name": "stdout",
     "output_type": "stream",
     "text": [
      "Random forest test set accuracy: 0.5753284072249589\n"
     ]
    }
   ],
   "source": [
    "rf_predictions = RF_clf.predict(X_test)\n",
    "\n",
    "# Calculate accuracy\n",
    "accuracy = (rf_predictions == y_test).mean()\n",
    "print(\"Random forest test set accuracy:\", accuracy)"
   ]
  },
  {
   "cell_type": "code",
   "execution_count": 14,
   "metadata": {},
   "outputs": [
    {
     "ename": "NameError",
     "evalue": "name 'build_confusion_matrix' is not defined",
     "output_type": "error",
     "traceback": [
      "\u001b[0;31m---------------------------------------------------------------------------\u001b[0m",
      "\u001b[0;31mNameError\u001b[0m                                 Traceback (most recent call last)",
      "\u001b[0;32m<ipython-input-14-3bdb2f6a4dde>\u001b[0m in \u001b[0;36m<module>\u001b[0;34m\u001b[0m\n\u001b[0;32m----> 1\u001b[0;31m \u001b[0mprint\u001b[0m\u001b[0;34m(\u001b[0m\u001b[0;34m\"Random forest confusion matrix: \\n\"\u001b[0m\u001b[0;34m,\u001b[0m \u001b[0mbuild_confusion_matrix\u001b[0m\u001b[0;34m(\u001b[0m\u001b[0my_test\u001b[0m\u001b[0;34m,\u001b[0m \u001b[0mrf_predictions\u001b[0m\u001b[0;34m)\u001b[0m\u001b[0;34m)\u001b[0m\u001b[0;34m\u001b[0m\u001b[0;34m\u001b[0m\u001b[0m\n\u001b[0m",
      "\u001b[0;31mNameError\u001b[0m: name 'build_confusion_matrix' is not defined"
     ]
    }
   ],
   "source": [
    "print(\"Random forest confusion matrix: \\n\", build_confusion_matrix(y_test, rf_predictions))"
   ]
  },
  {
   "cell_type": "markdown",
   "metadata": {},
   "source": [
    "# Conclusion"
   ]
  },
  {
   "cell_type": "markdown",
   "metadata": {},
   "source": [
    "Random Forest Classifier is more effective in predicting football games"
   ]
  },
  {
   "cell_type": "code",
   "execution_count": 22,
   "metadata": {},
   "outputs": [],
   "source": [
    "model.save('neural_network.h5')"
   ]
  },
  {
   "cell_type": "code",
   "execution_count": 15,
   "metadata": {},
   "outputs": [
    {
     "data": {
      "text/plain": [
       "['Random_forest.joblib']"
      ]
     },
     "execution_count": 15,
     "metadata": {},
     "output_type": "execute_result"
    }
   ],
   "source": [
    "from joblib import dump, load\n",
    "\n",
    "dump(RF_clf, 'Random_forest.joblib') "
   ]
  },
  {
   "cell_type": "code",
   "execution_count": null,
   "metadata": {},
   "outputs": [],
   "source": []
  }
 ],
 "metadata": {
  "kernelspec": {
   "display_name": "Python 3",
   "language": "python",
   "name": "python3"
  },
  "language_info": {
   "codemirror_mode": {
    "name": "ipython",
    "version": 3
   },
   "file_extension": ".py",
   "mimetype": "text/x-python",
   "name": "python",
   "nbconvert_exporter": "python",
   "pygments_lexer": "ipython3",
   "version": "3.7.3"
  }
 },
 "nbformat": 4,
 "nbformat_minor": 2
}
