{
 "cells": [
  {
   "cell_type": "markdown",
   "metadata": {},
   "source": [
    "# Neural network"
   ]
  },
  {
   "cell_type": "markdown",
   "metadata": {},
   "source": [
    "### Try to use our own preprocessing"
   ]
  },
  {
   "cell_type": "code",
   "execution_count": 109,
   "metadata": {},
   "outputs": [
    {
     "name": "stdout",
     "output_type": "stream",
     "text": [
      "Done\n"
     ]
    }
   ],
   "source": [
    "import os\n",
    "import sys\n",
    "module_path = os.path.abspath(os.path.join('..'))\n",
    "if module_path not in sys.path:\n",
    "    sys.path.append(module_path)\n",
    "\n",
    "import sqlite3\n",
    "import pandas as pd\n",
    "import numpy as np\n",
    "from sklearn.ensemble import RandomForestClassifier\n",
    "from sklearn.metrics import accuracy_score\n",
    "from sklearn import model_selection\n",
    "from sklearn.model_selection import train_test_split\n",
    "from sklearn.metrics import make_scorer\n",
    "from time import time\n",
    "from sklearn.decomposition import PCA\n",
    "import warnings\n",
    "from pathlib import Path\n",
    "\n",
    "from utils.data_processing import create_feables\n",
    "from utils.data_processing import confusion_matrix\n",
    "\n",
    "warnings.simplefilter(\"ignore\")\n",
    "\n",
    "# You should run the ../../data_preprocessing.ipynb notebook to generate the data before running this\n",
    "data = pd.read_csv(\"../../datasets/data.csv\")\n",
    "# data = data.tail(1000)\n",
    "\n",
    "def normalize_bk_coefs(row, coef_name):\n",
    "    keys = ['H', 'A', 'D']\n",
    "    total = 0\n",
    "    for key in keys:\n",
    "        total += row[coef_name+key]\n",
    "    \n",
    "    for key in keys:\n",
    "        row[coef_name+key] = row[coef_name+key] / total\n",
    "    \n",
    "    return row\n",
    "\n",
    "# Normalize coefs\n",
    "bk = [\"B365\", \"BW\", \"IW\", \"LB\", \"WH\", \"VC\"]\n",
    "for coef_name in bk:\n",
    "    data = data.apply(lambda row: normalize_bk_coefs(row, coef_name), axis=1)\n",
    "\n",
    "\n",
    "labels = data.loc[:,'label']\n",
    "features = data.drop('label', axis = 1)\n",
    "\n",
    "print('Done')"
   ]
  },
  {
   "cell_type": "code",
   "execution_count": 141,
   "metadata": {},
   "outputs": [],
   "source": [
    "data = data.sort_values(['season', 'month'], ascending=(True, True))\n",
    "test = data[(data['season'] == 2015) & (data['month'] > 8)]\n",
    "\n",
    "y_test = test.loc[:, 'label']\n",
    "X_test = test.drop('label', axis=1)\n",
    "\n",
    "train = data[~data.isin(test)].dropna(how = 'all')\n",
    "y_train = data.loc[:, 'label']\n",
    "X_train = data.drop('label', axis=1)"
   ]
  },
  {
   "cell_type": "code",
   "execution_count": 142,
   "metadata": {},
   "outputs": [
    {
     "ename": "ValueError",
     "evalue": "Found input variables with inconsistent numbers of samples: [19487, 3]",
     "output_type": "error",
     "traceback": [
      "\u001b[0;31m---------------------------------------------------------------------------\u001b[0m",
      "\u001b[0;31mValueError\u001b[0m                                Traceback (most recent call last)",
      "\u001b[0;32m<ipython-input-142-a11fc273e647>\u001b[0m in \u001b[0;36m<module>\u001b[0;34m\u001b[0m\n\u001b[1;32m      1\u001b[0m \u001b[0;32mfrom\u001b[0m \u001b[0msklearn\u001b[0m\u001b[0;34m.\u001b[0m\u001b[0mmodel_selection\u001b[0m \u001b[0;32mimport\u001b[0m \u001b[0mtrain_test_split\u001b[0m\u001b[0;34m\u001b[0m\u001b[0;34m\u001b[0m\u001b[0m\n\u001b[1;32m      2\u001b[0m \u001b[0;31m#Splitting the data into train, test\u001b[0m\u001b[0;34m\u001b[0m\u001b[0;34m\u001b[0m\u001b[0;34m\u001b[0m\u001b[0m\n\u001b[0;32m----> 3\u001b[0;31m \u001b[0mX_train\u001b[0m\u001b[0;34m,\u001b[0m \u001b[0mX_test\u001b[0m\u001b[0;34m,\u001b[0m \u001b[0my_train\u001b[0m\u001b[0;34m,\u001b[0m \u001b[0my_test\u001b[0m \u001b[0;34m=\u001b[0m \u001b[0mtrain_test_split\u001b[0m\u001b[0;34m(\u001b[0m\u001b[0mfeatures\u001b[0m\u001b[0;34m,\u001b[0m \u001b[0mlabels\u001b[0m\u001b[0;34m,\u001b[0m \u001b[0mtest_size\u001b[0m \u001b[0;34m=\u001b[0m \u001b[0;36m0.25\u001b[0m\u001b[0;34m,\u001b[0m \u001b[0mrandom_state\u001b[0m \u001b[0;34m=\u001b[0m \u001b[0;36m42\u001b[0m\u001b[0;34m,\u001b[0m \u001b[0mshuffle\u001b[0m \u001b[0;34m=\u001b[0m \u001b[0;32mTrue\u001b[0m\u001b[0;34m,\u001b[0m \u001b[0mstratify\u001b[0m \u001b[0;34m=\u001b[0m \u001b[0mlabels\u001b[0m\u001b[0;34m)\u001b[0m\u001b[0;34m\u001b[0m\u001b[0;34m\u001b[0m\u001b[0m\n\u001b[0m\u001b[1;32m      4\u001b[0m \u001b[0;34m\u001b[0m\u001b[0m\n\u001b[1;32m      5\u001b[0m \u001b[0;31m# Show some rows of the data\u001b[0m\u001b[0;34m\u001b[0m\u001b[0;34m\u001b[0m\u001b[0;34m\u001b[0m\u001b[0m\n",
      "\u001b[0;32m/usr/local/lib/python3.7/site-packages/sklearn/model_selection/_split.py\u001b[0m in \u001b[0;36mtrain_test_split\u001b[0;34m(*arrays, **options)\u001b[0m\n\u001b[1;32m   2125\u001b[0m         \u001b[0;32mraise\u001b[0m \u001b[0mTypeError\u001b[0m\u001b[0;34m(\u001b[0m\u001b[0;34m\"Invalid parameters passed: %s\"\u001b[0m \u001b[0;34m%\u001b[0m \u001b[0mstr\u001b[0m\u001b[0;34m(\u001b[0m\u001b[0moptions\u001b[0m\u001b[0;34m)\u001b[0m\u001b[0;34m)\u001b[0m\u001b[0;34m\u001b[0m\u001b[0;34m\u001b[0m\u001b[0m\n\u001b[1;32m   2126\u001b[0m \u001b[0;34m\u001b[0m\u001b[0m\n\u001b[0;32m-> 2127\u001b[0;31m     \u001b[0marrays\u001b[0m \u001b[0;34m=\u001b[0m \u001b[0mindexable\u001b[0m\u001b[0;34m(\u001b[0m\u001b[0;34m*\u001b[0m\u001b[0marrays\u001b[0m\u001b[0;34m)\u001b[0m\u001b[0;34m\u001b[0m\u001b[0;34m\u001b[0m\u001b[0m\n\u001b[0m\u001b[1;32m   2128\u001b[0m \u001b[0;34m\u001b[0m\u001b[0m\n\u001b[1;32m   2129\u001b[0m     \u001b[0mn_samples\u001b[0m \u001b[0;34m=\u001b[0m \u001b[0m_num_samples\u001b[0m\u001b[0;34m(\u001b[0m\u001b[0marrays\u001b[0m\u001b[0;34m[\u001b[0m\u001b[0;36m0\u001b[0m\u001b[0;34m]\u001b[0m\u001b[0;34m)\u001b[0m\u001b[0;34m\u001b[0m\u001b[0;34m\u001b[0m\u001b[0m\n",
      "\u001b[0;32m/usr/local/lib/python3.7/site-packages/sklearn/utils/validation.py\u001b[0m in \u001b[0;36mindexable\u001b[0;34m(*iterables)\u001b[0m\n\u001b[1;32m    291\u001b[0m     \"\"\"\n\u001b[1;32m    292\u001b[0m     \u001b[0mresult\u001b[0m \u001b[0;34m=\u001b[0m \u001b[0;34m[\u001b[0m\u001b[0m_make_indexable\u001b[0m\u001b[0;34m(\u001b[0m\u001b[0mX\u001b[0m\u001b[0;34m)\u001b[0m \u001b[0;32mfor\u001b[0m \u001b[0mX\u001b[0m \u001b[0;32min\u001b[0m \u001b[0miterables\u001b[0m\u001b[0;34m]\u001b[0m\u001b[0;34m\u001b[0m\u001b[0;34m\u001b[0m\u001b[0m\n\u001b[0;32m--> 293\u001b[0;31m     \u001b[0mcheck_consistent_length\u001b[0m\u001b[0;34m(\u001b[0m\u001b[0;34m*\u001b[0m\u001b[0mresult\u001b[0m\u001b[0;34m)\u001b[0m\u001b[0;34m\u001b[0m\u001b[0;34m\u001b[0m\u001b[0m\n\u001b[0m\u001b[1;32m    294\u001b[0m     \u001b[0;32mreturn\u001b[0m \u001b[0mresult\u001b[0m\u001b[0;34m\u001b[0m\u001b[0;34m\u001b[0m\u001b[0m\n\u001b[1;32m    295\u001b[0m \u001b[0;34m\u001b[0m\u001b[0m\n",
      "\u001b[0;32m/usr/local/lib/python3.7/site-packages/sklearn/utils/validation.py\u001b[0m in \u001b[0;36mcheck_consistent_length\u001b[0;34m(*arrays)\u001b[0m\n\u001b[1;32m    255\u001b[0m     \u001b[0;32mif\u001b[0m \u001b[0mlen\u001b[0m\u001b[0;34m(\u001b[0m\u001b[0muniques\u001b[0m\u001b[0;34m)\u001b[0m \u001b[0;34m>\u001b[0m \u001b[0;36m1\u001b[0m\u001b[0;34m:\u001b[0m\u001b[0;34m\u001b[0m\u001b[0;34m\u001b[0m\u001b[0m\n\u001b[1;32m    256\u001b[0m         raise ValueError(\"Found input variables with inconsistent numbers of\"\n\u001b[0;32m--> 257\u001b[0;31m                          \" samples: %r\" % [int(l) for l in lengths])\n\u001b[0m\u001b[1;32m    258\u001b[0m \u001b[0;34m\u001b[0m\u001b[0m\n\u001b[1;32m    259\u001b[0m \u001b[0;34m\u001b[0m\u001b[0m\n",
      "\u001b[0;31mValueError\u001b[0m: Found input variables with inconsistent numbers of samples: [19487, 3]"
     ]
    }
   ],
   "source": [
    "from sklearn.model_selection import train_test_split\n",
    "#Splitting the data into train, test\n",
    "X_train, X_test, y_train, y_test = train_test_split(features, labels, test_size = 0.25, random_state = 42, shuffle = True, stratify = labels)\n",
    "\n",
    "# Show some rows of the data\n",
    "X_train.head()"
   ]
  },
  {
   "cell_type": "code",
   "execution_count": 143,
   "metadata": {},
   "outputs": [
    {
     "name": "stdout",
     "output_type": "stream",
     "text": [
      "Number of wins in test set: 457\n",
      "Number of draws in test set: 268\n",
      "Number of defeats in test set: 325\n"
     ]
    }
   ],
   "source": [
    "print(\"Number of wins in test set:\", np.sum(y_test == 2))\n",
    "print(\"Number of draws in test set:\", np.sum(y_test == 1))\n",
    "print(\"Number of defeats in test set:\", np.sum(y_test == 0))"
   ]
  },
  {
   "cell_type": "code",
   "execution_count": 144,
   "metadata": {},
   "outputs": [
    {
     "name": "stdout",
     "output_type": "stream",
     "text": [
      "Number of possible outcomes 3\n",
      "Labels: [0. 1. 2.]\n"
     ]
    }
   ],
   "source": [
    "# Match outcome\n",
    "y_train.head()\n",
    "\n",
    "# Number of possible outcomes\n",
    "# 2 = win\n",
    "# 1 = draw\n",
    "# 0 = lose\n",
    "print('Number of possible outcomes', np.unique(y_train.values).shape[0])\n",
    "labels = np.unique(y_train.values)\n",
    "print(\"Labels:\", labels)\n"
   ]
  },
  {
   "cell_type": "code",
   "execution_count": 114,
   "metadata": {},
   "outputs": [
    {
     "name": "stdout",
     "output_type": "stream",
     "text": [
      "Number of columns: 35\n"
     ]
    }
   ],
   "source": [
    "# Get number of columns by getting the number of columns in the X_train\n",
    "columns = X_train.shape[1]\n",
    "print('Number of columns:', columns)"
   ]
  },
  {
   "cell_type": "markdown",
   "metadata": {},
   "source": [
    "### Train test split with the test set being the results of the last 3 months. "
   ]
  },
  {
   "cell_type": "code",
   "execution_count": 115,
   "metadata": {},
   "outputs": [
    {
     "data": {
      "image/png": "[encoded data removed]",
      "text/plain": [
       "<Figure size 432x288 with 1 Axes>"
      ]
     },
     "metadata": {
      "needs_background": "light"
     },
     "output_type": "display_data"
    }
   ],
   "source": [
    "import matplotlib.pyplot as plt\n",
    "\n",
    "# Plot the distribution of labels in the train data\n",
    "def plot_labels_histogram(data):\n",
    "    plt.hist(data, facecolor='purple', align='mid')\n",
    "    plt.ylabel('Number of instances')\n",
    "    plt.xlabel('0 - defeat, 1 - tie, 2 - win')\n",
    "    plt.title(\"Label distribution\")\n",
    "    \n",
    "plot_labels_histogram(y_train)"
   ]
  },
  {
   "cell_type": "code",
   "execution_count": 116,
   "metadata": {},
   "outputs": [
    {
     "data": {
      "image/png": "[encoded data removed]",
      "text/plain": [
       "<Figure size 432x288 with 1 Axes>"
      ]
     },
     "metadata": {
      "needs_background": "light"
     },
     "output_type": "display_data"
    }
   ],
   "source": [
    "from imblearn.over_sampling import RandomOverSampler\n",
    "\n",
    "# Since the train data is uneven and the dataset is not \"huge\" we need to upsamle/oversample\n",
    "sampler = RandomOverSampler()\n",
    "X_train_sampled, y_train_sampled = sampler.fit_sample(X_train, y_train)\n",
    "\n",
    "# Plot the oversampled train set\n",
    "plot_labels_histogram(y_train_sampled)"
   ]
  },
  {
   "cell_type": "code",
   "execution_count": 117,
   "metadata": {},
   "outputs": [
    {
     "data": {
      "image/png": "[encoded data removed]",
      "text/plain": [
       "<Figure size 432x288 with 1 Axes>"
      ]
     },
     "metadata": {
      "needs_background": "light"
     },
     "output_type": "display_data"
    }
   ],
   "source": [
    "from sklearn.utils import shuffle\n",
    "\n",
    "# Assign train values with the new sampled data\n",
    "X_train, y_train = shuffle(X_train_sampled, y_train_sampled, random_state=42)\n",
    "\n",
    "plot_labels_histogram(y_train)"
   ]
  },
  {
   "cell_type": "code",
   "execution_count": 118,
   "metadata": {},
   "outputs": [],
   "source": [
    "from keras.models import Model, Sequential\n",
    "from keras.layers import Input, Activation, Flatten, Dense, Dropout\n",
    "from keras.optimizers import SGD, Adam\n",
    "from keras import regularizers\n",
    "\n",
    "def create_model(learning_rate=1e-5, dropout_rate=0.1):\n",
    "    model = Sequential() \n",
    "    model.add(Dense(64, input_dim=columns, activation='tanh', kernel_regularizer='l2'))\n",
    "    #model.add(Dropout(dropout_rate))\n",
    "    #model.add(Dense(16, activation='relu', kernel_regularizer='l2'))\n",
    "    model.add(Dropout(dropout_rate))\n",
    "    #model.add(Dense(16, activation='relu', kernel_regularizer='l2'))\n",
    "    #model.add(Dense(8, inputactivation='tanh', kernel_regularizer='l2'))\n",
    "    model.add(Dense(3, activation='softmax'))\n",
    "    model.compile(loss='categorical_crossentropy', optimizer=Adam(lr=learning_rate), metrics=['accuracy'])\n",
    "    return model"
   ]
  },
  {
   "cell_type": "code",
   "execution_count": 119,
   "metadata": {},
   "outputs": [
    {
     "name": "stdout",
     "output_type": "stream",
     "text": [
      "Unique labels in the train set:  [0. 1. 2.]\n",
      "Unique labels in the train set after encoding:  [[0. 0. 1.]\n",
      " [0. 1. 0.]\n",
      " [1. 0. 0.]]\n",
      "------------------------------------------------------------------------------ \n",
      "\n"
     ]
    }
   ],
   "source": [
    "from keras.utils.np_utils import to_categorical\n",
    "\n",
    "# Convert a class vector (integers) to binary class matrix.\n",
    "print(\"Unique labels in the train set: \", np.unique(y_train))\n",
    "# One hot encoding\n",
    "y_train_categorical = to_categorical(y_train, num_classes=len(labels))\n",
    "print(\"Unique labels in the train set after encoding: \", np.unique(y_train_categorical, axis=0))\n",
    "\n",
    "print(\"------------------------------------------------------------------------------ \\n\")\n"
   ]
  },
  {
   "cell_type": "code",
   "execution_count": 72,
   "metadata": {},
   "outputs": [
    {
     "name": "stdout",
     "output_type": "stream",
     "text": [
      "Learning rate: 0.001, Dropout rate: 0.05\n",
      "Accuracy: 0.34613898396492004, Validation accuracy: 0.34873324632644653\n",
      "Test set accuracy: 0.2883825944170772\n",
      "Learning rate: 0.001, Dropout rate: 0.1\n",
      "Accuracy: 0.3469117283821106, Validation accuracy: 0.34873324632644653\n",
      "Test set accuracy: 0.4591543513957307\n",
      "Learning rate: 0.001, Dropout rate: 0.2\n",
      "Accuracy: 0.344814270734787, Validation accuracy: 0.3522106409072876\n",
      "Test set accuracy: 0.2524630541871921\n",
      "Learning rate: 0.005, Dropout rate: 0.05\n",
      "Accuracy: 0.33990174531936646, Validation accuracy: 0.34773969650268555\n",
      "Test set accuracy: 0.4558702791461412\n",
      "Learning rate: 0.005, Dropout rate: 0.1\n",
      "Accuracy: 0.34238559007644653, Validation accuracy: 0.34873324632644653\n",
      "Test set accuracy: 0.2524630541871921\n",
      "Learning rate: 0.005, Dropout rate: 0.2\n",
      "Accuracy: 0.3454214334487915, Validation accuracy: 0.34773969650268555\n",
      "Test set accuracy: 0.2883825944170772\n",
      "Learning rate: 0.0001, Dropout rate: 0.05\n",
      "Accuracy: 0.34818127751350403, Validation accuracy: 0.3532041609287262\n",
      "Test set accuracy: 0.2955665024630542\n",
      "Learning rate: 0.0001, Dropout rate: 0.1\n",
      "Accuracy: 0.3511618971824646, Validation accuracy: 0.35717833042144775\n",
      "Test set accuracy: 0.39080459770114945\n",
      "Learning rate: 0.0001, Dropout rate: 0.2\n",
      "Accuracy: 0.3501683473587036, Validation accuracy: 0.35767510533332825\n",
      "Test set accuracy: 0.31547619047619047\n",
      "Learning rate: 0.0005, Dropout rate: 0.05\n",
      "Accuracy: 0.3475741147994995, Validation accuracy: 0.35568803548812866\n",
      "Test set accuracy: 0.2883825944170772\n",
      "Learning rate: 0.0005, Dropout rate: 0.1\n",
      "Accuracy: 0.3454214334487915, Validation accuracy: 0.3507203161716461\n",
      "Test set accuracy: 0.43555008210180624\n",
      "Learning rate: 0.0005, Dropout rate: 0.2\n",
      "Accuracy: 0.3485676348209381, Validation accuracy: 0.35568803548812866\n",
      "Test set accuracy: 0.4591543513957307\n",
      "Learning rate: 1e-05, Dropout rate: 0.05\n",
      "Accuracy: 0.45095765590667725, Validation accuracy: 0.4783904552459717\n",
      "Test set accuracy: 0.47495894909688013\n",
      "Learning rate: 1e-05, Dropout rate: 0.1\n",
      "Accuracy: 0.4166804552078247, Validation accuracy: 0.4451068043708801\n",
      "Test set accuracy: 0.43267651888341546\n",
      "Learning rate: 1e-05, Dropout rate: 0.2\n",
      "Accuracy: 0.4671303331851959, Validation accuracy: 0.5181321501731873\n",
      "Test set accuracy: 0.5554187192118226\n",
      "Learning rate: 1e-06, Dropout rate: 0.05\n",
      "Accuracy: 0.34503504633903503, Validation accuracy: 0.3517138659954071\n",
      "Test set accuracy: 0.3279967159277504\n",
      "Learning rate: 1e-06, Dropout rate: 0.1\n",
      "Accuracy: 0.3400121331214905, Validation accuracy: 0.3422752022743225\n",
      "Test set accuracy: 0.3138341543513957\n",
      "Learning rate: 1e-06, Dropout rate: 0.2\n",
      "Accuracy: 0.34420710802078247, Validation accuracy: 0.342771977186203\n",
      "Test set accuracy: 0.34441707717569786\n",
      "Done\n"
     ]
    }
   ],
   "source": [
    "learning_rates = [1e-3, 5e-3, 1e-4, 5e-4, 1e-5, 1e-6]\n",
    "dropout_rates = [0.05, 0.1, 0.2]\n",
    "\n",
    "best_lr = None\n",
    "best_dr = None\n",
    "\n",
    "best_val_acc = 0\n",
    "best_model = None\n",
    "for lr in learning_rates:\n",
    "    for dr in dropout_rates:\n",
    "        print('Learning rate: {0}, Dropout rate: {1}'.format(lr, dr))\n",
    "        model = create_model(lr, dr)\n",
    "        history = model.fit(\n",
    "            X_train,\n",
    "            y_train_categorical,\n",
    "            epochs=100,\n",
    "            validation_split=0.1,\n",
    "            verbose=0)\n",
    "        val_acc = max(history.history['val_accuracy'])\n",
    "        acc = max(history.history['accuracy'])\n",
    "        print('Accuracy: {0}, Validation accuracy: {1}'.format(acc, val_acc))\n",
    "        predictions = np.argmax(model.predict(X_test), axis=1)\n",
    "        #print(np.unique(predictions))\n",
    "        # Calculate accuracy\n",
    "        accuracy = (predictions == y_test).mean()\n",
    "        print(\"Test set accuracy:\", accuracy)\n",
    "        \n",
    "        if val_acc > best_val_acc:\n",
    "            best_val_acc = val_acc\n",
    "            best_lr = lr\n",
    "            best_dr = dr\n",
    "            best_model = model\n",
    "            \n",
    "            \n",
    "\n",
    "print('Done')\n",
    "        \n",
    "        "
   ]
  },
  {
   "cell_type": "code",
   "execution_count": 73,
   "metadata": {},
   "outputs": [
    {
     "data": {
      "text/plain": [
       "1e-05"
      ]
     },
     "execution_count": 73,
     "metadata": {},
     "output_type": "execute_result"
    }
   ],
   "source": [
    "best_lr"
   ]
  },
  {
   "cell_type": "code",
   "execution_count": 34,
   "metadata": {},
   "outputs": [
    {
     "data": {
      "text/plain": [
       "0.2"
      ]
     },
     "execution_count": 34,
     "metadata": {},
     "output_type": "execute_result"
    }
   ],
   "source": [
    "best_dr"
   ]
  },
  {
   "cell_type": "code",
   "execution_count": 120,
   "metadata": {},
   "outputs": [
    {
     "name": "stdout",
     "output_type": "stream",
     "text": [
      "Train on 18117 samples, validate on 2013 samples\n",
      "Epoch 1/100\n",
      "18117/18117 [==============================] - 1s 37us/step - loss: 2.2808 - accuracy: 0.3294 - val_loss: 2.0818 - val_accuracy: 0.3284\n",
      "Epoch 2/100\n",
      "18117/18117 [==============================] - 1s 30us/step - loss: 2.0734 - accuracy: 0.3272 - val_loss: 1.8839 - val_accuracy: 0.3294\n",
      "Epoch 3/100\n",
      "18117/18117 [==============================] - 0s 26us/step - loss: 1.9228 - accuracy: 0.3282 - val_loss: 1.7358 - val_accuracy: 0.3299\n",
      "Epoch 4/100\n",
      "18117/18117 [==============================] - 0s 26us/step - loss: 1.8045 - accuracy: 0.3267 - val_loss: 1.6343 - val_accuracy: 0.3348\n",
      "Epoch 5/100\n",
      "18117/18117 [==============================] - 0s 26us/step - loss: 1.7220 - accuracy: 0.3324 - val_loss: 1.5614 - val_accuracy: 0.3333\n",
      "Epoch 6/100\n",
      "18117/18117 [==============================] - 0s 26us/step - loss: 1.6648 - accuracy: 0.3301 - val_loss: 1.5094 - val_accuracy: 0.3348\n",
      "Epoch 7/100\n",
      "18117/18117 [==============================] - 0s 26us/step - loss: 1.6265 - accuracy: 0.3323 - val_loss: 1.4729 - val_accuracy: 0.3348\n",
      "Epoch 8/100\n",
      "18117/18117 [==============================] - 0s 27us/step - loss: 1.5969 - accuracy: 0.3300 - val_loss: 1.4422 - val_accuracy: 0.3383\n",
      "Epoch 9/100\n",
      "18117/18117 [==============================] - 0s 27us/step - loss: 1.5681 - accuracy: 0.3347 - val_loss: 1.4173 - val_accuracy: 0.3408\n",
      "Epoch 10/100\n",
      "18117/18117 [==============================] - 0s 27us/step - loss: 1.5435 - accuracy: 0.3376 - val_loss: 1.3971 - val_accuracy: 0.3393\n",
      "Epoch 11/100\n",
      "18117/18117 [==============================] - 0s 27us/step - loss: 1.5326 - accuracy: 0.3284 - val_loss: 1.3795 - val_accuracy: 0.3393\n",
      "Epoch 12/100\n",
      "18117/18117 [==============================] - 0s 27us/step - loss: 1.5088 - accuracy: 0.3387 - val_loss: 1.3629 - val_accuracy: 0.3373\n",
      "Epoch 13/100\n",
      "18117/18117 [==============================] - 0s 27us/step - loss: 1.4908 - accuracy: 0.3322 - val_loss: 1.3469 - val_accuracy: 0.3408\n",
      "Epoch 14/100\n",
      "18117/18117 [==============================] - 1s 29us/step - loss: 1.4776 - accuracy: 0.3342 - val_loss: 1.3326 - val_accuracy: 0.3428\n",
      "Epoch 15/100\n",
      "18117/18117 [==============================] - 1s 29us/step - loss: 1.4651 - accuracy: 0.3335 - val_loss: 1.3193 - val_accuracy: 0.3458\n",
      "Epoch 16/100\n",
      "18117/18117 [==============================] - 0s 27us/step - loss: 1.4419 - accuracy: 0.3366 - val_loss: 1.3055 - val_accuracy: 0.3408\n",
      "Epoch 17/100\n",
      "18117/18117 [==============================] - 0s 27us/step - loss: 1.4253 - accuracy: 0.3401 - val_loss: 1.2940 - val_accuracy: 0.3378\n",
      "Epoch 18/100\n",
      "18117/18117 [==============================] - 1s 28us/step - loss: 1.4181 - accuracy: 0.3358 - val_loss: 1.2804 - val_accuracy: 0.3403\n",
      "Epoch 19/100\n",
      "18117/18117 [==============================] - 0s 27us/step - loss: 1.4076 - accuracy: 0.3357 - val_loss: 1.2705 - val_accuracy: 0.3413\n",
      "Epoch 20/100\n",
      "18117/18117 [==============================] - 1s 28us/step - loss: 1.3987 - accuracy: 0.3295 - val_loss: 1.2603 - val_accuracy: 0.3428\n",
      "Epoch 21/100\n",
      "18117/18117 [==============================] - 1s 28us/step - loss: 1.3793 - accuracy: 0.3311 - val_loss: 1.2503 - val_accuracy: 0.3423\n",
      "Epoch 22/100\n",
      "18117/18117 [==============================] - 0s 27us/step - loss: 1.3737 - accuracy: 0.3347 - val_loss: 1.2425 - val_accuracy: 0.3428\n",
      "Epoch 23/100\n",
      "18117/18117 [==============================] - 0s 27us/step - loss: 1.3608 - accuracy: 0.3366 - val_loss: 1.2340 - val_accuracy: 0.3408\n",
      "Epoch 24/100\n",
      "18117/18117 [==============================] - 0s 27us/step - loss: 1.3542 - accuracy: 0.3348 - val_loss: 1.2277 - val_accuracy: 0.3458\n",
      "Epoch 25/100\n",
      "18117/18117 [==============================] - 0s 27us/step - loss: 1.3438 - accuracy: 0.3387 - val_loss: 1.2204 - val_accuracy: 0.3477\n",
      "Epoch 26/100\n",
      "18117/18117 [==============================] - 1s 28us/step - loss: 1.3399 - accuracy: 0.3339 - val_loss: 1.2134 - val_accuracy: 0.3482\n",
      "Epoch 27/100\n",
      "18117/18117 [==============================] - 0s 27us/step - loss: 1.3269 - accuracy: 0.3386 - val_loss: 1.2065 - val_accuracy: 0.3562\n",
      "Epoch 28/100\n",
      "18117/18117 [==============================] - 0s 27us/step - loss: 1.3195 - accuracy: 0.3384 - val_loss: 1.2030 - val_accuracy: 0.3448\n",
      "Epoch 29/100\n",
      "18117/18117 [==============================] - 0s 26us/step - loss: 1.3169 - accuracy: 0.3342 - val_loss: 1.1981 - val_accuracy: 0.3497\n",
      "Epoch 30/100\n",
      "18117/18117 [==============================] - 1s 28us/step - loss: 1.3122 - accuracy: 0.3344 - val_loss: 1.1938 - val_accuracy: 0.3502\n",
      "Epoch 31/100\n",
      "18117/18117 [==============================] - 0s 27us/step - loss: 1.3093 - accuracy: 0.3344 - val_loss: 1.1897 - val_accuracy: 0.3467\n",
      "Epoch 32/100\n",
      "18117/18117 [==============================] - 1s 28us/step - loss: 1.2992 - accuracy: 0.3389 - val_loss: 1.1865 - val_accuracy: 0.3502\n",
      "Epoch 33/100\n",
      "18117/18117 [==============================] - 0s 27us/step - loss: 1.2984 - accuracy: 0.3364 - val_loss: 1.1832 - val_accuracy: 0.3482\n",
      "Epoch 34/100\n",
      "18117/18117 [==============================] - 0s 27us/step - loss: 1.2833 - accuracy: 0.3446 - val_loss: 1.1794 - val_accuracy: 0.3433\n",
      "Epoch 35/100\n",
      "18117/18117 [==============================] - 1s 28us/step - loss: 1.2929 - accuracy: 0.3316 - val_loss: 1.1762 - val_accuracy: 0.3477\n",
      "Epoch 36/100\n",
      "18117/18117 [==============================] - 1s 28us/step - loss: 1.2790 - accuracy: 0.3389 - val_loss: 1.1725 - val_accuracy: 0.3487\n",
      "Epoch 37/100\n",
      "18117/18117 [==============================] - 0s 27us/step - loss: 1.2795 - accuracy: 0.3380 - val_loss: 1.1703 - val_accuracy: 0.3433\n",
      "Epoch 38/100\n",
      "18117/18117 [==============================] - 1s 29us/step - loss: 1.2810 - accuracy: 0.3325 - val_loss: 1.1685 - val_accuracy: 0.3472\n",
      "Epoch 39/100\n",
      "18117/18117 [==============================] - 1s 28us/step - loss: 1.2717 - accuracy: 0.3384 - val_loss: 1.1664 - val_accuracy: 0.3507\n",
      "Epoch 40/100\n",
      "18117/18117 [==============================] - 1s 29us/step - loss: 1.2717 - accuracy: 0.3347 - val_loss: 1.1653 - val_accuracy: 0.3462\n",
      "Epoch 41/100\n",
      "18117/18117 [==============================] - 1s 28us/step - loss: 1.2763 - accuracy: 0.3355 - val_loss: 1.1642 - val_accuracy: 0.3458\n",
      "Epoch 42/100\n",
      "18117/18117 [==============================] - 1s 29us/step - loss: 1.2670 - accuracy: 0.3397 - val_loss: 1.1632 - val_accuracy: 0.3443\n",
      "Epoch 43/100\n",
      "18117/18117 [==============================] - 1s 29us/step - loss: 1.2620 - accuracy: 0.3354 - val_loss: 1.1593 - val_accuracy: 0.3497\n",
      "Epoch 44/100\n",
      "18117/18117 [==============================] - 0s 28us/step - loss: 1.2612 - accuracy: 0.3406 - val_loss: 1.1611 - val_accuracy: 0.3443\n",
      "Epoch 45/100\n",
      "18117/18117 [==============================] - 0s 27us/step - loss: 1.2615 - accuracy: 0.3385 - val_loss: 1.1586 - val_accuracy: 0.3512\n",
      "Epoch 46/100\n",
      "18117/18117 [==============================] - 0s 27us/step - loss: 1.2543 - accuracy: 0.3395 - val_loss: 1.1574 - val_accuracy: 0.3497\n",
      "Epoch 47/100\n",
      "18117/18117 [==============================] - 1s 28us/step - loss: 1.2543 - accuracy: 0.3358 - val_loss: 1.1578 - val_accuracy: 0.3423\n",
      "Epoch 48/100\n",
      "18117/18117 [==============================] - 0s 28us/step - loss: 1.2551 - accuracy: 0.3346 - val_loss: 1.1582 - val_accuracy: 0.3453\n",
      "Epoch 49/100\n",
      "18117/18117 [==============================] - 1s 28us/step - loss: 1.2553 - accuracy: 0.3310 - val_loss: 1.1575 - val_accuracy: 0.3472\n",
      "Epoch 50/100\n",
      "18117/18117 [==============================] - 1s 29us/step - loss: 1.2478 - accuracy: 0.3403 - val_loss: 1.1550 - val_accuracy: 0.3458\n",
      "Epoch 51/100\n",
      "18117/18117 [==============================] - 1s 29us/step - loss: 1.2405 - accuracy: 0.3434 - val_loss: 1.1560 - val_accuracy: 0.3453\n",
      "Epoch 52/100\n",
      "18117/18117 [==============================] - 1s 28us/step - loss: 1.2443 - accuracy: 0.3398 - val_loss: 1.1538 - val_accuracy: 0.3502\n",
      "Epoch 53/100\n",
      "18117/18117 [==============================] - 1s 28us/step - loss: 1.2403 - accuracy: 0.3397 - val_loss: 1.1535 - val_accuracy: 0.3467\n",
      "Epoch 54/100\n",
      "18117/18117 [==============================] - 1s 29us/step - loss: 1.2369 - accuracy: 0.3446 - val_loss: 1.1534 - val_accuracy: 0.3423\n",
      "Epoch 55/100\n",
      "18117/18117 [==============================] - 1s 28us/step - loss: 1.2351 - accuracy: 0.3431 - val_loss: 1.1525 - val_accuracy: 0.3462\n"
     ]
    },
    {
     "name": "stdout",
     "output_type": "stream",
     "text": [
      "Epoch 56/100\n",
      "18117/18117 [==============================] - 0s 27us/step - loss: 1.2384 - accuracy: 0.3403 - val_loss: 1.1510 - val_accuracy: 0.3477\n",
      "Epoch 57/100\n",
      "18117/18117 [==============================] - 0s 27us/step - loss: 1.2404 - accuracy: 0.3385 - val_loss: 1.1504 - val_accuracy: 0.3517\n",
      "Epoch 58/100\n",
      "18117/18117 [==============================] - 0s 27us/step - loss: 1.2353 - accuracy: 0.3373 - val_loss: 1.1491 - val_accuracy: 0.3517\n",
      "Epoch 59/100\n",
      "18117/18117 [==============================] - 0s 27us/step - loss: 1.2263 - accuracy: 0.3429 - val_loss: 1.1491 - val_accuracy: 0.3517\n",
      "Epoch 60/100\n",
      "18117/18117 [==============================] - 0s 27us/step - loss: 1.2298 - accuracy: 0.3389 - val_loss: 1.1468 - val_accuracy: 0.3532\n",
      "Epoch 61/100\n",
      "18117/18117 [==============================] - 0s 27us/step - loss: 1.2358 - accuracy: 0.3373 - val_loss: 1.1465 - val_accuracy: 0.3616\n",
      "Epoch 62/100\n",
      "18117/18117 [==============================] - 0s 28us/step - loss: 1.2309 - accuracy: 0.3405 - val_loss: 1.1461 - val_accuracy: 0.3582\n",
      "Epoch 63/100\n",
      "18117/18117 [==============================] - 0s 26us/step - loss: 1.2299 - accuracy: 0.3395 - val_loss: 1.1468 - val_accuracy: 0.3517\n",
      "Epoch 64/100\n",
      "18117/18117 [==============================] - 0s 27us/step - loss: 1.2224 - accuracy: 0.3472 - val_loss: 1.1469 - val_accuracy: 0.3517\n",
      "Epoch 65/100\n",
      "18117/18117 [==============================] - 0s 27us/step - loss: 1.2266 - accuracy: 0.3411 - val_loss: 1.1455 - val_accuracy: 0.3562\n",
      "Epoch 66/100\n",
      "18117/18117 [==============================] - 1s 29us/step - loss: 1.2197 - accuracy: 0.3454 - val_loss: 1.1455 - val_accuracy: 0.3582\n",
      "Epoch 67/100\n",
      "18117/18117 [==============================] - 1s 29us/step - loss: 1.2238 - accuracy: 0.3392 - val_loss: 1.1442 - val_accuracy: 0.3612\n",
      "Epoch 68/100\n",
      "18117/18117 [==============================] - 1s 28us/step - loss: 1.2208 - accuracy: 0.3374 - val_loss: 1.1432 - val_accuracy: 0.3616\n",
      "Epoch 69/100\n",
      "18117/18117 [==============================] - 1s 28us/step - loss: 1.2199 - accuracy: 0.3387 - val_loss: 1.1444 - val_accuracy: 0.3616\n",
      "Epoch 70/100\n",
      "18117/18117 [==============================] - 1s 28us/step - loss: 1.2197 - accuracy: 0.3397 - val_loss: 1.1428 - val_accuracy: 0.3631\n",
      "Epoch 71/100\n",
      "18117/18117 [==============================] - 0s 27us/step - loss: 1.2206 - accuracy: 0.3412 - val_loss: 1.1424 - val_accuracy: 0.3587\n",
      "Epoch 72/100\n",
      "18117/18117 [==============================] - 1s 29us/step - loss: 1.2200 - accuracy: 0.3390 - val_loss: 1.1421 - val_accuracy: 0.3572\n",
      "Epoch 73/100\n",
      "18117/18117 [==============================] - 0s 28us/step - loss: 1.2215 - accuracy: 0.3336 - val_loss: 1.1429 - val_accuracy: 0.3537\n",
      "Epoch 74/100\n",
      "18117/18117 [==============================] - 1s 28us/step - loss: 1.2127 - accuracy: 0.3456 - val_loss: 1.1426 - val_accuracy: 0.3621\n",
      "Epoch 75/100\n",
      "18117/18117 [==============================] - 0s 27us/step - loss: 1.2103 - accuracy: 0.3437 - val_loss: 1.1424 - val_accuracy: 0.3572\n",
      "Epoch 76/100\n",
      "18117/18117 [==============================] - 0s 27us/step - loss: 1.2096 - accuracy: 0.3439 - val_loss: 1.1420 - val_accuracy: 0.3577\n",
      "Epoch 77/100\n",
      "18117/18117 [==============================] - 1s 28us/step - loss: 1.2106 - accuracy: 0.3395 - val_loss: 1.1421 - val_accuracy: 0.3567\n",
      "Epoch 78/100\n",
      "18117/18117 [==============================] - 1s 28us/step - loss: 1.2127 - accuracy: 0.3384 - val_loss: 1.1414 - val_accuracy: 0.3597\n",
      "Epoch 79/100\n",
      "18117/18117 [==============================] - 1s 32us/step - loss: 1.2055 - accuracy: 0.3428 - val_loss: 1.1397 - val_accuracy: 0.3567\n",
      "Epoch 80/100\n",
      "18117/18117 [==============================] - 0s 27us/step - loss: 1.2085 - accuracy: 0.3405 - val_loss: 1.1409 - val_accuracy: 0.3517\n",
      "Epoch 81/100\n",
      "18117/18117 [==============================] - 0s 27us/step - loss: 1.2102 - accuracy: 0.3403 - val_loss: 1.1405 - val_accuracy: 0.3567\n",
      "Epoch 82/100\n",
      "18117/18117 [==============================] - 1s 28us/step - loss: 1.2080 - accuracy: 0.3395 - val_loss: 1.1406 - val_accuracy: 0.3577\n",
      "Epoch 83/100\n",
      "18117/18117 [==============================] - 1s 28us/step - loss: 1.2044 - accuracy: 0.3441 - val_loss: 1.1404 - val_accuracy: 0.3626\n",
      "Epoch 84/100\n",
      "18117/18117 [==============================] - 0s 27us/step - loss: 1.2042 - accuracy: 0.3411 - val_loss: 1.1394 - val_accuracy: 0.3582\n",
      "Epoch 85/100\n",
      "18117/18117 [==============================] - 1s 28us/step - loss: 1.2086 - accuracy: 0.3349 - val_loss: 1.1397 - val_accuracy: 0.3587\n",
      "Epoch 86/100\n",
      "18117/18117 [==============================] - 1s 28us/step - loss: 1.2008 - accuracy: 0.3401 - val_loss: 1.1382 - val_accuracy: 0.3597\n",
      "Epoch 87/100\n",
      "18117/18117 [==============================] - 1s 29us/step - loss: 1.2020 - accuracy: 0.3396 - val_loss: 1.1384 - val_accuracy: 0.3597\n",
      "Epoch 88/100\n",
      "18117/18117 [==============================] - 1s 30us/step - loss: 1.1975 - accuracy: 0.3376 - val_loss: 1.1376 - val_accuracy: 0.3577\n",
      "Epoch 89/100\n",
      "18117/18117 [==============================] - 1s 29us/step - loss: 1.2044 - accuracy: 0.3427 - val_loss: 1.1363 - val_accuracy: 0.3661\n",
      "Epoch 90/100\n",
      "18117/18117 [==============================] - 1s 28us/step - loss: 1.1957 - accuracy: 0.3447 - val_loss: 1.1381 - val_accuracy: 0.3646\n",
      "Epoch 91/100\n",
      "18117/18117 [==============================] - 0s 27us/step - loss: 1.2037 - accuracy: 0.3389 - val_loss: 1.1362 - val_accuracy: 0.3612\n",
      "Epoch 92/100\n",
      "18117/18117 [==============================] - 1s 28us/step - loss: 1.1946 - accuracy: 0.3405 - val_loss: 1.1371 - val_accuracy: 0.3592\n",
      "Epoch 93/100\n",
      "18117/18117 [==============================] - 0s 28us/step - loss: 1.2007 - accuracy: 0.3379 - val_loss: 1.1349 - val_accuracy: 0.3602\n",
      "Epoch 94/100\n",
      "18117/18117 [==============================] - 0s 28us/step - loss: 1.1878 - accuracy: 0.3497 - val_loss: 1.1363 - val_accuracy: 0.3621\n",
      "Epoch 95/100\n",
      "18117/18117 [==============================] - 0s 27us/step - loss: 1.1971 - accuracy: 0.3392 - val_loss: 1.1351 - val_accuracy: 0.3602\n",
      "Epoch 96/100\n",
      "18117/18117 [==============================] - 0s 28us/step - loss: 1.1960 - accuracy: 0.3431 - val_loss: 1.1349 - val_accuracy: 0.3602\n",
      "Epoch 97/100\n",
      "18117/18117 [==============================] - 0s 27us/step - loss: 1.1946 - accuracy: 0.3413 - val_loss: 1.1343 - val_accuracy: 0.3592\n",
      "Epoch 98/100\n",
      "18117/18117 [==============================] - 0s 27us/step - loss: 1.1932 - accuracy: 0.3440 - val_loss: 1.1348 - val_accuracy: 0.3651\n",
      "Epoch 99/100\n",
      "18117/18117 [==============================] - 0s 27us/step - loss: 1.1859 - accuracy: 0.3490 - val_loss: 1.1348 - val_accuracy: 0.3661\n",
      "Epoch 100/100\n",
      "18117/18117 [==============================] - 0s 27us/step - loss: 1.1940 - accuracy: 0.3398 - val_loss: 1.1345 - val_accuracy: 0.3607\n",
      "Accuracy: 0.34972676634788513, Validation accuracy: 0.36612021923065186\n"
     ]
    }
   ],
   "source": [
    "model = create_model(1e-05, 0.2)\n",
    "history = model.fit(\n",
    "            X_train,\n",
    "            y_train_categorical,\n",
    "            epochs=100,\n",
    "            validation_split=0.1,\n",
    "            verbose=1)\n",
    "val_acc = max(history.history['val_accuracy'])\n",
    "acc = max(history.history['accuracy'])\n",
    "print('Accuracy: {0}, Validation accuracy: {1}'.format(acc, val_acc))"
   ]
  },
  {
   "cell_type": "code",
   "execution_count": 121,
   "metadata": {},
   "outputs": [
    {
     "data": {
      "image/png": "[encoded data removed]",
      "text/plain": [
       "<Figure size 432x288 with 1 Axes>"
      ]
     },
     "metadata": {
      "needs_background": "light"
     },
     "output_type": "display_data"
    }
   ],
   "source": [
    "import matplotlib.pyplot as plt\n",
    "\n",
    "plt.plot(history.history['loss'], label='train')\n",
    "plt.plot(history.history['val_loss'], label='validation')\n",
    "plt.legend()\n",
    "plt.show()"
   ]
  },
  {
   "cell_type": "code",
   "execution_count": 122,
   "metadata": {},
   "outputs": [
    {
     "data": {
      "image/png": "[encoded data removed]",
      "text/plain": [
       "<Figure size 432x288 with 1 Axes>"
      ]
     },
     "metadata": {
      "needs_background": "light"
     },
     "output_type": "display_data"
    }
   ],
   "source": [
    "plt.plot(history.history['accuracy'], label='accuracy')\n",
    "plt.plot(history.history['val_accuracy'], label='validation accuracy')\n",
    "plt.legend()\n",
    "plt.show()"
   ]
  },
  {
   "cell_type": "code",
   "execution_count": 123,
   "metadata": {},
   "outputs": [
    {
     "name": "stdout",
     "output_type": "stream",
     "text": [
      "[0 1 2]\n",
      "Test set accuracy: 0.37787356321839083\n"
     ]
    }
   ],
   "source": [
    "# Take the most probable prediction\n",
    "# print(model.predict(X_test))\n",
    "predictions = np.argmax(model.predict(X_test), axis=1)\n",
    "print(np.unique(predictions))\n",
    "# Calculate accuracy\n",
    "accuracy = (predictions == y_test).mean()\n",
    "print(\"Test set accuracy:\", accuracy)"
   ]
  },
  {
   "cell_type": "markdown",
   "metadata": {},
   "source": [
    "# Let us plot the confusion matrix"
   ]
  },
  {
   "cell_type": "code",
   "execution_count": 124,
   "metadata": {},
   "outputs": [
    {
     "name": "stdout",
     "output_type": "stream",
     "text": [
      "1024\n",
      "[0 1 2]\n",
      "Neural network confusion matrix: \n",
      "                    Home wins (pred)  Draw (pred)  Home loses (pred)\n",
      "Home wins (true)               1049          457                731\n",
      "Draw (true)                     547          286                397\n",
      "Home loses (true)               618          281                506\n",
      "\n",
      " True labels distribution: \n",
      "\n"
     ]
    },
    {
     "data": {
      "image/png": "[encoded data removed]",
      "text/plain": [
       "<Figure size 432x288 with 1 Axes>"
      ]
     },
     "metadata": {
      "needs_background": "light"
     },
     "output_type": "display_data"
    }
   ],
   "source": [
    "# from utils.data_processing import build_confusion_matrix\n",
    "\n",
    "# TODO: Remove this and use the commented import instead\n",
    "def build_confusion_matrix(y_true, y_pred):\n",
    "    return pd.DataFrame(confusion_matrix(y_true, y_pred, labels=[2, 1, 0]),\n",
    "                        index=['Home wins (true)', 'Draw (true)', 'Home loses (true)'],\n",
    "                        columns=['Home wins (pred)', 'Draw (pred)', 'Home loses (pred)'])\n",
    "\n",
    "print(np.sum((predictions == 1)))\n",
    "print(np.unique(predictions))\n",
    "print(\"Neural network confusion matrix: \\n\", build_confusion_matrix(y_test, predictions))\n",
    "\n",
    "\n",
    "print('\\n True labels distribution: \\n')\n",
    "plot_labels_histogram(y_test)"
   ]
  },
  {
   "cell_type": "markdown",
   "metadata": {},
   "source": [
    "# Comparing Neural network to Random forest"
   ]
  },
  {
   "cell_type": "code",
   "execution_count": 125,
   "metadata": {},
   "outputs": [],
   "source": [
    "#Splitting the data into Train, Calibrate, and Test data sets\n",
    "#X_train_calibrate, X_test, y_train_calibrate, y_test = train_test_split(features, labels, test_size = 0.25, random_state = 0, stratify = labels)\n",
    "X_train_calibrate = X_train\n",
    "y_train_calibrate = y_train\n",
    "X_train, X_calibrate, y_train, y_calibrate = train_test_split(X_train_calibrate, y_train_calibrate, test_size = 0.25, random_state = 0, stratify = y_train_calibrate)\n"
   ]
  },
  {
   "cell_type": "code",
   "execution_count": 134,
   "metadata": {},
   "outputs": [
    {
     "name": "stdout",
     "output_type": "stream",
     "text": [
      "Random forest accuracy for train set:  1.0\n",
      "Random forest accuracy for test set:  0.5644499178981938\n",
      "Training a RandomForestClassifier with PCA...\n",
      "Trained RandomForestClassifier in 6.6 minutes\n",
      "Calibrating probabilities of classifier...\n",
      "Calibrated CalibratedClassifierCV in 0.0 minutes\n",
      "Made predictions in 0.4607 seconds\n",
      "Score of CalibratedClassifierCV for training set: 0.9996.\n",
      "Made predictions in 0.1655 seconds\n",
      "Score of CalibratedClassifierCV for test set: 0.5722.\n",
      "Made predictions in 0.4622 seconds\n",
      "Made predictions in 0.1702 seconds\n"
     ]
    }
   ],
   "source": [
    "from utils.data_processing import train_calibrate_predict\n",
    "\n",
    "cross_validation_sets = model_selection.StratifiedShuffleSplit(n_splits = 5, test_size = 0.20, random_state = 5)\n",
    "cross_validation_sets.get_n_splits(X_train, y_train)\n",
    "\n",
    "random_forest = RandomForestClassifier(n_estimators = 200, random_state = 42, class_weight ='balanced')\n",
    "\n",
    "feature_len = features.shape[1]\n",
    "scorer = make_scorer(accuracy_score)\n",
    "parameters_RF = {\n",
    "    'clf__max_features': ['auto', 'log2'],\n",
    "    'dm_reduce__n_components': np.arange(5, feature_len, int(np.around(feature_len/5)))\n",
    "}\n",
    "\n",
    "pca = PCA()\n",
    "random_forest.fit(X_train, y_train)\n",
    "\n",
    "print(\"Random forest accuracy for train set: \", accuracy_score(y_train, random_forest.predict(X_train)))\n",
    "print(\"Random forest accuracy for test set: \", accuracy_score(y_test, random_forest.predict(X_test)))\n",
    "\n",
    "#Grid search, calibrate, and test the classifier\n",
    "calibrated_random_forest, dm_reduce, train_score, test_score = train_calibrate_predict(clf = random_forest, dm_reduction = pca, X_train = X_train, y_train = y_train,\n",
    "                                                                                X_calibrate = X_calibrate, y_calibrate = y_calibrate,\n",
    "                                                                                X_test = X_test, y_test = y_test, cv_sets = cross_validation_sets,\n",
    "                                                                                params = parameters_RF, scorer = scorer, jobs = 1, use_grid_search = True)\n"
   ]
  },
  {
   "cell_type": "code",
   "execution_count": 135,
   "metadata": {},
   "outputs": [
    {
     "name": "stdout",
     "output_type": "stream",
     "text": [
      "Random forest test set accuracy: 0.5644499178981938\n"
     ]
    }
   ],
   "source": [
    "rf_predictions = random_forest.predict(X_test)\n",
    "\n",
    "# Calculate accuracy\n",
    "accuracy = (rf_predictions == y_test).mean()\n",
    "print(\"Random forest test set accuracy:\", accuracy)"
   ]
  },
  {
   "cell_type": "code",
   "execution_count": 136,
   "metadata": {},
   "outputs": [
    {
     "name": "stdout",
     "output_type": "stream",
     "text": [
      "Random forest confusion matrix: \n",
      "                    Home wins (pred)  Draw (pred)  Home loses (pred)\n",
      "Home wins (true)               1531          377                329\n",
      "Draw (true)                     396          504                330\n",
      "Home loses (true)               369          321                715\n"
     ]
    }
   ],
   "source": [
    "print(\"Random forest confusion matrix: \\n\", build_confusion_matrix(y_test, rf_predictions))"
   ]
  },
  {
   "cell_type": "markdown",
   "metadata": {},
   "source": [
    "# Conclusion"
   ]
  },
  {
   "cell_type": "markdown",
   "metadata": {},
   "source": [
    "Random Forest Classifier is more effective in predicting football games"
   ]
  },
  {
   "cell_type": "code",
   "execution_count": 137,
   "metadata": {},
   "outputs": [],
   "source": [
    "model.save('neural_network.h5')"
   ]
  },
  {
   "cell_type": "code",
   "execution_count": 138,
   "metadata": {},
   "outputs": [
    {
     "data": {
      "text/plain": [
       "['Random_forest.joblib']"
      ]
     },
     "execution_count": 138,
     "metadata": {},
     "output_type": "execute_result"
    }
   ],
   "source": [
    "from joblib import dump, load\n",
    "\n",
    "dump(random_forest, 'Random_forest.joblib') "
   ]
  },
  {
   "cell_type": "code",
   "execution_count": null,
   "metadata": {},
   "outputs": [],
   "source": []
  }
 ],
 "metadata": {
  "kernelspec": {
   "display_name": "Python 3",
   "language": "python",
   "name": "python3"
  },
  "language_info": {
   "codemirror_mode": {
    "name": "ipython",
    "version": 3
   },
   "file_extension": ".py",
   "mimetype": "text/x-python",
   "name": "python",
   "nbconvert_exporter": "python",
   "pygments_lexer": "ipython3",
   "version": "3.7.7"
  }
 },
 "nbformat": 4,
 "nbformat_minor": 2
}
