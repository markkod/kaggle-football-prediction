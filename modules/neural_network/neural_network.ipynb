{
 "cells": [
  {
   "cell_type": "markdown",
   "metadata": {},
   "source": [
    "# Neural network"
   ]
  },
  {
   "cell_type": "markdown",
   "metadata": {},
   "source": [
    "### Try to use our own preprocessing"
   ]
  },
  {
   "cell_type": "code",
   "execution_count": 19,
   "metadata": {},
   "outputs": [
    {
     "name": "stdout",
     "output_type": "stream",
     "text": [
      "Done\n"
     ]
    }
   ],
   "source": [
    "import os\n",
    "import sys\n",
    "module_path = os.path.abspath(os.path.join('..'))\n",
    "if module_path not in sys.path:\n",
    "    sys.path.append(module_path)\n",
    "\n",
    "import sqlite3\n",
    "import pandas as pd\n",
    "import numpy as np\n",
    "from sklearn.ensemble import RandomForestClassifier\n",
    "from sklearn.metrics import accuracy_score\n",
    "from sklearn import model_selection\n",
    "from sklearn.model_selection import train_test_split\n",
    "from sklearn.metrics import make_scorer\n",
    "from time import time\n",
    "from sklearn.decomposition import PCA\n",
    "import warnings\n",
    "from pathlib import Path\n",
    "\n",
    "from utils.data_processing import create_feables\n",
    "from utils.data_processing import confusion_matrix\n",
    "\n",
    "warnings.simplefilter(\"ignore\")\n",
    "\n",
    "# You should run the ../../data_preprocessing.ipynb notebook to generate the data before running this\n",
    "data = pd.read_csv(\"../../datasets/data.csv\")\n",
    "# data = data.tail(1000)\n",
    "\n",
    "def normalize_bk_coefs(row, coef_name):\n",
    "    keys = ['H', 'A', 'D']\n",
    "    total = 0\n",
    "    for key in keys:\n",
    "        total += row[coef_name+key]\n",
    "    \n",
    "    for key in keys:\n",
    "        row[coef_name+key] = row[coef_name+key] / total\n",
    "    \n",
    "    return row\n",
    "\n",
    "# Normalize coefs\n",
    "bk = [\"B365\", \"BW\", \"IW\", \"LB\", \"WH\", \"VC\"]\n",
    "for coef_name in bk:\n",
    "    data = data.apply(lambda row: normalize_bk_coefs(row, coef_name), axis=1)\n",
    "\n",
    "\n",
    "labels = data.loc[:,'label']\n",
    "features = data.drop('label', axis = 1)\n",
    "\n",
    "print('Done')"
   ]
  },
  {
   "cell_type": "markdown",
   "metadata": {},
   "source": [
    "### Train test split with the test set being the results of the last 3 months. "
   ]
  },
  {
   "cell_type": "code",
   "execution_count": 20,
   "metadata": {},
   "outputs": [],
   "source": [
    "data = data.sort_values(['season', 'month'], ascending=(True, True))\n",
    "test = data[(data['season'] == 2015) & (data['month'] > 8)]\n",
    "\n",
    "y_test = test.loc[:, 'label']\n",
    "X_test = test.drop('label', axis=1)\n",
    "\n",
    "train = data[~data.isin(test)].dropna(how = 'all')\n",
    "y_train = data.loc[:, 'label']\n",
    "X_train = data.drop('label', axis=1)"
   ]
  },
  {
   "cell_type": "code",
   "execution_count": 21,
   "metadata": {},
   "outputs": [
    {
     "data": {
      "text/html": [
       "<div>\n",
       "<style scoped>\n",
       "    .dataframe tbody tr th:only-of-type {\n",
       "        vertical-align: middle;\n",
       "    }\n",
       "\n",
       "    .dataframe tbody tr th {\n",
       "        vertical-align: top;\n",
       "    }\n",
       "\n",
       "    .dataframe thead th {\n",
       "        text-align: right;\n",
       "    }\n",
       "</style>\n",
       "<table border=\"1\" class=\"dataframe\">\n",
       "  <thead>\n",
       "    <tr style=\"text-align: right;\">\n",
       "      <th></th>\n",
       "      <th>Unnamed: 0</th>\n",
       "      <th>season</th>\n",
       "      <th>month</th>\n",
       "      <th>stage</th>\n",
       "      <th>home_defencePressure</th>\n",
       "      <th>home_defenceAggression</th>\n",
       "      <th>home_defenceTeamWidth</th>\n",
       "      <th>away_defencePressure</th>\n",
       "      <th>away_defenceAggression</th>\n",
       "      <th>away_defenceTeamWidth</th>\n",
       "      <th>...</th>\n",
       "      <th>IWA</th>\n",
       "      <th>LBH</th>\n",
       "      <th>LBD</th>\n",
       "      <th>LBA</th>\n",
       "      <th>WHH</th>\n",
       "      <th>WHD</th>\n",
       "      <th>WHA</th>\n",
       "      <th>VCH</th>\n",
       "      <th>VCD</th>\n",
       "      <th>VCA</th>\n",
       "    </tr>\n",
       "  </thead>\n",
       "  <tbody>\n",
       "    <tr>\n",
       "      <td>2321</td>\n",
       "      <td>2363.0</td>\n",
       "      <td>2009.0</td>\n",
       "      <td>8.0</td>\n",
       "      <td>2.0</td>\n",
       "      <td>30.0</td>\n",
       "      <td>30.0</td>\n",
       "      <td>30.0</td>\n",
       "      <td>30.0</td>\n",
       "      <td>30.0</td>\n",
       "      <td>30.0</td>\n",
       "      <td>...</td>\n",
       "      <td>0.265060</td>\n",
       "      <td>0.294479</td>\n",
       "      <td>0.398773</td>\n",
       "      <td>0.306748</td>\n",
       "      <td>0.320685</td>\n",
       "      <td>0.403917</td>\n",
       "      <td>0.275398</td>\n",
       "      <td>0.324130</td>\n",
       "      <td>0.390156</td>\n",
       "      <td>0.285714</td>\n",
       "    </tr>\n",
       "    <tr>\n",
       "      <td>14423</td>\n",
       "      <td>15306.0</td>\n",
       "      <td>2009.0</td>\n",
       "      <td>8.0</td>\n",
       "      <td>4.0</td>\n",
       "      <td>40.0</td>\n",
       "      <td>50.0</td>\n",
       "      <td>40.0</td>\n",
       "      <td>30.0</td>\n",
       "      <td>40.0</td>\n",
       "      <td>50.0</td>\n",
       "      <td>...</td>\n",
       "      <td>0.404494</td>\n",
       "      <td>0.235294</td>\n",
       "      <td>0.352941</td>\n",
       "      <td>0.411765</td>\n",
       "      <td>0.242938</td>\n",
       "      <td>0.361582</td>\n",
       "      <td>0.395480</td>\n",
       "      <td>0.241379</td>\n",
       "      <td>0.367816</td>\n",
       "      <td>0.390805</td>\n",
       "    </tr>\n",
       "    <tr>\n",
       "      <td>7731</td>\n",
       "      <td>8229.0</td>\n",
       "      <td>2012.0</td>\n",
       "      <td>11.0</td>\n",
       "      <td>14.0</td>\n",
       "      <td>65.0</td>\n",
       "      <td>50.0</td>\n",
       "      <td>60.0</td>\n",
       "      <td>45.0</td>\n",
       "      <td>55.0</td>\n",
       "      <td>45.0</td>\n",
       "      <td>...</td>\n",
       "      <td>0.504673</td>\n",
       "      <td>0.141825</td>\n",
       "      <td>0.361337</td>\n",
       "      <td>0.496838</td>\n",
       "      <td>0.141825</td>\n",
       "      <td>0.361337</td>\n",
       "      <td>0.496838</td>\n",
       "      <td>0.153153</td>\n",
       "      <td>0.360360</td>\n",
       "      <td>0.486486</td>\n",
       "    </tr>\n",
       "    <tr>\n",
       "      <td>16078</td>\n",
       "      <td>17082.0</td>\n",
       "      <td>2013.0</td>\n",
       "      <td>4.0</td>\n",
       "      <td>33.0</td>\n",
       "      <td>60.0</td>\n",
       "      <td>70.0</td>\n",
       "      <td>70.0</td>\n",
       "      <td>60.0</td>\n",
       "      <td>70.0</td>\n",
       "      <td>70.0</td>\n",
       "      <td>...</td>\n",
       "      <td>0.235294</td>\n",
       "      <td>0.402235</td>\n",
       "      <td>0.368715</td>\n",
       "      <td>0.229050</td>\n",
       "      <td>0.417582</td>\n",
       "      <td>0.357143</td>\n",
       "      <td>0.225275</td>\n",
       "      <td>0.414894</td>\n",
       "      <td>0.372340</td>\n",
       "      <td>0.212766</td>\n",
       "    </tr>\n",
       "    <tr>\n",
       "      <td>505</td>\n",
       "      <td>537.0</td>\n",
       "      <td>2010.0</td>\n",
       "      <td>9.0</td>\n",
       "      <td>7.0</td>\n",
       "      <td>70.0</td>\n",
       "      <td>50.0</td>\n",
       "      <td>70.0</td>\n",
       "      <td>60.0</td>\n",
       "      <td>60.0</td>\n",
       "      <td>65.0</td>\n",
       "      <td>...</td>\n",
       "      <td>0.566802</td>\n",
       "      <td>0.093546</td>\n",
       "      <td>0.326323</td>\n",
       "      <td>0.580131</td>\n",
       "      <td>0.085487</td>\n",
       "      <td>0.318091</td>\n",
       "      <td>0.596421</td>\n",
       "      <td>0.079755</td>\n",
       "      <td>0.306748</td>\n",
       "      <td>0.613497</td>\n",
       "    </tr>\n",
       "  </tbody>\n",
       "</table>\n",
       "<p>5 rows × 31 columns</p>\n",
       "</div>"
      ],
      "text/plain": [
       "       Unnamed: 0  season  month  stage  home_defencePressure  \\\n",
       "2321       2363.0  2009.0    8.0    2.0                  30.0   \n",
       "14423     15306.0  2009.0    8.0    4.0                  40.0   \n",
       "7731       8229.0  2012.0   11.0   14.0                  65.0   \n",
       "16078     17082.0  2013.0    4.0   33.0                  60.0   \n",
       "505         537.0  2010.0    9.0    7.0                  70.0   \n",
       "\n",
       "       home_defenceAggression  home_defenceTeamWidth  away_defencePressure  \\\n",
       "2321                     30.0                   30.0                  30.0   \n",
       "14423                    50.0                   40.0                  30.0   \n",
       "7731                     50.0                   60.0                  45.0   \n",
       "16078                    70.0                   70.0                  60.0   \n",
       "505                      50.0                   70.0                  60.0   \n",
       "\n",
       "       away_defenceAggression  away_defenceTeamWidth  ...       IWA       LBH  \\\n",
       "2321                     30.0                   30.0  ...  0.265060  0.294479   \n",
       "14423                    40.0                   50.0  ...  0.404494  0.235294   \n",
       "7731                     55.0                   45.0  ...  0.504673  0.141825   \n",
       "16078                    70.0                   70.0  ...  0.235294  0.402235   \n",
       "505                      60.0                   65.0  ...  0.566802  0.093546   \n",
       "\n",
       "            LBD       LBA       WHH       WHD       WHA       VCH       VCD  \\\n",
       "2321   0.398773  0.306748  0.320685  0.403917  0.275398  0.324130  0.390156   \n",
       "14423  0.352941  0.411765  0.242938  0.361582  0.395480  0.241379  0.367816   \n",
       "7731   0.361337  0.496838  0.141825  0.361337  0.496838  0.153153  0.360360   \n",
       "16078  0.368715  0.229050  0.417582  0.357143  0.225275  0.414894  0.372340   \n",
       "505    0.326323  0.580131  0.085487  0.318091  0.596421  0.079755  0.306748   \n",
       "\n",
       "            VCA  \n",
       "2321   0.285714  \n",
       "14423  0.390805  \n",
       "7731   0.486486  \n",
       "16078  0.212766  \n",
       "505    0.613497  \n",
       "\n",
       "[5 rows x 31 columns]"
      ]
     },
     "execution_count": 21,
     "metadata": {},
     "output_type": "execute_result"
    }
   ],
   "source": [
    "from sklearn.model_selection import train_test_split\n",
    "#Splitting the data into train, test\n",
    "X_train, X_test, y_train, y_test = train_test_split(features, labels, test_size = 0.25, random_state = 42, shuffle = True, stratify = labels)\n",
    "\n",
    "# Show some rows of the data\n",
    "X_train.head()"
   ]
  },
  {
   "cell_type": "code",
   "execution_count": 22,
   "metadata": {},
   "outputs": [
    {
     "name": "stdout",
     "output_type": "stream",
     "text": [
      "Number of wins in test set: 2237\n",
      "Number of draws in test set: 1230\n",
      "Number of defeats in test set: 1405\n"
     ]
    }
   ],
   "source": [
    "print(\"Number of wins in test set:\", np.sum(y_test == 2))\n",
    "print(\"Number of draws in test set:\", np.sum(y_test == 1))\n",
    "print(\"Number of defeats in test set:\", np.sum(y_test == 0))"
   ]
  },
  {
   "cell_type": "code",
   "execution_count": 23,
   "metadata": {},
   "outputs": [
    {
     "name": "stdout",
     "output_type": "stream",
     "text": [
      "Number of possible outcomes 3\n",
      "Labels: [0. 1. 2.]\n"
     ]
    }
   ],
   "source": [
    "# Match outcome\n",
    "y_train.head()\n",
    "\n",
    "# Number of possible outcomes\n",
    "# 2 = win\n",
    "# 1 = draw\n",
    "# 0 = lose\n",
    "print('Number of possible outcomes', np.unique(y_train.values).shape[0])\n",
    "labels = np.unique(y_train.values)\n",
    "print(\"Labels:\", labels)\n"
   ]
  },
  {
   "cell_type": "code",
   "execution_count": 24,
   "metadata": {},
   "outputs": [
    {
     "name": "stdout",
     "output_type": "stream",
     "text": [
      "Number of columns: 31\n"
     ]
    }
   ],
   "source": [
    "# Get number of columns by getting the number of columns in the X_train\n",
    "columns = X_train.shape[1]\n",
    "print('Number of columns:', columns)"
   ]
  },
  {
   "cell_type": "code",
   "execution_count": 25,
   "metadata": {},
   "outputs": [
    {
     "data": {
      "image/png": "[encoded data removed]",
      "text/plain": [
       "<Figure size 432x288 with 1 Axes>"
      ]
     },
     "metadata": {
      "needs_background": "light"
     },
     "output_type": "display_data"
    }
   ],
   "source": [
    "import matplotlib.pyplot as plt\n",
    "\n",
    "# Plot the distribution of labels in the train data\n",
    "def plot_labels_histogram(data):\n",
    "    plt.hist(data, facecolor='purple', align='mid')\n",
    "    plt.ylabel('Number of instances')\n",
    "    plt.xlabel('0 - defeat, 1 - tie, 2 - win')\n",
    "    plt.title(\"Label distribution\")\n",
    "    \n",
    "plot_labels_histogram(y_train)"
   ]
  },
  {
   "cell_type": "code",
   "execution_count": 26,
   "metadata": {},
   "outputs": [
    {
     "data": {
      "image/png": "[encoded data removed]",
      "text/plain": [
       "<Figure size 432x288 with 1 Axes>"
      ]
     },
     "metadata": {
      "needs_background": "light"
     },
     "output_type": "display_data"
    }
   ],
   "source": [
    "from imblearn.over_sampling import RandomOverSampler\n",
    "\n",
    "# Since the train data is uneven and the dataset is not \"huge\" we need to upsamle/oversample\n",
    "sampler = RandomOverSampler()\n",
    "X_train_sampled, y_train_sampled = sampler.fit_sample(X_train, y_train)\n",
    "\n",
    "# Plot the oversampled train set\n",
    "plot_labels_histogram(y_train_sampled)"
   ]
  },
  {
   "cell_type": "code",
   "execution_count": 27,
   "metadata": {},
   "outputs": [
    {
     "data": {
      "image/png": "[encoded data removed]",
      "text/plain": [
       "<Figure size 432x288 with 1 Axes>"
      ]
     },
     "metadata": {
      "needs_background": "light"
     },
     "output_type": "display_data"
    }
   ],
   "source": [
    "from sklearn.utils import shuffle\n",
    "\n",
    "# Assign train values with the new sampled data\n",
    "X_train, y_train = shuffle(X_train_sampled, y_train_sampled, random_state=42)\n",
    "\n",
    "plot_labels_histogram(y_train)"
   ]
  },
  {
   "cell_type": "code",
   "execution_count": 28,
   "metadata": {},
   "outputs": [],
   "source": [
    "from keras.models import Model, Sequential\n",
    "from keras.layers import Input, Activation, Flatten, Dense, Dropout\n",
    "from keras.optimizers import SGD, Adam\n",
    "from keras import regularizers\n",
    "\n",
    "def create_model(learning_rate=1e-5, dropout_rate=0.1):\n",
    "    model = Sequential() \n",
    "    model.add(Dense(64, input_dim=columns, activation='tanh', kernel_regularizer='l2'))\n",
    "    #model.add(Dropout(dropout_rate))\n",
    "    #model.add(Dense(16, activation='relu', kernel_regularizer='l2'))\n",
    "    model.add(Dropout(dropout_rate))\n",
    "    #model.add(Dense(16, activation='relu', kernel_regularizer='l2'))\n",
    "    #model.add(Dense(8, inputactivation='tanh', kernel_regularizer='l2'))\n",
    "    model.add(Dense(3, activation='softmax'))\n",
    "    model.compile(loss='categorical_crossentropy', optimizer=Adam(lr=learning_rate), metrics=['accuracy'])\n",
    "    return model"
   ]
  },
  {
   "cell_type": "code",
   "execution_count": 29,
   "metadata": {},
   "outputs": [
    {
     "name": "stdout",
     "output_type": "stream",
     "text": [
      "Unique labels in the train set:  [0. 1. 2.]\n",
      "Unique labels in the train set after encoding:  [[0. 0. 1.]\n",
      " [0. 1. 0.]\n",
      " [1. 0. 0.]]\n",
      "------------------------------------------------------------------------------ \n",
      "\n"
     ]
    }
   ],
   "source": [
    "from keras.utils.np_utils import to_categorical\n",
    "\n",
    "# Convert a class vector (integers) to binary class matrix.\n",
    "print(\"Unique labels in the train set: \", np.unique(y_train))\n",
    "# One hot encoding\n",
    "y_train_categorical = to_categorical(y_train, num_classes=len(labels))\n",
    "print(\"Unique labels in the train set after encoding: \", np.unique(y_train_categorical, axis=0))\n",
    "\n",
    "print(\"------------------------------------------------------------------------------ \\n\")\n"
   ]
  },
  {
   "cell_type": "code",
   "execution_count": 30,
   "metadata": {},
   "outputs": [
    {
     "name": "stdout",
     "output_type": "stream",
     "text": [
      "Learning rate: 0.001, Dropout rate: 0.05\n",
      "Accuracy: 0.34150245785713196, Validation accuracy: 0.34773969650268555\n",
      "Test set accuracy: 0.257183908045977\n",
      "Learning rate: 0.001, Dropout rate: 0.1\n",
      "Accuracy: 0.3442623019218445, Validation accuracy: 0.34773969650268555\n",
      "Test set accuracy: 0.2883825944170772\n",
      "Learning rate: 0.001, Dropout rate: 0.2\n",
      "Accuracy: 0.34420710802078247, Validation accuracy: 0.34972676634788513\n",
      "Test set accuracy: 0.2883825944170772\n",
      "Learning rate: 0.005, Dropout rate: 0.05\n",
      "Accuracy: 0.34608379006385803, Validation accuracy: 0.34873324632644653\n",
      "Test set accuracy: 0.458128078817734\n",
      "Learning rate: 0.005, Dropout rate: 0.1\n",
      "Accuracy: 0.34348952770233154, Validation accuracy: 0.34823647141456604\n",
      "Test set accuracy: 0.4591543513957307\n",
      "Learning rate: 0.005, Dropout rate: 0.2\n",
      "Accuracy: 0.34514543414115906, Validation accuracy: 0.34773969650268555\n",
      "Test set accuracy: 0.2883825944170772\n",
      "Learning rate: 0.0001, Dropout rate: 0.05\n",
      "Accuracy: 0.3496715724468231, Validation accuracy: 0.35767510533332825\n",
      "Test set accuracy: 0.2928981937602627\n",
      "Learning rate: 0.0001, Dropout rate: 0.1\n",
      "Accuracy: 0.3475188910961151, Validation accuracy: 0.3546944856643677\n",
      "Test set accuracy: 0.30500821018062396\n",
      "Learning rate: 0.0001, Dropout rate: 0.2\n",
      "Accuracy: 0.35198983550071716, Validation accuracy: 0.3541977107524872\n",
      "Test set accuracy: 0.27586206896551724\n",
      "Learning rate: 0.0005, Dropout rate: 0.05\n",
      "Accuracy: 0.3468565344810486, Validation accuracy: 0.3537009358406067\n",
      "Test set accuracy: 0.2883825944170772\n",
      "Learning rate: 0.0005, Dropout rate: 0.1\n",
      "Accuracy: 0.3469669222831726, Validation accuracy: 0.3537009358406067\n",
      "Test set accuracy: 0.44232348111658454\n",
      "Learning rate: 0.0005, Dropout rate: 0.2\n",
      "Accuracy: 0.347077339887619, Validation accuracy: 0.3527074158191681\n",
      "Test set accuracy: 0.2883825944170772\n",
      "Learning rate: 1e-05, Dropout rate: 0.05\n",
      "Accuracy: 0.4419053792953491, Validation accuracy: 0.4744162857532501\n",
      "Test set accuracy: 0.45935960591133007\n",
      "Learning rate: 1e-05, Dropout rate: 0.1\n",
      "Accuracy: 0.4472042918205261, Validation accuracy: 0.4749130606651306\n",
      "Test set accuracy: 0.43329228243021345\n",
      "Learning rate: 1e-05, Dropout rate: 0.2\n",
      "Accuracy: 0.44786664843559265, Validation accuracy: 0.496770977973938\n",
      "Test set accuracy: 0.5445402298850575\n",
      "Learning rate: 1e-06, Dropout rate: 0.05\n",
      "Accuracy: 0.3402329385280609, Validation accuracy: 0.35519126057624817\n",
      "Test set accuracy: 0.3864942528735632\n",
      "Learning rate: 1e-06, Dropout rate: 0.1\n",
      "Accuracy: 0.34299278259277344, Validation accuracy: 0.32886239886283875\n",
      "Test set accuracy: 0.3023399014778325\n",
      "Learning rate: 1e-06, Dropout rate: 0.2\n",
      "Accuracy: 0.3512170910835266, Validation accuracy: 0.34624937176704407\n",
      "Test set accuracy: 0.3891625615763547\n"
     ]
    }
   ],
   "source": [
    "learning_rates = [1e-3, 5e-3, 1e-4, 5e-4, 1e-5, 1e-6]\n",
    "dropout_rates = [0.05, 0.1, 0.2]\n",
    "\n",
    "best_lr = None\n",
    "best_dr = None\n",
    "\n",
    "best_val_acc = 0\n",
    "best_model = None\n",
    "for lr in learning_rates:\n",
    "    for dr in dropout_rates:\n",
    "        print('Learning rate: {0}, Dropout rate: {1}'.format(lr, dr))\n",
    "        model = create_model(lr, dr)\n",
    "        history = model.fit(\n",
    "            X_train,\n",
    "            y_train_categorical,\n",
    "            epochs=100,\n",
    "            validation_split=0.1,\n",
    "            verbose=0)\n",
    "        val_acc = max(history.history['val_accuracy'])\n",
    "        acc = max(history.history['accuracy'])\n",
    "        print('Accuracy: {0}, Validation accuracy: {1}'.format(acc, val_acc))\n",
    "        predictions = np.argmax(model.predict(X_test), axis=1)\n",
    "        #print(np.unique(predictions))\n",
    "        # Calculate accuracy\n",
    "        accuracy = (predictions == y_test).mean()\n",
    "        print(\"Test set accuracy:\", accuracy)\n",
    "        \n",
    "        if val_acc > best_val_acc:\n",
    "            best_val_acc = val_acc\n",
    "            best_lr = lr\n",
    "            best_dr = dr\n",
    "            best_model = model\n",
    "            \n",
    "            \n",
    "\n",
    "print('Done')\n",
    "        \n",
    "        "
   ]
  },
  {
   "cell_type": "code",
   "execution_count": 33,
   "metadata": {},
   "outputs": [
    {
     "data": {
      "text/plain": [
       "1e-05"
      ]
     },
     "execution_count": 33,
     "metadata": {},
     "output_type": "execute_result"
    }
   ],
   "source": [
    "best_lr"
   ]
  },
  {
   "cell_type": "code",
   "execution_count": 34,
   "metadata": {},
   "outputs": [
    {
     "data": {
      "text/plain": [
       "0.2"
      ]
     },
     "execution_count": 34,
     "metadata": {},
     "output_type": "execute_result"
    }
   ],
   "source": [
    "best_dr"
   ]
  },
  {
   "cell_type": "code",
   "execution_count": 36,
   "metadata": {},
   "outputs": [
    {
     "name": "stdout",
     "output_type": "stream",
     "text": [
      "Train on 18117 samples, validate on 2013 samples\n",
      "Epoch 1/100\n",
      "18117/18117 [==============================] - 1s 36us/step - loss: 1.8940 - accuracy: 0.3353 - val_loss: 1.7064 - val_accuracy: 0.3388\n",
      "Epoch 2/100\n",
      "18117/18117 [==============================] - 1s 31us/step - loss: 1.7790 - accuracy: 0.3364 - val_loss: 1.6001 - val_accuracy: 0.3403\n",
      "Epoch 3/100\n",
      "18117/18117 [==============================] - 1s 28us/step - loss: 1.6931 - accuracy: 0.3370 - val_loss: 1.5333 - val_accuracy: 0.3448\n",
      "Epoch 4/100\n",
      "18117/18117 [==============================] - 0s 27us/step - loss: 1.6485 - accuracy: 0.3421 - val_loss: 1.4917 - val_accuracy: 0.3497\n",
      "Epoch 5/100\n",
      "18117/18117 [==============================] - 1s 28us/step - loss: 1.6140 - accuracy: 0.3352 - val_loss: 1.4620 - val_accuracy: 0.3353\n",
      "Epoch 6/100\n",
      "18117/18117 [==============================] - 0s 27us/step - loss: 1.5934 - accuracy: 0.3305 - val_loss: 1.4385 - val_accuracy: 0.3363\n",
      "Epoch 7/100\n",
      "18117/18117 [==============================] - 1s 28us/step - loss: 1.5621 - accuracy: 0.3357 - val_loss: 1.4164 - val_accuracy: 0.3328\n",
      "Epoch 8/100\n",
      "18117/18117 [==============================] - 0s 27us/step - loss: 1.5416 - accuracy: 0.3336 - val_loss: 1.3953 - val_accuracy: 0.3269\n",
      "Epoch 9/100\n",
      "18117/18117 [==============================] - 0s 27us/step - loss: 1.5178 - accuracy: 0.3396 - val_loss: 1.3759 - val_accuracy: 0.3254\n",
      "Epoch 10/100\n",
      "18117/18117 [==============================] - 1s 28us/step - loss: 1.4961 - accuracy: 0.3371 - val_loss: 1.3574 - val_accuracy: 0.3219\n",
      "Epoch 11/100\n",
      "18117/18117 [==============================] - 0s 27us/step - loss: 1.4801 - accuracy: 0.3445 - val_loss: 1.3383 - val_accuracy: 0.3284\n",
      "Epoch 12/100\n",
      "18117/18117 [==============================] - 1s 28us/step - loss: 1.4578 - accuracy: 0.3375 - val_loss: 1.3192 - val_accuracy: 0.3259\n",
      "Epoch 13/100\n",
      "18117/18117 [==============================] - 0s 27us/step - loss: 1.4411 - accuracy: 0.3368 - val_loss: 1.3040 - val_accuracy: 0.3269\n",
      "Epoch 14/100\n",
      "18117/18117 [==============================] - 0s 27us/step - loss: 1.4359 - accuracy: 0.3325 - val_loss: 1.2900 - val_accuracy: 0.3304\n",
      "Epoch 15/100\n",
      "18117/18117 [==============================] - 0s 27us/step - loss: 1.4091 - accuracy: 0.3400 - val_loss: 1.2779 - val_accuracy: 0.3299\n",
      "Epoch 16/100\n",
      "18117/18117 [==============================] - 1s 28us/step - loss: 1.4016 - accuracy: 0.3313 - val_loss: 1.2657 - val_accuracy: 0.3294\n",
      "Epoch 17/100\n",
      "18117/18117 [==============================] - 1s 28us/step - loss: 1.3837 - accuracy: 0.3370 - val_loss: 1.2558 - val_accuracy: 0.3289\n",
      "Epoch 18/100\n",
      "18117/18117 [==============================] - 1s 29us/step - loss: 1.3784 - accuracy: 0.3413 - val_loss: 1.2458 - val_accuracy: 0.3289\n",
      "Epoch 19/100\n",
      "18117/18117 [==============================] - 0s 27us/step - loss: 1.3689 - accuracy: 0.3326 - val_loss: 1.2354 - val_accuracy: 0.3284\n",
      "Epoch 20/100\n",
      "18117/18117 [==============================] - 1s 28us/step - loss: 1.3538 - accuracy: 0.3355 - val_loss: 1.2265 - val_accuracy: 0.3289\n",
      "Epoch 21/100\n",
      "18117/18117 [==============================] - 0s 27us/step - loss: 1.3502 - accuracy: 0.3320 - val_loss: 1.2177 - val_accuracy: 0.3299\n",
      "Epoch 22/100\n",
      "18117/18117 [==============================] - 0s 26us/step - loss: 1.3444 - accuracy: 0.3341 - val_loss: 1.2103 - val_accuracy: 0.3284\n",
      "Epoch 23/100\n",
      "18117/18117 [==============================] - 0s 27us/step - loss: 1.3261 - accuracy: 0.3401 - val_loss: 1.2032 - val_accuracy: 0.3279\n",
      "Epoch 24/100\n",
      "18117/18117 [==============================] - 0s 27us/step - loss: 1.3196 - accuracy: 0.3387 - val_loss: 1.1970 - val_accuracy: 0.3289\n",
      "Epoch 25/100\n",
      "18117/18117 [==============================] - 0s 26us/step - loss: 1.3097 - accuracy: 0.3396 - val_loss: 1.1905 - val_accuracy: 0.3259\n",
      "Epoch 26/100\n",
      "18117/18117 [==============================] - 0s 26us/step - loss: 1.3032 - accuracy: 0.3373 - val_loss: 1.1850 - val_accuracy: 0.3244\n",
      "Epoch 27/100\n",
      "18117/18117 [==============================] - 0s 27us/step - loss: 1.2948 - accuracy: 0.3401 - val_loss: 1.1798 - val_accuracy: 0.3398\n",
      "Epoch 28/100\n",
      "18117/18117 [==============================] - 1s 28us/step - loss: 1.2896 - accuracy: 0.3401 - val_loss: 1.1744 - val_accuracy: 0.3477\n",
      "Epoch 29/100\n",
      "18117/18117 [==============================] - 0s 27us/step - loss: 1.2860 - accuracy: 0.3401 - val_loss: 1.1704 - val_accuracy: 0.3373\n",
      "Epoch 30/100\n",
      "18117/18117 [==============================] - 1s 32us/step - loss: 1.2838 - accuracy: 0.3387 - val_loss: 1.1666 - val_accuracy: 0.3318\n",
      "Epoch 31/100\n",
      "18117/18117 [==============================] - 1s 29us/step - loss: 1.2745 - accuracy: 0.3358 - val_loss: 1.1633 - val_accuracy: 0.3304\n",
      "Epoch 32/100\n",
      "18117/18117 [==============================] - 0s 26us/step - loss: 1.2688 - accuracy: 0.3380 - val_loss: 1.1593 - val_accuracy: 0.3532\n",
      "Epoch 33/100\n",
      "18117/18117 [==============================] - 1s 29us/step - loss: 1.2699 - accuracy: 0.3388 - val_loss: 1.1567 - val_accuracy: 0.3477\n",
      "Epoch 34/100\n",
      "18117/18117 [==============================] - 0s 27us/step - loss: 1.2548 - accuracy: 0.3421 - val_loss: 1.1545 - val_accuracy: 0.3438\n",
      "Epoch 35/100\n",
      "18117/18117 [==============================] - 0s 26us/step - loss: 1.2607 - accuracy: 0.3335 - val_loss: 1.1502 - val_accuracy: 0.3527\n",
      "Epoch 36/100\n",
      "18117/18117 [==============================] - 1s 28us/step - loss: 1.2488 - accuracy: 0.3440 - val_loss: 1.1479 - val_accuracy: 0.3443\n",
      "Epoch 37/100\n",
      "18117/18117 [==============================] - 0s 26us/step - loss: 1.2541 - accuracy: 0.3332 - val_loss: 1.1462 - val_accuracy: 0.3507\n",
      "Epoch 38/100\n",
      "18117/18117 [==============================] - 0s 27us/step - loss: 1.2506 - accuracy: 0.3410 - val_loss: 1.1454 - val_accuracy: 0.3487\n",
      "Epoch 39/100\n",
      "18117/18117 [==============================] - 0s 26us/step - loss: 1.2521 - accuracy: 0.3328 - val_loss: 1.1442 - val_accuracy: 0.3393\n",
      "Epoch 40/100\n",
      "18117/18117 [==============================] - 1s 28us/step - loss: 1.2453 - accuracy: 0.3396 - val_loss: 1.1430 - val_accuracy: 0.3418\n",
      "Epoch 41/100\n",
      "18117/18117 [==============================] - 1s 28us/step - loss: 1.2361 - accuracy: 0.3433 - val_loss: 1.1421 - val_accuracy: 0.3443\n",
      "Epoch 42/100\n",
      "18117/18117 [==============================] - 1s 30us/step - loss: 1.2444 - accuracy: 0.3371 - val_loss: 1.1408 - val_accuracy: 0.3507\n",
      "Epoch 43/100\n",
      "18117/18117 [==============================] - 1s 32us/step - loss: 1.2461 - accuracy: 0.3346 - val_loss: 1.1401 - val_accuracy: 0.3557\n",
      "Epoch 44/100\n",
      "18117/18117 [==============================] - 1s 29us/step - loss: 1.2359 - accuracy: 0.3383 - val_loss: 1.1402 - val_accuracy: 0.3358\n",
      "Epoch 45/100\n",
      "18117/18117 [==============================] - 0s 28us/step - loss: 1.2318 - accuracy: 0.3450 - val_loss: 1.1393 - val_accuracy: 0.3408\n",
      "Epoch 46/100\n",
      "18117/18117 [==============================] - 0s 27us/step - loss: 1.2335 - accuracy: 0.3386 - val_loss: 1.1382 - val_accuracy: 0.3433\n",
      "Epoch 47/100\n",
      "18117/18117 [==============================] - 1s 28us/step - loss: 1.2364 - accuracy: 0.3364 - val_loss: 1.1370 - val_accuracy: 0.3527\n",
      "Epoch 48/100\n",
      "18117/18117 [==============================] - 1s 37us/step - loss: 1.2271 - accuracy: 0.3412 - val_loss: 1.1381 - val_accuracy: 0.3398\n",
      "Epoch 49/100\n",
      "18117/18117 [==============================] - 1s 34us/step - loss: 1.2327 - accuracy: 0.3358 - val_loss: 1.1379 - val_accuracy: 0.3358\n",
      "Epoch 50/100\n",
      "18117/18117 [==============================] - 1s 30us/step - loss: 1.2276 - accuracy: 0.3375 - val_loss: 1.1339 - val_accuracy: 0.3587\n",
      "Epoch 51/100\n",
      "18117/18117 [==============================] - 1s 29us/step - loss: 1.2221 - accuracy: 0.3443 - val_loss: 1.1337 - val_accuracy: 0.3537\n",
      "Epoch 52/100\n",
      "18117/18117 [==============================] - 0s 27us/step - loss: 1.2190 - accuracy: 0.3423 - val_loss: 1.1352 - val_accuracy: 0.3557\n",
      "Epoch 53/100\n",
      "18117/18117 [==============================] - 0s 27us/step - loss: 1.2180 - accuracy: 0.3456 - val_loss: 1.1327 - val_accuracy: 0.3472\n",
      "Epoch 54/100\n",
      "18117/18117 [==============================] - 1s 28us/step - loss: 1.2222 - accuracy: 0.3417 - val_loss: 1.1328 - val_accuracy: 0.3557\n",
      "Epoch 55/100\n",
      "18117/18117 [==============================] - 0s 27us/step - loss: 1.2218 - accuracy: 0.3386 - val_loss: 1.1345 - val_accuracy: 0.3507\n"
     ]
    },
    {
     "name": "stdout",
     "output_type": "stream",
     "text": [
      "Epoch 56/100\n",
      "18117/18117 [==============================] - 0s 26us/step - loss: 1.2203 - accuracy: 0.3410 - val_loss: 1.1322 - val_accuracy: 0.3547\n",
      "Epoch 57/100\n",
      "18117/18117 [==============================] - 0s 27us/step - loss: 1.2149 - accuracy: 0.3420 - val_loss: 1.1313 - val_accuracy: 0.3646\n",
      "Epoch 58/100\n",
      "18117/18117 [==============================] - 0s 27us/step - loss: 1.2132 - accuracy: 0.3451 - val_loss: 1.1291 - val_accuracy: 0.3701\n",
      "Epoch 59/100\n",
      "18117/18117 [==============================] - 0s 26us/step - loss: 1.2094 - accuracy: 0.3442 - val_loss: 1.1284 - val_accuracy: 0.3671\n",
      "Epoch 60/100\n",
      "18117/18117 [==============================] - 0s 26us/step - loss: 1.1987 - accuracy: 0.3502 - val_loss: 1.1307 - val_accuracy: 0.3631\n",
      "Epoch 61/100\n",
      "18117/18117 [==============================] - 0s 26us/step - loss: 1.2015 - accuracy: 0.3527 - val_loss: 1.1237 - val_accuracy: 0.3641\n",
      "Epoch 62/100\n",
      "18117/18117 [==============================] - 0s 26us/step - loss: 1.2004 - accuracy: 0.3531 - val_loss: 1.1271 - val_accuracy: 0.3656\n",
      "Epoch 63/100\n",
      "18117/18117 [==============================] - 0s 26us/step - loss: 1.1889 - accuracy: 0.3608 - val_loss: 1.1214 - val_accuracy: 0.3974\n",
      "Epoch 64/100\n",
      "18117/18117 [==============================] - 0s 26us/step - loss: 1.1971 - accuracy: 0.3504 - val_loss: 1.1205 - val_accuracy: 0.3835\n",
      "Epoch 65/100\n",
      "18117/18117 [==============================] - 0s 27us/step - loss: 1.1869 - accuracy: 0.3566 - val_loss: 1.1210 - val_accuracy: 0.3865\n",
      "Epoch 66/100\n",
      "18117/18117 [==============================] - 0s 26us/step - loss: 1.1837 - accuracy: 0.3637 - val_loss: 1.1154 - val_accuracy: 0.3890\n",
      "Epoch 67/100\n",
      "18117/18117 [==============================] - 0s 27us/step - loss: 1.1842 - accuracy: 0.3634 - val_loss: 1.1197 - val_accuracy: 0.3696\n",
      "Epoch 68/100\n",
      "18117/18117 [==============================] - 0s 26us/step - loss: 1.1779 - accuracy: 0.3668 - val_loss: 1.1421 - val_accuracy: 0.3522\n",
      "Epoch 69/100\n",
      "18117/18117 [==============================] - 0s 28us/step - loss: 1.1761 - accuracy: 0.3650 - val_loss: 1.1101 - val_accuracy: 0.3999\n",
      "Epoch 70/100\n",
      "18117/18117 [==============================] - 0s 27us/step - loss: 1.1759 - accuracy: 0.3701 - val_loss: 1.1073 - val_accuracy: 0.4014\n",
      "Epoch 71/100\n",
      "18117/18117 [==============================] - 0s 27us/step - loss: 1.1722 - accuracy: 0.3654 - val_loss: 1.1113 - val_accuracy: 0.3855\n",
      "Epoch 72/100\n",
      "18117/18117 [==============================] - 0s 26us/step - loss: 1.1701 - accuracy: 0.3753 - val_loss: 1.1108 - val_accuracy: 0.3959\n",
      "Epoch 73/100\n",
      "18117/18117 [==============================] - 0s 27us/step - loss: 1.1669 - accuracy: 0.3704 - val_loss: 1.1166 - val_accuracy: 0.4004\n",
      "Epoch 74/100\n",
      "18117/18117 [==============================] - 0s 27us/step - loss: 1.1601 - accuracy: 0.3818 - val_loss: 1.1017 - val_accuracy: 0.4138\n",
      "Epoch 75/100\n",
      "18117/18117 [==============================] - 0s 27us/step - loss: 1.1606 - accuracy: 0.3763 - val_loss: 1.1069 - val_accuracy: 0.4009\n",
      "Epoch 76/100\n",
      "18117/18117 [==============================] - 0s 27us/step - loss: 1.1586 - accuracy: 0.3787 - val_loss: 1.1100 - val_accuracy: 0.4044\n",
      "Epoch 77/100\n",
      "18117/18117 [==============================] - 0s 27us/step - loss: 1.1596 - accuracy: 0.3737 - val_loss: 1.0995 - val_accuracy: 0.4078\n",
      "Epoch 78/100\n",
      "18117/18117 [==============================] - 0s 27us/step - loss: 1.1566 - accuracy: 0.3811 - val_loss: 1.1108 - val_accuracy: 0.3905\n",
      "Epoch 79/100\n",
      "18117/18117 [==============================] - 1s 28us/step - loss: 1.1536 - accuracy: 0.3806 - val_loss: 1.0932 - val_accuracy: 0.4372\n",
      "Epoch 80/100\n",
      "18117/18117 [==============================] - 1s 28us/step - loss: 1.1499 - accuracy: 0.3934 - val_loss: 1.0909 - val_accuracy: 0.4501\n",
      "Epoch 81/100\n",
      "18117/18117 [==============================] - 0s 27us/step - loss: 1.1456 - accuracy: 0.3913 - val_loss: 1.1218 - val_accuracy: 0.3711\n",
      "Epoch 82/100\n",
      "18117/18117 [==============================] - 0s 27us/step - loss: 1.1519 - accuracy: 0.3884 - val_loss: 1.0889 - val_accuracy: 0.4257\n",
      "Epoch 83/100\n",
      "18117/18117 [==============================] - 0s 27us/step - loss: 1.1448 - accuracy: 0.3923 - val_loss: 1.0869 - val_accuracy: 0.4317\n",
      "Epoch 84/100\n",
      "18117/18117 [==============================] - 0s 27us/step - loss: 1.1443 - accuracy: 0.3956 - val_loss: 1.1111 - val_accuracy: 0.4143\n",
      "Epoch 85/100\n",
      "18117/18117 [==============================] - 0s 27us/step - loss: 1.1430 - accuracy: 0.3966 - val_loss: 1.0895 - val_accuracy: 0.4024\n",
      "Epoch 86/100\n",
      "18117/18117 [==============================] - 0s 27us/step - loss: 1.1321 - accuracy: 0.4037 - val_loss: 1.0898 - val_accuracy: 0.4188\n",
      "Epoch 87/100\n",
      "18117/18117 [==============================] - 0s 27us/step - loss: 1.1306 - accuracy: 0.4067 - val_loss: 1.0855 - val_accuracy: 0.4411\n",
      "Epoch 88/100\n",
      "18117/18117 [==============================] - 0s 27us/step - loss: 1.1320 - accuracy: 0.4082 - val_loss: 1.0818 - val_accuracy: 0.4252\n",
      "Epoch 89/100\n",
      "18117/18117 [==============================] - 0s 27us/step - loss: 1.1280 - accuracy: 0.4091 - val_loss: 1.0761 - val_accuracy: 0.4630\n",
      "Epoch 90/100\n",
      "18117/18117 [==============================] - 0s 27us/step - loss: 1.1279 - accuracy: 0.4087 - val_loss: 1.0780 - val_accuracy: 0.4570\n",
      "Epoch 91/100\n",
      "18117/18117 [==============================] - 1s 28us/step - loss: 1.1317 - accuracy: 0.4076 - val_loss: 1.0795 - val_accuracy: 0.4466\n",
      "Epoch 92/100\n",
      "18117/18117 [==============================] - 0s 27us/step - loss: 1.1243 - accuracy: 0.4102 - val_loss: 1.0757 - val_accuracy: 0.4545\n",
      "Epoch 93/100\n",
      "18117/18117 [==============================] - 1s 28us/step - loss: 1.1217 - accuracy: 0.4089 - val_loss: 1.0754 - val_accuracy: 0.4545\n",
      "Epoch 94/100\n",
      "18117/18117 [==============================] - 0s 27us/step - loss: 1.1171 - accuracy: 0.4194 - val_loss: 1.0806 - val_accuracy: 0.4372\n",
      "Epoch 95/100\n",
      "18117/18117 [==============================] - 0s 27us/step - loss: 1.1264 - accuracy: 0.4074 - val_loss: 1.0732 - val_accuracy: 0.4739\n",
      "Epoch 96/100\n",
      "18117/18117 [==============================] - 1s 28us/step - loss: 1.1179 - accuracy: 0.4194 - val_loss: 1.0979 - val_accuracy: 0.4262\n",
      "Epoch 97/100\n",
      "18117/18117 [==============================] - 1s 28us/step - loss: 1.1091 - accuracy: 0.4228 - val_loss: 1.0671 - val_accuracy: 0.4680\n",
      "Epoch 98/100\n",
      "18117/18117 [==============================] - 1s 35us/step - loss: 1.1102 - accuracy: 0.4248 - val_loss: 1.0623 - val_accuracy: 0.4704\n",
      "Epoch 99/100\n",
      "18117/18117 [==============================] - 1s 29us/step - loss: 1.1145 - accuracy: 0.4212 - val_loss: 1.0716 - val_accuracy: 0.4382\n",
      "Epoch 100/100\n",
      "18117/18117 [==============================] - 1s 32us/step - loss: 1.1109 - accuracy: 0.4240 - val_loss: 1.0701 - val_accuracy: 0.4456\n",
      "Accuracy: 0.42479440569877625, Validation accuracy: 0.47391951084136963\n"
     ]
    }
   ],
   "source": [
    "model = create_model(1e-05, 0.2)\n",
    "history = model.fit(\n",
    "            X_train,\n",
    "            y_train_categorical,\n",
    "            epochs=100,\n",
    "            validation_split=0.1,\n",
    "            verbose=1)\n",
    "val_acc = max(history.history['val_accuracy'])\n",
    "acc = max(history.history['accuracy'])\n",
    "print('Accuracy: {0}, Validation accuracy: {1}'.format(acc, val_acc))"
   ]
  },
  {
   "cell_type": "code",
   "execution_count": 16,
   "metadata": {},
   "outputs": [
    {
     "data": {
      "image/png": "[encoded data removed]",
      "text/plain": [
       "<Figure size 432x288 with 1 Axes>"
      ]
     },
     "metadata": {
      "needs_background": "light"
     },
     "output_type": "display_data"
    }
   ],
   "source": [
    "import matplotlib.pyplot as plt\n",
    "\n",
    "plt.plot(history.history['loss'], label='train')\n",
    "plt.plot(history.history['val_loss'], label='validation')\n",
    "plt.legend()\n",
    "plt.show()"
   ]
  },
  {
   "cell_type": "code",
   "execution_count": 37,
   "metadata": {},
   "outputs": [
    {
     "data": {
      "image/png": "[encoded data removed]",
      "text/plain": [
       "<Figure size 432x288 with 1 Axes>"
      ]
     },
     "metadata": {
      "needs_background": "light"
     },
     "output_type": "display_data"
    }
   ],
   "source": [
    "plt.plot(history.history['accuracy'], label='accuracy')\n",
    "plt.plot(history.history['val_accuracy'], label='validation accuracy')\n",
    "plt.legend()\n",
    "plt.show()"
   ]
  },
  {
   "cell_type": "code",
   "execution_count": 38,
   "metadata": {},
   "outputs": [
    {
     "name": "stdout",
     "output_type": "stream",
     "text": [
      "[0 1 2]\n",
      "Test set accuracy: 0.4205665024630542\n"
     ]
    }
   ],
   "source": [
    "# Take the most probable prediction\n",
    "# print(model.predict(X_test))\n",
    "predictions = np.argmax(model.predict(X_test), axis=1)\n",
    "print(np.unique(predictions))\n",
    "# Calculate accuracy\n",
    "accuracy = (predictions == y_test).mean()\n",
    "print(\"Test set accuracy:\", accuracy)"
   ]
  },
  {
   "cell_type": "markdown",
   "metadata": {},
   "source": [
    "# Let us plot the confusion matrix"
   ]
  },
  {
   "cell_type": "code",
   "execution_count": 39,
   "metadata": {},
   "outputs": [
    {
     "name": "stdout",
     "output_type": "stream",
     "text": [
      "3164\n",
      "[0 1 2]\n",
      "Neural network confusion matrix: \n",
      "                    Home wins (pred)  Draw (pred)  Home loses (pred)\n",
      "Home wins (true)                798         1292                147\n",
      "Draw (true)                     174          913                143\n",
      "Home loses (true)               108          959                338\n",
      "\n",
      " True labels distribution: \n",
      "\n"
     ]
    },
    {
     "data": {
      "image/png": "[encoded data removed]",
      "text/plain": [
       "<Figure size 432x288 with 1 Axes>"
      ]
     },
     "metadata": {
      "needs_background": "light"
     },
     "output_type": "display_data"
    }
   ],
   "source": [
    "# from utils.data_processing import build_confusion_matrix\n",
    "\n",
    "# TODO: Remove this and use the commented import instead\n",
    "def build_confusion_matrix(y_true, y_pred):\n",
    "    return pd.DataFrame(confusion_matrix(y_true, y_pred, labels=[2, 1, 0]),\n",
    "                        index=['Home wins (true)', 'Draw (true)', 'Home loses (true)'],\n",
    "                        columns=['Home wins (pred)', 'Draw (pred)', 'Home loses (pred)'])\n",
    "\n",
    "print(np.sum((predictions == 1)))\n",
    "print(np.unique(predictions))\n",
    "print(\"Neural network confusion matrix: \\n\", build_confusion_matrix(y_test, predictions))\n",
    "\n",
    "\n",
    "print('\\n True labels distribution: \\n')\n",
    "plot_labels_histogram(y_test)"
   ]
  },
  {
   "cell_type": "markdown",
   "metadata": {},
   "source": [
    "# Comparing Neural network to Random forest"
   ]
  },
  {
   "cell_type": "code",
   "execution_count": 40,
   "metadata": {},
   "outputs": [],
   "source": [
    "#Splitting the data into Train, Calibrate, and Test data sets\n",
    "#X_train_calibrate, X_test, y_train_calibrate, y_test = train_test_split(features, labels, test_size = 0.25, random_state = 0, stratify = labels)\n",
    "X_train_calibrate = X_train\n",
    "y_train_calibrate = y_train\n",
    "X_train, X_calibrate, y_train, y_calibrate = train_test_split(X_train_calibrate, y_train_calibrate, test_size = 0.25, random_state = 0, stratify = y_train_calibrate)\n"
   ]
  },
  {
   "cell_type": "code",
   "execution_count": 45,
   "metadata": {},
   "outputs": [
    {
     "name": "stdout",
     "output_type": "stream",
     "text": [
      "Random forest accuracy for train set.\n",
      "Random forest accuracy for test set\n",
      "Training a RandomForestClassifier with PCA...\n",
      "Trained RandomForestClassifier in 30.1 minutes\n",
      "Calibrating probabilities of classifier...\n",
      "Calibrated CalibratedClassifierCV in 0.0 minutes\n",
      "Made predictions in 2.4444 seconds\n",
      "Score of CalibratedClassifierCV for training set: 1.0000.\n",
      "Made predictions in 0.9006 seconds\n",
      "Score of CalibratedClassifierCV for test set: 0.5807.\n",
      "Made predictions in 2.3736 seconds\n",
      "Made predictions in 0.8684 seconds\n"
     ]
    }
   ],
   "source": [
    "from utils.data_processing import train_calibrate_predict\n",
    "\n",
    "# Creating cross validation data splits\n",
    "cv_sets = model_selection.StratifiedShuffleSplit(n_splits = 5, test_size = 0.20, random_state = 5)\n",
    "cv_sets.get_n_splits(X_train, y_train)\n",
    "\n",
    "# Init Random Forest\n",
    "RF_clf = RandomForestClassifier(n_estimators = 200, random_state = 1, class_weight = 'balanced')\n",
    "\n",
    "#Specficying scorer and parameters for grid search\n",
    "feature_len = X_train.shape[1]\n",
    "scorer = make_scorer(accuracy_score)\n",
    "parameters_RF = {'clf__max_features': ['auto', 'log2'], 'dm_reduce__n_components': np.arange(5, feature_len, int(np.around(feature_len/5)))}\n",
    "\n",
    "#Initializing dimensionality reductions\n",
    "pca = PCA()\n",
    "RF_clf.fit(X_train, y_train)\n",
    "\n",
    "print(\"Random forest accuracy for train set.\".format(RF_clf.__class__.__name__, accuracy_score(y_train, RF_clf.predict(X_train))))\n",
    "print(\"Random forest accuracy for test set\".format(RF_clf.__class__.__name__, accuracy_score(y_test, RF_clf.predict(X_test))))\n",
    "\n",
    "#Grid search, calibrate, and test the classifier\n",
    "calibrated_RF_clf, dm_reduce, train_score, test_score = train_calibrate_predict(clf = RF_clf, dm_reduction = pca, X_train = X_train, y_train = y_train,\n",
    "                                                                  X_calibrate = X_calibrate, y_calibrate = y_calibrate,\n",
    "                                                                  X_test = X_test, y_test = y_test, cv_sets = cv_sets,\n",
    "                                                                  params = parameters_RF, scorer = scorer, jobs = 1, use_grid_search = True)"
   ]
  },
  {
   "cell_type": "code",
   "execution_count": 48,
   "metadata": {},
   "outputs": [
    {
     "name": "stdout",
     "output_type": "stream",
     "text": [
      "Random forest test set accuracy: 0.5769704433497537\n"
     ]
    }
   ],
   "source": [
    "rf_predictions = RF_clf.predict(X_test)\n",
    "\n",
    "# Calculate accuracy\n",
    "accuracy = (rf_predictions == y_test).mean()\n",
    "print(\"Random forest test set accuracy:\", accuracy)"
   ]
  },
  {
   "cell_type": "code",
   "execution_count": 49,
   "metadata": {},
   "outputs": [
    {
     "name": "stdout",
     "output_type": "stream",
     "text": [
      "Random forest confusion matrix: \n",
      "                    Home wins (pred)  Draw (pred)  Home loses (pred)\n",
      "Home wins (true)               1543          350                344\n",
      "Draw (true)                     389          547                294\n",
      "Home loses (true)               366          318                721\n"
     ]
    }
   ],
   "source": [
    "print(\"Random forest confusion matrix: \\n\", build_confusion_matrix(y_test, rf_predictions))"
   ]
  },
  {
   "cell_type": "markdown",
   "metadata": {},
   "source": [
    "# Conclusion"
   ]
  },
  {
   "cell_type": "markdown",
   "metadata": {},
   "source": [
    "Random Forest Classifier is more effective in predicting football games"
   ]
  },
  {
   "cell_type": "code",
   "execution_count": null,
   "metadata": {},
   "outputs": [],
   "source": []
  }
 ],
 "metadata": {
  "kernelspec": {
   "display_name": "Python 3",
   "language": "python",
   "name": "python3"
  },
  "language_info": {
   "codemirror_mode": {
    "name": "ipython",
    "version": 3
   },
   "file_extension": ".py",
   "mimetype": "text/x-python",
   "name": "python",
   "nbconvert_exporter": "python",
   "pygments_lexer": "ipython3",
   "version": "3.7.7"
  }
 },
 "nbformat": 4,
 "nbformat_minor": 2
}
